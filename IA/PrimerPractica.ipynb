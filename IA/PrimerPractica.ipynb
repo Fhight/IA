{
 "cells": [
  {
   "cell_type": "code",
   "execution_count": 1,
   "id": "d7af88c2-11ae-49fd-8521-df9738e4bbd9",
   "metadata": {},
   "outputs": [
    {
     "name": "stderr",
     "output_type": "stream",
     "text": [
      "\n",
      "KeyboardInterrupt\n",
      "\n"
     ]
    }
   ],
   "source": [
    "img = cv.imread('ITM.jpg',0)\n",
    "print(img.shape, img.size)\n",
    "w = img.shape[0]\n",
    "h = img.shape[1]\n",
    "#c = img.shape[2]\n",
    "#w1, h1 = img.shape\n",
    "img2 = img\n",
    "#cv.imshow('imagen', img2)\n",
    "for x in range(w):\n",
    "    for y in range(h):\n",
    "        if(img[x,y]>50):\n",
    "            img[x,y]=255\n",
    "        else:\n",
    "            img[x,y]=0\n",
    "\n",
    "#cv.imshow('imagen1', img)\n",
    "cv.waitKey(0)\n",
    "cv.destroyAllWindows()"
   ]
  },
  {
   "cell_type": "code",
   "execution_count": null,
   "id": "035fb1c7-8084-4bdc-ab83-173842da2bfa",
   "metadata": {},
   "outputs": [
    {
     "data": {
      "text/plain": [
       "'d:\\\\Apps Moviles\\\\IA\\\\Moviles\\\\IA'"
      ]
     },
     "execution_count": 4,
     "metadata": {},
     "output_type": "execute_result"
    }
   ],
   "source": [
    "pwd"
   ]
  },
  {
   "cell_type": "code",
   "execution_count": null,
   "id": "e8a0d5fb-aeda-4667-be7e-3de21d8be9e2",
   "metadata": {},
   "outputs": [
    {
     "ename": "NameError",
     "evalue": "name 'np' is not defined",
     "output_type": "error",
     "traceback": [
      "\u001b[1;31m---------------------------------------------------------------------------\u001b[0m",
      "\u001b[1;31mNameError\u001b[0m                                 Traceback (most recent call last)",
      "Cell \u001b[1;32mIn[5], line 6\u001b[0m\n\u001b[0;32m      3\u001b[0m cv\u001b[39m.\u001b[39mimshow(\u001b[39m'\u001b[39m\u001b[39mimg\u001b[39m\u001b[39m'\u001b[39m,img)\n\u001b[0;32m      4\u001b[0m cv\u001b[39m.\u001b[39mimshow(\u001b[39m'\u001b[39m\u001b[39mimg2\u001b[39m\u001b[39m'\u001b[39m,img2)\n\u001b[1;32m----> 6\u001b[0m zero \u001b[39m=\u001b[39m np\u001b[39m.\u001b[39mzeros(img\u001b[39m.\u001b[39mshape[:\u001b[39m2\u001b[39m], dtype\u001b[39m=\u001b[39m\u001b[39m'\u001b[39m\u001b[39muint8\u001b[39m\u001b[39m'\u001b[39m)\n\u001b[0;32m      7\u001b[0m (r,g,b)\u001b[39m=\u001b[39mcv\u001b[39m.\u001b[39msplit(img)\n\u001b[0;32m      9\u001b[0m cv\u001b[39m.\u001b[39mimshow(\u001b[39m'\u001b[39m\u001b[39mB\u001b[39m\u001b[39m'\u001b[39m,cv\u001b[39m.\u001b[39mmerbe([b,zero,zero]))\n",
      "\u001b[1;31mNameError\u001b[0m: name 'np' is not defined"
     ]
    }
   ],
   "source": [
    "img = cv.imread('ITM.jpg', 1)\n",
    "img2 = cv.cvtColor(img, cv.COLOR_BGR2RGB)\n",
    "cv.imshow('img',img)\n",
    "cv.imshow('img2',img2)\n",
    "\n",
    "zero = np.zeros(img.shape[:2], dtype='uint8')\n",
    "(r,g,b)=cv.split(img)\n",
    "\n",
    "cv.imshow('B',cv.merbe([b,zero,zero]))\n",
    "cv.imshow('G',cv.merbe([zero,g,zero]))\n",
    "cv.imshow('R',cv.merbe([zero,zero,r]))\n",
    "\n",
    "cv.waitKey(0)\n",
    "cv.destroyAllWindows()"
   ]
  },
  {
   "cell_type": "code",
   "execution_count": null,
   "id": "ff8c620a-9c60-4f55-86d0-8a5662e30d08",
   "metadata": {},
   "outputs": [],
   "source": [
    "import cv2 as cv"
   ]
  },
  {
   "cell_type": "code",
   "execution_count": null,
   "id": "1ee5a4c2-f87b-477c-ae89-2d5e70a8786f",
   "metadata": {},
   "outputs": [],
   "source": [
    "img = cv.imread('./f1.jpg', 1)\n",
    "img2 = cv.cvtColor(img, cv.COLOR_BGR2RGB)\n",
    "img3 = cv.cvtColor(img2, cv.COLOR_BGR2RGB)\n",
    "\n",
    "umbralBajo = (0, 80, 80)\n",
    "umbralAlto = (10, 255, 255)\n",
    "umbralBajoB = (170,80, 80)\n",
    "umbralAltoB = (180, 255, 255)\n",
    "\n",
    "umbralAmarillo = (20, 50, 50)\n",
    "umbralAmarilloB = (40, 255, 255)\n",
    "\n",
    "mascara1 = cv.inRange(img3, umbralBajo, umbralAlto)\n",
    "\n",
    "mascara2 = cv.inRange(img3, umbralBajoB, umbralAltoB)\n",
    "\n",
    "mascara = mascara1 + mascara2\n",
    "\n",
    "mascaraAmarillo = cv.inRange(img3, umbralAmarillo, umbralAmarilloB)\n",
    "\n",
    "#resultado =  cv.bitwise_and(img, img, mask=mascara)\n",
    "\n",
    "resultado =  cv.bitwise_and(img, img, mask=mascaraAmarillo)\n",
    "\n",
    "cv.imshow('resultado', resultado)\n",
    "cv.imshow('mascara',mascara)\n",
    "cv.imshow('ITM',img)\n",
    "cv.imshow('ITM2',img2)\n",
    "cv.imshow('ITM3',img3)\n",
    "\n",
    "cv.waitKey(0)\n",
    "cv.destroyAllWindows()"
   ]
  },
  {
   "cell_type": "code",
   "execution_count": 38,
   "id": "aed290a2-d859-408b-878a-117cb27dd766",
   "metadata": {},
   "outputs": [
    {
     "ename": "KeyboardInterrupt",
     "evalue": "",
     "output_type": "error",
     "traceback": [
      "\u001b[1;31m---------------------------------------------------------------------------\u001b[0m",
      "\u001b[1;31mKeyboardInterrupt\u001b[0m                         Traceback (most recent call last)",
      "Cell \u001b[1;32mIn[38], line 10\u001b[0m\n\u001b[0;32m      8\u001b[0m ret, frame \u001b[39m=\u001b[39m cap\u001b[39m.\u001b[39mread()\n\u001b[0;32m      9\u001b[0m gray \u001b[39m=\u001b[39m cv\u001b[39m.\u001b[39mcvtColor(frame, cv\u001b[39m.\u001b[39mCOLOR_BGR2GRAY)\n\u001b[1;32m---> 10\u001b[0m rostros \u001b[39m=\u001b[39m rostro\u001b[39m.\u001b[39;49mdetectMultiScale(gray, \u001b[39m1.3\u001b[39;49m, \u001b[39m5\u001b[39;49m)\n\u001b[0;32m     11\u001b[0m \u001b[39mfor\u001b[39;00m(x,y,w,h) \u001b[39min\u001b[39;00m rostros:\n\u001b[0;32m     12\u001b[0m     \u001b[39m#Rostro completo\u001b[39;00m\n\u001b[0;32m     13\u001b[0m     frame \u001b[39m=\u001b[39m cv\u001b[39m.\u001b[39mrectangle(frame, (x,y), (x\u001b[39m+\u001b[39mw, y\u001b[39m+\u001b[39mh), (\u001b[39m255\u001b[39m,\u001b[39m0\u001b[39m,\u001b[39m0\u001b[39m), \u001b[39m5\u001b[39m)\n",
      "\u001b[1;31mKeyboardInterrupt\u001b[0m: "
     ]
    }
   ],
   "source": [
    "import numpy as np\n",
    "import cv2 as cv\n",
    "import math\n",
    "\n",
    "rostro = cv.CascadeClassifier('haarcascade_frontalface_alt.xml')\n",
    "cap = cv.VideoCapture(0)\n",
    "while True:\n",
    "    ret, frame = cap.read()\n",
    "    gray = cv.cvtColor(frame, cv.COLOR_BGR2GRAY)\n",
    "    rostros = rostro.detectMultiScale(gray, 1.3, 5)\n",
    "    for(x,y,w,h) in rostros:\n",
    "        #Rostro completo\n",
    "        frame = cv.rectangle(frame, (x,y), (x+w, y+h), (255,0,0), 5)\n",
    "        #OjoIzquierdo\n",
    "        frame = cv.rectangle(frame, (x+10,y+100), (x+w-100, y+h-150), (0,255,0), 5)\n",
    "        # OjoDerecho\n",
    "        frame = cv.rectangle(frame, (x+170,y+100), (x+w-100, y+h-150), (50,150,100), 5)\n",
    "        #Boca\n",
    "        frame = cv.rectangle(frame, (x+170,y+100), (x+w-100, y+h), (100,50,150), 5)\n",
    "        \n",
    "        w1=int(w/2)\n",
    "        h1=int(h/2)\n",
    "        #Nariz\n",
    "        frame = cv.circle(frame, (x+w1 , y+h1+15), 20, (0,0,255), 3)\n",
    "    \n",
    "    cv.imshow('rostros', frame)\n",
    "    k = cv.waitKey(1)\n",
    "    if k == 27:\n",
    "        break\n",
    "\n",
    "cap.release()\n",
    "cv.destroyAllWindows()\n"
   ]
  },
  {
   "cell_type": "code",
   "execution_count": 1,
   "id": "ecd4e216",
   "metadata": {},
   "outputs": [],
   "source": [
    "import numpy as np\n",
    "import cv2 as cv\n",
    "\n",
    "img = cv.imread('./camino.jpg', 1)\n",
    "img2 = cv.cvtColor(img, cv.COLOR_BGR2RGB)\n",
    "img3 = cv.cvtColor(img2, cv.COLOR_BGR2RGB)\n",
    "\n",
    "umbralBajo = (20, 50, 50)\n",
    "umbralAlto = (40, 255, 255)\n",
    "umbralBajoB = (70,80, 80)\n",
    "umbralAltoB = (110, 255, 255)\n",
    "\n",
    "umbralAmarillo = (20, 50, 50)\n",
    "umbralAmarilloB = (40, 255, 255)\n",
    "\n",
    "mascara1 = cv.inRange(img3, umbralBajo, umbralAlto)\n",
    "\n",
    "mascara2 = cv.inRange(img3, umbralBajoB, umbralAltoB)\n",
    "\n",
    "mascara = mascara1 + mascara2\n",
    "\n",
    "mascaraAmarillo = cv.inRange(img3, umbralAmarillo, umbralAmarilloB)\n",
    "\n",
    "#resultado =  cv.bitwise_and(img, img, mask=mascara)\n",
    "resultado =  cv.bitwise_and(img3, img, mask=mascara1)\n",
    "\n",
    "# resultado =  cv.bitwise_and(img3, umbralBajo, umbralAlto)\n",
    "\n",
    "cv.imshow('resultado', resultado)\n",
    "cv.imshow('mascara',mascara1)\n",
    "cv.imshow('ITM',img)\n",
    "#cv.imshow('ITM2',img2)\n",
    "cv.imshow('ITM3',img3)\n",
    "\n",
    "cv.waitKey(0)\n",
    "cv.destroyAllWindows()"
   ]
  },
  {
   "cell_type": "code",
   "execution_count": 2,
   "id": "bdba6737",
   "metadata": {},
   "outputs": [
    {
     "ename": "KeyboardInterrupt",
     "evalue": "",
     "output_type": "error",
     "traceback": [
      "\u001b[1;31m---------------------------------------------------------------------------\u001b[0m",
      "\u001b[1;31mKeyboardInterrupt\u001b[0m                         Traceback (most recent call last)",
      "\u001b[1;32mc:\\Users\\jpabl\\IA\\IA\\PrimerPractica.ipynb Cell 8\u001b[0m line \u001b[0;36m1\n\u001b[0;32m      <a href='vscode-notebook-cell:/c%3A/Users/jpabl/IA/IA/PrimerPractica.ipynb#X10sZmlsZQ%3D%3D?line=7'>8</a>\u001b[0m ret, frame \u001b[39m=\u001b[39m cap\u001b[39m.\u001b[39mread()\n\u001b[0;32m      <a href='vscode-notebook-cell:/c%3A/Users/jpabl/IA/IA/PrimerPractica.ipynb#X10sZmlsZQ%3D%3D?line=8'>9</a>\u001b[0m gray \u001b[39m=\u001b[39m cv\u001b[39m.\u001b[39mcvtColor(frame, cv\u001b[39m.\u001b[39mCOLOR_BGR2GRAY)\n\u001b[1;32m---> <a href='vscode-notebook-cell:/c%3A/Users/jpabl/IA/IA/PrimerPractica.ipynb#X10sZmlsZQ%3D%3D?line=9'>10</a>\u001b[0m rostros \u001b[39m=\u001b[39m rostro\u001b[39m.\u001b[39;49mdetectMultiScale(gray, \u001b[39m1.3\u001b[39;49m, \u001b[39m5\u001b[39;49m)\n\u001b[0;32m     <a href='vscode-notebook-cell:/c%3A/Users/jpabl/IA/IA/PrimerPractica.ipynb#X10sZmlsZQ%3D%3D?line=10'>11</a>\u001b[0m \u001b[39mfor\u001b[39;00m(x,y,w,h) \u001b[39min\u001b[39;00m rostros:\n\u001b[0;32m     <a href='vscode-notebook-cell:/c%3A/Users/jpabl/IA/IA/PrimerPractica.ipynb#X10sZmlsZQ%3D%3D?line=11'>12</a>\u001b[0m     \u001b[39m#Rostro completo\u001b[39;00m\n\u001b[0;32m     <a href='vscode-notebook-cell:/c%3A/Users/jpabl/IA/IA/PrimerPractica.ipynb#X10sZmlsZQ%3D%3D?line=12'>13</a>\u001b[0m     frame \u001b[39m=\u001b[39m cv\u001b[39m.\u001b[39mrectangle(frame, (x,y), (x\u001b[39m+\u001b[39mw, y\u001b[39m+\u001b[39mh), (\u001b[39m255\u001b[39m,\u001b[39m0\u001b[39m,\u001b[39m0\u001b[39m), \u001b[39m5\u001b[39m)\n",
      "\u001b[1;31mKeyboardInterrupt\u001b[0m: "
     ]
    }
   ],
   "source": [
    "import numpy as np\n",
    "import cv2 as cv\n",
    "import math\n",
    "\n",
    "rostro = cv.CascadeClassifier('haarcascade_frontalface_alt.xml')\n",
    "cap = cv.VideoCapture(0)\n",
    "while True:\n",
    "    ret, frame = cap.read()\n",
    "    gray = cv.cvtColor(frame, cv.COLOR_BGR2GRAY)\n",
    "    rostros = rostro.detectMultiScale(gray, 1.3, 5)\n",
    "    for(x,y,w,h) in rostros:\n",
    "        #Rostro completo\n",
    "        frame = cv.rectangle(frame, (x,y), (x+w, y+h), (255,0,0), 5)\n",
    "        #OjoIzquierdo\n",
    "        frame = cv.rectangle(frame, (x+30,y+30), (x+w+30, y+h+100), (0,255,0), 5)\n",
    "        frame2 = frame[x:x+w, y:y+h]\n",
    "        cv.imshow('rostros2', frame2)\n",
    "        \n",
    "        #w1=int(w/2)\n",
    "        #h1=int(h/2)\n",
    "        #Nariz\n",
    "    \n",
    "    cv.imshow('rostros', frame)\n",
    "    k = cv.waitKey(1)\n",
    "    if k == 27:\n",
    "        break\n",
    "\n",
    "cap.release()\n",
    "cv.destroyAllWindows()\n",
    "\n"
   ]
  },
  {
   "cell_type": "code",
   "execution_count": 1,
   "id": "f7413ed8",
   "metadata": {},
   "outputs": [],
   "source": [
    "#Tomar fotos para el dataset, presionar s para guardar la imagen\n",
    "import numpy as np\n",
    "import cv2 as cv\n",
    "import math\n",
    "\n",
    "cap = cv.VideoCapture(0)\n",
    "i=0\n",
    "while True:\n",
    "    ret, frame = cap.read()\n",
    "\n",
    "    frame = cv.rectangle(frame, (100,100), (400, 400), (255,0,0), 3)\n",
    "    frame2 = frame[100:400, 100:400]\n",
    "\n",
    "    frame4 = cv.resize(frame, (1050,1630))    \n",
    "\n",
    "    frame5 = cv.resize(frame2, (780,540), interpolation= cv.INTER_LINEAR)\n",
    "\n",
    "    cv.imshow('frame', frame)\n",
    "    cv.imshow('dataset', frame2)\n",
    "    k = cv.waitKey(1)\n",
    "    if k == ord('s'):\n",
    "        i=i+1\n",
    "        cv.imwrite('/Users/jpabl/IA/IA/entorno/n/'+str(i)+'.jpg', frame2)\n",
    "    if k == 27:\n",
    "        break\n",
    "\n",
    "cap.release()\n",
    "cv.destroyAllWindows()"
   ]
  }
 ],
 "metadata": {
  "kernelspec": {
   "display_name": "Python 3 (ipykernel)",
   "language": "python",
   "name": "python3"
  },
  "language_info": {
   "codemirror_mode": {
    "name": "ipython",
    "version": 3
   },
   "file_extension": ".py",
   "mimetype": "text/x-python",
   "name": "python",
   "nbconvert_exporter": "python",
   "pygments_lexer": "ipython3",
   "version": "3.11.2"
  }
 },
 "nbformat": 4,
 "nbformat_minor": 5
}
