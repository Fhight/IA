{
 "cells": [
  {
   "cell_type": "code",
   "execution_count": 15,
   "metadata": {},
   "outputs": [
    {
     "name": "stdout",
     "output_type": "stream",
     "text": [
      "Se encontró una solución. El laberinto resuelto es:\n",
      "[1, 1, 1, 1, 1, 1, 1, 1, 1]\n",
      "[3, 4, 4, 4, 0, 0, 1, 0, 1]\n",
      "[1, 1, 1, 4, 1, 1, 1, 0, 1]\n",
      "[1, 4, 4, 4, 1, 0, 1, 0, 1]\n",
      "[1, 4, 1, 1, 1, 0, 1, 0, 1]\n",
      "[1, 4, 0, 0, 0, 0, 0, 0, 1]\n",
      "[1, 4, 1, 1, 1, 0, 1, 0, 1]\n",
      "[4, 4, 1, 0, 0, 0, 1, 0, 1]\n",
      "[1, 1, 1, 1, 1, 1, 1, 1, 1]\n"
     ]
    },
    {
     "data": {
      "text/plain": [
       "False"
      ]
     },
     "execution_count": 15,
     "metadata": {},
     "output_type": "execute_result"
    }
   ],
   "source": [
    "laberinto = [\n",
    "    [1, 1, 1, 1, 1, 1, 1, 1, 1],\n",
    "    [3, 0, 0, 0, 0, 0, 1, 0, 1],\n",
    "    [1, 1, 1, 0, 1, 1, 1, 0, 1],\n",
    "    [1, 0, 0, 0, 1, 0, 1, 0, 1],\n",
    "    [1, 0, 1, 1, 1, 0, 1, 0, 1],\n",
    "    [1, 0, 0, 0, 0, 0, 0, 0, 1],\n",
    "    [1, 0, 1, 1, 1, 0, 1, 0, 1],\n",
    "    [2, 0, 1, 0, 0, 0, 1, 0, 1],\n",
    "    [1, 1, 1, 1, 1, 1, 1, 1, 1],\n",
    "]\n",
    "\n",
    "def resolver_laberinto(laberinto, fila, columna):\n",
    "    if fila < 0 or columna < 0 or fila >= len(laberinto) or columna >= len(laberinto[0]):\n",
    "        return False\n",
    "    if laberinto[fila][columna] == 3:\n",
    "        return True\n",
    "    if laberinto[fila][columna] == 1 or laberinto[fila][columna] == 4:\n",
    "        return False\n",
    "    laberinto[fila][columna] = 4\n",
    "    if (resolver_laberinto(laberinto, fila + 1, columna) or\n",
    "        resolver_laberinto(laberinto, fila - 1, columna) or\n",
    "        resolver_laberinto(laberinto, fila, columna + 1) or\n",
    "        resolver_laberinto(laberinto, fila, columna - 1)):\n",
    "        return True\n",
    "    laberinto[fila][columna] = 0\n",
    "    return False\n",
    "for i in range(len(laberinto)):\n",
    "    for j in range(len(laberinto[0])):\n",
    "        if laberinto[i][j] == 2:\n",
    "            inicio_fila, inicio_columna = i, j\n",
    "if resolver_laberinto(laberinto, inicio_fila, inicio_columna):\n",
    "    print(\"Se encontró una solución. El laberinto resuelto es:\")\n",
    "    for fila in laberinto:\n",
    "        print(fila)\n",
    "else:\n",
    "    print(\"No hay solución para el laberinto.\")\n",
    "\n",
    "\n",
    "resolver_laberinto(laberinto, 7, 0)"
   ]
  }
 ],
 "metadata": {
  "kernelspec": {
   "display_name": "venv",
   "language": "python",
   "name": "python3"
  },
  "language_info": {
   "codemirror_mode": {
    "name": "ipython",
    "version": 3
   },
   "file_extension": ".py",
   "mimetype": "text/x-python",
   "name": "python",
   "nbconvert_exporter": "python",
   "pygments_lexer": "ipython3",
   "version": "3.11.2"
  }
 },
 "nbformat": 4,
 "nbformat_minor": 2
}
