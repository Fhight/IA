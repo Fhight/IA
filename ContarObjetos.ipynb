{
 "cells": [
  {
   "cell_type": "code",
   "execution_count": 36,
   "metadata": {},
   "outputs": [
    {
     "name": "stdout",
     "output_type": "stream",
     "text": [
      "Elementos rojos:608\n"
     ]
    }
   ],
   "source": [
    "import cv2\n",
    "import numpy as np\n",
    "\n",
    "imagen = cv2.imread('./img/Objetos.jpg')\n",
    "\n",
    "hsv = cv2.cvtColor(imagen, cv2.COLOR_BGR2HSV)\n",
    "umbralBajo = np.array([0, 100, 70])\n",
    "umbralAlto = np.array([5, 255, 255])\n",
    "\n",
    "umbralBajo2 = np.array([177, 150, 30])\n",
    "umbralAlto2 = np.array([180, 255, 255])\n",
    "\n",
    "mascara1 = cv2.inRange(hsv, umbralBajo, umbralAlto)\n",
    "mascara2 = cv2.inRange(hsv, umbralBajo2, umbralAlto2)\n",
    "\n",
    "mascara1 = cv2.add(mascara1, mascara2)\n",
    "\n",
    "resultado =  cv2.bitwise_and(imagen, imagen, mask=mascara1)\n",
    "\n",
    "contornos, _ = cv2.findContours(mascara1, cv2.RETR_TREE, cv2.CHAIN_APPROX_SIMPLE)\n",
    "\n",
    "elementos = len(contornos)\n",
    "\n",
    "print('Elementos rojos:' + str(elementos))\n",
    "\n",
    "for contorno in contornos:\n",
    "    cv2.drawContours(imagen, [contorno], -1, (0, 255, 0), 3)\n",
    "\n",
    "cv2.imshow('imagen', imagen)\n",
    "cv2.imshow('Objeto2', mascara1)\n",
    "cv2.imshow('resultado', resultado)\n",
    "cv2.waitKey(0)\n",
    "cv2.destroyAllWindows()\n"
   ]
  },
  {
   "cell_type": "code",
   "execution_count": 26,
   "metadata": {},
   "outputs": [],
   "source": [
    "import cv2 as cv\n",
    "\n",
    "img = cv.imread('./img/Objetos.jpg', 1)\n",
    "img2 = cv.cvtColor(img, cv.COLOR_BGR2RGB)\n",
    "img3 = cv.cvtColor(img2, cv.COLOR_BGR2HSV)\n",
    "\n",
    "\n",
    "umbralRojo = (0, 130, 130)\n",
    "umbralRojoB = (5, 255, 255)\n",
    "\n",
    "umbralRojo2 = (170, 130, 130)\n",
    "umbralRojoB2 = (180, 255, 255)\n",
    "\n",
    "mascara1 =  cv.inRange(img, umbralRojo, umbralRojoB)\n",
    "mascara2 =  cv.inRange(img, umbralRojo2, umbralRojoB2)\n",
    "\n",
    "mascara = cv.add(mascara1, mascara2)\n",
    "\n",
    "#resultado =  cv.bitwise_and(img, img, mask=mascara),\n",
    "\n",
    "resultado =  cv.bitwise_and(img, img, mask=mascara)\n",
    "\n",
    "cv.imshow('resultado', resultado)\n",
    "cv.imshow('mascaraAmarillo', mascara)\n",
    "cv.imshow('ITM',img)\n",
    "cv.imshow('ITM2',img3)\n",
    "# cv.imshow('ITM3',img3)\n",
    "\n",
    "cv.waitKey(0)\n",
    "cv.destroyAllWindows()"
   ]
  },
  {
   "cell_type": "code",
   "execution_count": 48,
   "metadata": {},
   "outputs": [
    {
     "name": "stdout",
     "output_type": "stream",
     "text": [
      "Número de objetos: 45\n"
     ]
    }
   ],
   "source": [
    "import cv2\n",
    "import numpy as np\n",
    "\n",
    "imagen = cv2.imread('./img/Objetos.jpg')\n",
    "\n",
    "hsv = cv2.cvtColor(imagen, cv2.COLOR_BGR2HSV)\n",
    "umbralBajo = np.array([0, 100, 70])\n",
    "umbralAlto = np.array([5, 255, 255])\n",
    "\n",
    "umbralBajo2 = np.array([177, 150, 30])\n",
    "umbralAlto2 = np.array([180, 255, 255])\n",
    "\n",
    "mascara1 = cv2.inRange(hsv, umbralBajo, umbralAlto)\n",
    "mascara2 = cv2.inRange(hsv, umbralBajo2, umbralAlto2)\n",
    "\n",
    "mascara = cv2.add(mascara1, mascara2)\n",
    "\n",
    "# Aplicar operación morfológica de apertura para eliminar pequeños ruidos\n",
    "kernel = np.ones((5, 5), np.uint8)\n",
    "mascara = cv2.morphologyEx(mascara, cv2.MORPH_OPEN, kernel)\n",
    "\n",
    "# Encontrar componentes conectados\n",
    "num_labels, labels, stats, centroids = cv2.connectedComponentsWithStats(mascara, connectivity=4)\n",
    "\n",
    "# El número de objetos es num_labels - 1 porque el fondo también se cuenta como un componente\n",
    "num_objetos = num_labels - 1\n",
    "\n",
    "print(\"Número de objetos:\", num_objetos)\n",
    "\n",
    "# Mostrar la imagen original y la máscara\n",
    "cv2.imshow(\"Imagen Original\", imagen)\n",
    "cv2.imshow(\"Máscara\", mascara)\n",
    "cv2.waitKey(0)\n",
    "cv2.destroyAllWindows()\n"
   ]
  }
 ],
 "metadata": {
  "kernelspec": {
   "display_name": "venv",
   "language": "python",
   "name": "python3"
  },
  "language_info": {
   "codemirror_mode": {
    "name": "ipython",
    "version": 3
   },
   "file_extension": ".py",
   "mimetype": "text/x-python",
   "name": "python",
   "nbconvert_exporter": "python",
   "pygments_lexer": "ipython3",
   "version": "3.11.2"
  }
 },
 "nbformat": 4,
 "nbformat_minor": 2
}
