{
 "cells": [
  {
   "cell_type": "code",
   "execution_count": 1,
   "metadata": {},
   "outputs": [
    {
     "name": "stdout",
     "output_type": "stream",
     "text": [
      "Elementos rojos:681\n"
     ]
    }
   ],
   "source": [
    "import cv2\n",
    "import numpy as np\n",
    "\n",
    "imagen = cv2.imread('./Objetos.jpg')\n",
    "\n",
    "hsv = cv2.cvtColor(imagen, cv2.COLOR_BGR2HSV)\n",
    "umbralBajo = np.array([0, 120, 70])\n",
    "umbralAlto = np.array([10, 255, 255])\n",
    "\n",
    "mascara1 = cv2.inRange(hsv, umbralBajo, umbralAlto)\n",
    "\n",
    "contornos, _ = cv2.findContours(mascara1, cv2.RETR_TREE, cv2.CHAIN_APPROX_SIMPLE)\n",
    "\n",
    "elementos = len(contornos)\n",
    "\n",
    "print('Elementos rojos:' + str(elementos))\n",
    "\n",
    "for contorno in contornos:\n",
    "    cv2.drawContours(imagen, [contorno], -1, (0, 255, 0), 3)\n",
    "\n",
    "cv2.imshow('Objeto', imagen)\n",
    "cv2.waitKey(0)\n",
    "cv2.destroyAllWindows()\n"
   ]
  }
 ],
 "metadata": {
  "kernelspec": {
   "display_name": "venv",
   "language": "python",
   "name": "python3"
  },
  "language_info": {
   "codemirror_mode": {
    "name": "ipython",
    "version": 3
   },
   "file_extension": ".py",
   "mimetype": "text/x-python",
   "name": "python",
   "nbconvert_exporter": "python",
   "pygments_lexer": "ipython3",
   "version": "3.11.2"
  }
 },
 "nbformat": 4,
 "nbformat_minor": 2
}
