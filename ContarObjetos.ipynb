{
 "cells": [
  {
   "cell_type": "code",
   "execution_count": 1,
   "metadata": {},
   "outputs": [
    {
     "name": "stdout",
     "output_type": "stream",
     "text": [
      "Número de objetos: 45\n"
     ]
    }
   ],
   "source": [
    "import cv2\n",
    "import numpy as np\n",
    "\n",
    "imagen = cv2.imread('./img/Objetos.jpg')\n",
    "\n",
    "hsv = cv2.cvtColor(imagen, cv2.COLOR_BGR2HSV)\n",
    "umbralBajo = np.array([0, 100, 70])\n",
    "umbralAlto = np.array([5, 255, 255])\n",
    "\n",
    "umbralBajo2 = np.array([177, 150, 30])\n",
    "umbralAlto2 = np.array([180, 255, 255])\n",
    "\n",
    "mascara1 = cv2.inRange(hsv, umbralBajo, umbralAlto)\n",
    "mascara2 = cv2.inRange(hsv, umbralBajo2, umbralAlto2)\n",
    "\n",
    "mascara = cv2.add(mascara1, mascara2)\n",
    "\n",
    "kernel = np.ones((5, 5), np.uint8)\n",
    "mascara = cv2.morphologyEx(mascara, cv2.MORPH_OPEN, kernel)\n",
    "\n",
    "num_labels, labels, stats, centroids = cv2.connectedComponentsWithStats(mascara, connectivity=4)\n",
    "\n",
    "num_objetos = num_labels - 1\n",
    "\n",
    "print(\"Número de objetos:\", num_objetos)\n",
    "\n",
    "cv2.imshow(\"Imagen Original\", imagen)\n",
    "cv2.imshow(\"Máscara\", mascara)\n",
    "cv2.waitKey(0)\n",
    "cv2.destroyAllWindows()\n"
   ]
  },
  {
   "cell_type": "code",
   "execution_count": 6,
   "metadata": {},
   "outputs": [
    {
     "name": "stdout",
     "output_type": "stream",
     "text": [
      "Josephus debe sentarse en la posición: 43\n"
     ]
    }
   ],
   "source": [
    "def josephus_position(n):\n",
    "    m = 0\n",
    "    while 2**m < n:\n",
    "        m += 1\n",
    "\n",
    "    # La posición de Josephus es 2^m + 1\n",
    "    josephus_position = 2**m + 1\n",
    "\n",
    "    return josephus_position\n",
    "\n",
    "# Ejemplo con n = 41\n",
    "n_soldiers = 10\n",
    "result = josephus_position(n_soldiers)\n",
    "print(f\"Josephus debe sentarse en la posición: {result}\")"
   ]
  },
  {
   "cell_type": "code",
   "execution_count": 27,
   "metadata": {},
   "outputs": [
    {
     "name": "stdout",
     "output_type": "stream",
     "text": [
      "Murio:  2\n",
      "Murio:  4\n",
      "Murio:  6\n",
      "Murio:  8\n",
      "Murio:  10\n",
      "Murio:  12\n",
      "Murio:  14\n",
      "Murio:  16\n",
      "Murio:  18\n",
      "Murio:  20\n",
      "Murio:  22\n",
      "Murio:  24\n",
      "Murio:  26\n",
      "Murio:  28\n",
      "Murio:  30\n",
      "Murio:  32\n",
      "Murio:  34\n",
      "Murio:  36\n",
      "Murio:  38\n",
      "Murio:  40\n",
      "Murio:  1\n",
      "Murio:  5\n",
      "Murio:  9\n",
      "Murio:  13\n",
      "Murio:  17\n",
      "Murio:  21\n",
      "Murio:  25\n",
      "Murio:  29\n",
      "Murio:  33\n",
      "Murio:  37\n",
      "Murio:  41\n",
      "Murio:  7\n",
      "Murio:  15\n",
      "Murio:  23\n",
      "Murio:  31\n",
      "Murio:  39\n",
      "Murio:  11\n",
      "Murio:  27\n",
      "Murio:  3\n",
      "Murio:  35\n",
      "survivor:  19\n"
     ]
    }
   ],
   "source": [
    "# Problema de Josephus\n",
    "def josephus(asientos, saltos):\n",
    "    saltos -= 1\n",
    "    soldado = saltos\n",
    "    while len(asientos) > 1:\n",
    "        print('Murio: ',asientos.pop(soldado))\n",
    "        soldado = (soldado + saltos) % len(asientos)\n",
    "    print('survivor: ', asientos[0])\n",
    "\n",
    "josephus([1,2,3,4,5,6,7,8,9,10,11,12,13,14,15,16,17,18, 19, 20, 21, 22, 23, 24, 25, 26, 27, 28, 29,30,31,32,33,34,35,36,37,38,39,40,41], 2)"
   ]
  },
  {
   "cell_type": "code",
   "execution_count": 25,
   "metadata": {},
   "outputs": [
    {
     "name": "stdout",
     "output_type": "stream",
     "text": [
      "█████████\n",
      "▓  █ █\n",
      "██████ █\n",
      "██ █ █\n",
      "████ █ █\n",
      "█      █\n",
      "████ █ █\n",
      "█   █ █\n",
      "█████████\n"
     ]
    }
   ],
   "source": []
  }
 ],
 "metadata": {
  "kernelspec": {
   "display_name": "venv",
   "language": "python",
   "name": "python3"
  },
  "language_info": {
   "codemirror_mode": {
    "name": "ipython",
    "version": 3
   },
   "file_extension": ".py",
   "mimetype": "text/x-python",
   "name": "python",
   "nbconvert_exporter": "python",
   "pygments_lexer": "ipython3",
   "version": "3.11.2"
  }
 },
 "nbformat": 4,
 "nbformat_minor": 2
}
