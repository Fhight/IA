{
 "cells": [
  {
   "cell_type": "code",
   "execution_count": null,
   "metadata": {},
   "outputs": [],
   "source": [
    "from PIL import Image\n",
    "import os\n",
    "\n",
    "def convertir_png_a_jpg_en_carpeta(carpeta_origen, carpeta_destino, calidad=95):\n",
    "    # Verificar si la carpeta de destino existe, si no, crearla\n",
    "    if not os.path.exists(carpeta_destino):\n",
    "        os.makedirs(carpeta_destino)\n",
    "\n",
    "    # Recorrer todas las imágenes en la carpeta de origen\n",
    "    for archivo_png in os.listdir(carpeta_origen):\n",
    "        if archivo_png.endswith(\".png\"):\n",
    "            # Construir la ruta completa de la imagen de origen\n",
    "            ruta_origen = os.path.join(carpeta_origen, archivo_png)\n",
    "\n",
    "            # Abrir la imagen PNG\n",
    "            imagen = Image.open(ruta_origen)\n",
    "\n",
    "            # Crear la ruta de destino con el mismo nombre de archivo pero extensión JPG\n",
    "            nombre_archivo, _ = os.path.splitext(archivo_png)\n",
    "            ruta_destino = os.path.join(carpeta_destino, f\"{nombre_archivo}.jpg\")\n",
    "\n",
    "            # Convertir y guardar como JPEG\n",
    "            imagen.convert(\"RGB\").save(ruta_destino, \"JPEG\", quality=calidad)\n",
    "\n",
    "            print(f\"Imagen convertida y guardada en: {ruta_destino}\")\n",
    "\n",
    "# Ejemplo de uso\n",
    "carpeta_origen = \"E:/Datsets/Flores/tulip\"\n",
    "carpeta_destino = \"E:/Datsets/Flores/rotar/\"\n",
    "convertir_png_a_jpg_en_carpeta(carpeta_origen, carpeta_destino)\n"
   ]
  },
  {
   "cell_type": "code",
   "execution_count": null,
   "metadata": {},
   "outputs": [],
   "source": [
    "from matplotlib import pyplot as plt\n",
    "from skimage.transform import resize\n",
    "import tensorflow as tf\n",
    "from tensorflow.keras.preprocessing import image\n",
    "import matplotlib.pyplot as plt\n",
    "import numpy as np\n",
    "\n",
    "\n",
    "modelpath = './Flores.h5py'\n",
    "model = tf.keras.models.load_model(modelpath)\n",
    "\n",
    "target_size = (28, 28)\n",
    "img = image.load_img('./Girasol.jpg')\n",
    "img = img.resize((28, 28))\n",
    "\n",
    "img_array = image.img_to_array(img)\n",
    "img = np.expand_dims(img_array, axis=0)\n",
    "\n",
    "predictions = model.predict(img_array)\n",
    "class_names = ['daisy', 'dandelion', 'roses', 'sunflowers', 'tulip']\n",
    "\n",
    "predictted_class = np.argmax(predictions, axis=1)\n",
    "predicted_labels = [class_names[id] for id in predictted_class] \n",
    "\n",
    "print(predicted_labels)\n",
    "plt.imshow(img)\n",
    "plt.title(predicted_labels)\n",
    "plt.show()"
   ]
  },
  {
   "cell_type": "code",
   "execution_count": 27,
   "metadata": {},
   "outputs": [
    {
     "name": "stdout",
     "output_type": "stream",
     "text": [
      "1/1 [==============================] - 0s 74ms/step\n"
     ]
    },
    {
     "data": {
      "image/png": "[encoded data removed]",
      "text/plain": [
       "<Figure size 640x480 with 1 Axes>"
      ]
     },
     "metadata": {},
     "output_type": "display_data"
    }
   ],
   "source": [
    "from matplotlib import pyplot as plt\n",
    "from skimage.transform import resize\n",
    "import tensorflow as tf\n",
    "from tensorflow.keras.preprocessing import image\n",
    "import numpy as np\n",
    "\n",
    "modelpath = './Flores.h5py'\n",
    "model = tf.keras.models.load_model(modelpath)\n",
    "\n",
    "target_size = (28, 28)\n",
    "img_path = './Tulipan.jpg'\n",
    "\n",
    "# Load and resize the image\n",
    "img = image.load_img(img_path, target_size=target_size)\n",
    "img_array = image.img_to_array(img)\n",
    "img_array = np.expand_dims(img_array, axis=0)  # Add batch dimension\n",
    "\n",
    "# Normalize pixel values to be between 0 and 1\n",
    "img_array /= 255.0\n",
    "\n",
    "# Make predictions\n",
    "predictions = model.predict(img_array)\n",
    "class_names = ['astilbe', 'iris', 'roses', 'sunflowers', 'tulip']\n",
    "\n",
    "predicted_class = np.argmax(predictions, axis=1)\n",
    "predicted_label = class_names[predicted_class[0]]\n",
    "\n",
    "# Display the image and predicted label\n",
    "plt.imshow(img)\n",
    "plt.title(f'Predicted Label: {predicted_label}')\n",
    "plt.show()\n"
   ]
  }
 ],
 "metadata": {
  "kernelspec": {
   "display_name": ".venv",
   "language": "python",
   "name": "python3"
  },
  "language_info": {
   "codemirror_mode": {
    "name": "ipython",
    "version": 3
   },
   "file_extension": ".py",
   "mimetype": "text/x-python",
   "name": "python",
   "nbconvert_exporter": "python",
   "pygments_lexer": "ipython3",
   "version": "3.11.2"
  }
 },
 "nbformat": 4,
 "nbformat_minor": 2
}
