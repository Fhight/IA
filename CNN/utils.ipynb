{
 "cells": [
  {
   "cell_type": "code",
   "execution_count": null,
   "metadata": {},
   "outputs": [],
   "source": [
    "from PIL import Image\n",
    "import os\n",
    "\n",
    "def convertir_png_a_jpg_en_carpeta(carpeta_origen, carpeta_destino, calidad=95):\n",
    "    # Verificar si la carpeta de destino existe, si no, crearla\n",
    "    if not os.path.exists(carpeta_destino):\n",
    "        os.makedirs(carpeta_destino)\n",
    "\n",
    "    # Recorrer todas las imágenes en la carpeta de origen\n",
    "    for archivo_png in os.listdir(carpeta_origen):\n",
    "        if archivo_png.endswith(\".png\"):\n",
    "            # Construir la ruta completa de la imagen de origen\n",
    "            ruta_origen = os.path.join(carpeta_origen, archivo_png)\n",
    "\n",
    "            # Abrir la imagen PNG\n",
    "            imagen = Image.open(ruta_origen)\n",
    "\n",
    "            # Crear la ruta de destino con el mismo nombre de archivo pero extensión JPG\n",
    "            nombre_archivo, _ = os.path.splitext(archivo_png)\n",
    "            ruta_destino = os.path.join(carpeta_destino, f\"{nombre_archivo}.jpg\")\n",
    "\n",
    "            # Convertir y guardar como JPEG\n",
    "            imagen.convert(\"RGB\").save(ruta_destino, \"JPEG\", quality=calidad)\n",
    "\n",
    "            print(f\"Imagen convertida y guardada en: {ruta_destino}\")\n",
    "\n",
    "# Ejemplo de uso\n",
    "carpeta_origen = \"E:/Datsets/Flores/tulip\"\n",
    "carpeta_destino = \"E:/Datsets/Flores/rotar/\"\n",
    "convertir_png_a_jpg_en_carpeta(carpeta_origen, carpeta_destino)\n"
   ]
  }
 ],
 "metadata": {
  "kernelspec": {
   "display_name": ".venv",
   "language": "python",
   "name": "python3"
  },
  "language_info": {
   "codemirror_mode": {
    "name": "ipython",
    "version": 3
   },
   "file_extension": ".py",
   "mimetype": "text/x-python",
   "name": "python",
   "nbconvert_exporter": "python",
   "pygments_lexer": "ipython3",
   "version": "3.11.2"
  }
 },
 "nbformat": 4,
 "nbformat_minor": 2
}
