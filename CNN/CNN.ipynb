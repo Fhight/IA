{
 "cells": [
  {
   "cell_type": "code",
   "execution_count": 269,
   "metadata": {
    "scrolled": true
   },
   "outputs": [
    {
     "name": "stdout",
     "output_type": "stream",
     "text": [
      "256 256 3 3\n"
     ]
    }
   ],
   "source": [
    "import cv2 \n",
    "\n",
    "img = cv2.imread('./Tulipan.jpg')\n",
    "print(img.shape[0], img.shape[1], img.shape[2], len(img.shape))"
   ]
  },
  {
   "cell_type": "markdown",
   "metadata": {},
   "source": [
    "# Convolutional Neural Networks"
   ]
  },
  {
   "cell_type": "markdown",
   "metadata": {},
   "source": []
  },
  {
   "cell_type": "markdown",
   "metadata": {},
   "source": [
    "# Importar Librerías"
   ]
  },
  {
   "cell_type": "code",
   "execution_count": 270,
   "metadata": {
    "ExecuteTime": {
     "end_time": "2018-11-08T00:12:59.231970Z",
     "start_time": "2018-11-08T00:12:51.800950Z"
    }
   },
   "outputs": [],
   "source": [
    "import numpy as np\n",
    "import os\n",
    "import re\n",
    "import matplotlib.pyplot as plt\n",
    "%matplotlib inline\n",
    "from sklearn.model_selection import train_test_split\n",
    "from sklearn.metrics import classification_report"
   ]
  },
  {
   "cell_type": "code",
   "execution_count": 271,
   "metadata": {
    "ExecuteTime": {
     "end_time": "2018-11-08T00:13:12.550878Z",
     "start_time": "2018-11-08T00:12:59.234748Z"
    },
    "scrolled": true
   },
   "outputs": [],
   "source": [
    "import keras\n",
    "import tensorflow as tf\n",
    "from tensorflow.keras.utils import to_categorical\n",
    "from keras.models import Sequential,Model\n",
    "from tensorflow.keras.layers import Input\n",
    "from keras.layers import Dense, Dropout, Flatten\n",
    "#from keras.layers import Conv2D, MaxPooling2D\n",
    "#from tensorflow.keras.models import Sequential\n",
    "from tensorflow.keras.layers import (\n",
    "    BatchNormalization, SeparableConv2D, MaxPooling2D, Activation, Flatten, Dropout, Dense, Conv2D\n",
    ")\n",
    "from keras.layers import LeakyReLU"
   ]
  },
  {
   "cell_type": "markdown",
   "metadata": {},
   "source": [
    "# Cargar set de Imágenes"
   ]
  },
  {
   "cell_type": "code",
   "execution_count": 272,
   "metadata": {
    "ExecuteTime": {
     "end_time": "2018-11-08T00:16:45.248080Z",
     "start_time": "2018-11-08T00:13:12.553292Z"
    },
    "scrolled": true
   },
   "outputs": [
    {
     "name": "stdout",
     "output_type": "stream",
     "text": [
      "leyendo imagenes de  E:\\Datsets\\Flores\\\n",
      "E:\\Datsets\\Flores\\astilbe 1\n",
      "E:\\Datsets\\Flores\\iris 7932\n",
      "E:\\Datsets\\Flores\\rose 10410\n",
      "E:\\Datsets\\Flores\\sunflower 11152\n",
      "E:\\Datsets\\Flores\\tulip 11640\n",
      "Directorios leidos: 5\n",
      "Imagenes en cada directorio [7933, 10410, 11152, 11640, 11335]\n",
      "suma Total de imagenes en subdirs: 52470\n"
     ]
    }
   ],
   "source": [
    "dirname = os.path.join(os.getcwd(),'E:\\Datsets\\Flores')\n",
    "imgpath = dirname + os.sep \n",
    "\n",
    "images = []\n",
    "directories = []\n",
    "dircount = []\n",
    "prevRoot=''\n",
    "cant=0\n",
    "\n",
    "print(\"leyendo imagenes de \",imgpath)\n",
    "\n",
    "for root, dirnames, filenames in os.walk(imgpath):\n",
    "    for filename in filenames:\n",
    "        if re.search(\"\\.(jpg|jpeg|png|bmp|tiff)$\", filename):\n",
    "            cant=cant+1\n",
    "            filepath = os.path.join(root, filename)\n",
    "            image = plt.imread(filepath)\n",
    "            if(len(image.shape)==3):\n",
    "                \n",
    "                images.append(image)\n",
    "            b = \"Leyendo...\" + str(cant)\n",
    "            print (b, end=\"\\r\")\n",
    "            if prevRoot !=root:\n",
    "                print(root, cant)\n",
    "                prevRoot=root\n",
    "                directories.append(root)\n",
    "                dircount.append(cant)\n",
    "                cant=0\n",
    "dircount.append(cant)\n",
    "\n",
    "dircount = dircount[1:]\n",
    "dircount[0]=dircount[0]+1\n",
    "print('Directorios leidos:',len(directories))\n",
    "print(\"Imagenes en cada directorio\", dircount)\n",
    "print('suma Total de imagenes en subdirs:',sum(dircount))"
   ]
  },
  {
   "cell_type": "markdown",
   "metadata": {},
   "source": [
    "# Creamos las etiquetas"
   ]
  },
  {
   "cell_type": "code",
   "execution_count": 273,
   "metadata": {
    "ExecuteTime": {
     "end_time": "2018-11-08T00:16:45.269861Z",
     "start_time": "2018-11-08T00:16:45.251786Z"
    }
   },
   "outputs": [
    {
     "name": "stdout",
     "output_type": "stream",
     "text": [
      "Cantidad etiquetas creadas:  52470\n"
     ]
    }
   ],
   "source": [
    "labels=[]\n",
    "indice=0\n",
    "for cantidad in dircount:\n",
    "    for i in range(cantidad):\n",
    "        labels.append(indice)\n",
    "    indice=indice+1\n",
    "print(\"Cantidad etiquetas creadas: \",len(labels))\n"
   ]
  },
  {
   "cell_type": "code",
   "execution_count": 274,
   "metadata": {
    "ExecuteTime": {
     "end_time": "2018-11-08T00:16:45.285925Z",
     "start_time": "2018-11-08T00:16:45.273489Z"
    }
   },
   "outputs": [
    {
     "name": "stdout",
     "output_type": "stream",
     "text": [
      "0 astilbe\n",
      "1 iris\n",
      "2 rose\n",
      "3 sunflower\n",
      "4 tulip\n"
     ]
    }
   ],
   "source": [
    "deportes=[]\n",
    "indice=0\n",
    "for directorio in directories:\n",
    "    name = directorio.split(os.sep)\n",
    "    print(indice , name[len(name)-1])\n",
    "    deportes.append(name[len(name)-1])\n",
    "    indice=indice+1"
   ]
  },
  {
   "cell_type": "code",
   "execution_count": 275,
   "metadata": {
    "ExecuteTime": {
     "end_time": "2018-11-08T00:16:45.498672Z",
     "start_time": "2018-11-08T00:16:45.290061Z"
    }
   },
   "outputs": [
    {
     "name": "stdout",
     "output_type": "stream",
     "text": [
      "Total number of outputs :  5\n",
      "Output classes :  [0 1 2 3 4]\n"
     ]
    }
   ],
   "source": [
    "images_resized = [cv2.resize(img, (28, 28)) for img in images]\n",
    "y = np.array(labels)\n",
    "X = np.array(images_resized, dtype=np.uint8) #convierto de lista a numpy\n",
    "\n",
    "\n",
    "\n",
    "# Find the unique numbers from the train labels\n",
    "classes = np.unique(y)\n",
    "nClasses = len(classes)\n",
    "print('Total number of outputs : ', nClasses)\n",
    "print('Output classes : ', classes)"
   ]
  },
  {
   "cell_type": "markdown",
   "metadata": {},
   "source": [
    "# Creamos Sets de Entrenamiento y Test"
   ]
  },
  {
   "cell_type": "code",
   "execution_count": 276,
   "metadata": {
    "ExecuteTime": {
     "end_time": "2018-11-08T00:16:45.669596Z",
     "start_time": "2018-11-08T00:16:45.502716Z"
    }
   },
   "outputs": [
    {
     "name": "stdout",
     "output_type": "stream",
     "text": [
      "Training data shape :  (41976, 28, 28, 3) (41976,)\n",
      "Testing data shape :  (10494, 28, 28, 3) (10494,)\n"
     ]
    }
   ],
   "source": [
    "train_X,test_X,train_Y,test_Y = train_test_split(X,y,test_size=0.2)\n",
    "print('Training data shape : ', train_X.shape, train_Y.shape)\n",
    "print('Testing data shape : ', test_X.shape, test_Y.shape)"
   ]
  },
  {
   "cell_type": "code",
   "execution_count": 277,
   "metadata": {
    "ExecuteTime": {
     "end_time": "2018-11-08T00:16:49.319746Z",
     "start_time": "2018-11-08T00:16:45.673944Z"
    }
   },
   "outputs": [
    {
     "data": {
      "text/plain": [
       "Text(0.5, 1.0, 'Ground Truth : 2')"
      ]
     },
     "execution_count": 277,
     "metadata": {},
     "output_type": "execute_result"
    },
    {
     "data": {
      "image/png": "[encoded data removed]",
      "text/plain": [
       "<Figure size 500x500 with 2 Axes>"
      ]
     },
     "metadata": {},
     "output_type": "display_data"
    }
   ],
   "source": [
    "plt.figure(figsize=[5,5])\n",
    "\n",
    "# Display the first image in training data\n",
    "plt.subplot(121)\n",
    "plt.imshow(train_X[0,:,:], cmap='gray')\n",
    "plt.title(\"Ground Truth : {}\".format(train_Y[0]))\n",
    "\n",
    "# Display the first image in testing data\n",
    "plt.subplot(122)\n",
    "plt.imshow(test_X[0,:,:], cmap='gray')\n",
    "plt.title(\"Ground Truth : {}\".format(test_Y[0]))"
   ]
  },
  {
   "cell_type": "markdown",
   "metadata": {},
   "source": [
    "# Preprocesamos las imagenes"
   ]
  },
  {
   "cell_type": "code",
   "execution_count": 278,
   "metadata": {
    "ExecuteTime": {
     "end_time": "2018-11-08T00:16:50.798162Z",
     "start_time": "2018-11-08T00:16:49.322999Z"
    }
   },
   "outputs": [
    {
     "data": {
      "text/plain": [
       "<matplotlib.image.AxesImage at 0x1f99f94abd0>"
      ]
     },
     "execution_count": 278,
     "metadata": {},
     "output_type": "execute_result"
    },
    {
     "data": {
      "image/png": "[encoded data removed]",
      "text/plain": [
       "<Figure size 640x480 with 1 Axes>"
      ]
     },
     "metadata": {},
     "output_type": "display_data"
    }
   ],
   "source": [
    "train_X = train_X.astype('float32')\n",
    "test_X = test_X.astype('float32')\n",
    "train_X = train_X/255.\n",
    "test_X = test_X/255.\n",
    "plt.imshow(test_X[0,:,:])"
   ]
  },
  {
   "cell_type": "markdown",
   "metadata": {},
   "source": [
    "## Hacemos el One-hot Encoding para la red"
   ]
  },
  {
   "cell_type": "code",
   "execution_count": 279,
   "metadata": {
    "ExecuteTime": {
     "end_time": "2018-11-08T00:16:50.815482Z",
     "start_time": "2018-11-08T00:16:50.800831Z"
    }
   },
   "outputs": [
    {
     "name": "stdout",
     "output_type": "stream",
     "text": [
      "Original label: 3\n",
      "After conversion to one-hot: [0. 0. 0. 1. 0.]\n"
     ]
    }
   ],
   "source": [
    "# Change the labels from categorical to one-hot encoding\n",
    "train_Y_one_hot = to_categorical(train_Y)\n",
    "test_Y_one_hot = to_categorical(test_Y)\n",
    "\n",
    "# Display the change for category label using one-hot encoding\n",
    "print('Original label:', train_Y[0])\n",
    "print('After conversion to one-hot:', train_Y_one_hot[0])"
   ]
  },
  {
   "cell_type": "markdown",
   "metadata": {},
   "source": [
    "# Creamos el Set de Entrenamiento y Validación"
   ]
  },
  {
   "cell_type": "code",
   "execution_count": 280,
   "metadata": {
    "ExecuteTime": {
     "end_time": "2018-11-08T00:16:51.218520Z",
     "start_time": "2018-11-08T00:16:50.818992Z"
    }
   },
   "outputs": [],
   "source": [
    "#Mezclar todo y crear los grupos de entrenamiento y testing\n",
    "train_X,valid_X,train_label,valid_label = train_test_split(train_X, train_Y_one_hot, test_size=0.2, random_state=13)"
   ]
  },
  {
   "cell_type": "code",
   "execution_count": 281,
   "metadata": {
    "ExecuteTime": {
     "end_time": "2018-11-08T00:16:51.228116Z",
     "start_time": "2018-11-08T00:16:51.222460Z"
    }
   },
   "outputs": [
    {
     "name": "stdout",
     "output_type": "stream",
     "text": [
      "(33580, 28, 28, 3) (8396, 28, 28, 3) (33580, 5) (8396, 5)\n"
     ]
    }
   ],
   "source": [
    "print(train_X.shape,valid_X.shape,train_label.shape,valid_label.shape)"
   ]
  },
  {
   "cell_type": "markdown",
   "metadata": {},
   "source": [
    "# Creamos el modelo de CNN"
   ]
  },
  {
   "cell_type": "code",
   "execution_count": 282,
   "metadata": {
    "ExecuteTime": {
     "end_time": "2018-11-08T00:16:51.244776Z",
     "start_time": "2018-11-08T00:16:51.238704Z"
    }
   },
   "outputs": [],
   "source": [
    "#declaramos variables con los parámetros de configuración de la red\n",
    "INIT_LR = 1e-3 # Valor inicial de learning rate. El valor 1e-3 corresponde con 0.001\n",
    "epochs = 100 # Cantidad de iteraciones completas al conjunto de imagenes de entrenamiento\n",
    "batch_size = 32 # cantidad de imágenes que se toman a la vez en memoria"
   ]
  },
  {
   "cell_type": "code",
   "execution_count": 283,
   "metadata": {
    "ExecuteTime": {
     "end_time": "2018-11-08T00:16:51.384131Z",
     "start_time": "2018-11-08T00:16:51.252188Z"
    }
   },
   "outputs": [],
   "source": [
    "sport_model = Sequential()\n",
    "sport_model.add(Conv2D(32, kernel_size=(3, 3),activation='linear',padding='same',input_shape=(28,28,3)))\n",
    "sport_model.add(LeakyReLU(alpha=0.1))\n",
    "sport_model.add(MaxPooling2D((2, 2),padding='same'))\n",
    "sport_model.add(Dropout(0.5))\n",
    "\n",
    "sport_model.add(Flatten())\n",
    "sport_model.add(Dense(32, activation='linear'))\n",
    "sport_model.add(LeakyReLU(alpha=0.1))\n",
    "sport_model.add(Dropout(0.5))\n",
    "sport_model.add(Dense(nClasses, activation='softmax'))"
   ]
  },
  {
   "cell_type": "code",
   "execution_count": 284,
   "metadata": {
    "ExecuteTime": {
     "end_time": "2018-11-08T00:16:51.401674Z",
     "start_time": "2018-11-08T00:16:51.386676Z"
    }
   },
   "outputs": [
    {
     "name": "stdout",
     "output_type": "stream",
     "text": [
      "Model: \"sequential_11\"\n",
      "_________________________________________________________________\n",
      " Layer (type)                Output Shape              Param #   \n",
      "=================================================================\n",
      " conv2d_11 (Conv2D)          (None, 28, 28, 32)        896       \n",
      "                                                                 \n",
      " leaky_re_lu_22 (LeakyReLU)  (None, 28, 28, 32)        0         \n",
      "                                                                 \n",
      " max_pooling2d_11 (MaxPooli  (None, 14, 14, 32)        0         \n",
      " ng2D)                                                           \n",
      "                                                                 \n",
      " dropout_22 (Dropout)        (None, 14, 14, 32)        0         \n",
      "                                                                 \n",
      " flatten_11 (Flatten)        (None, 6272)              0         \n",
      "                                                                 \n",
      " dense_22 (Dense)            (None, 32)                200736    \n",
      "                                                                 \n",
      " leaky_re_lu_23 (LeakyReLU)  (None, 32)                0         \n",
      "                                                                 \n",
      " dropout_23 (Dropout)        (None, 32)                0         \n",
      "                                                                 \n",
      " dense_23 (Dense)            (None, 5)                 165       \n",
      "                                                                 \n",
      "=================================================================\n",
      "Total params: 201797 (788.27 KB)\n",
      "Trainable params: 201797 (788.27 KB)\n",
      "Non-trainable params: 0 (0.00 Byte)\n",
      "_________________________________________________________________\n"
     ]
    }
   ],
   "source": [
    "sport_model.summary()"
   ]
  },
  {
   "cell_type": "code",
   "execution_count": 285,
   "metadata": {
    "ExecuteTime": {
     "end_time": "2018-11-08T00:16:51.472349Z",
     "start_time": "2018-11-08T00:16:51.406817Z"
    }
   },
   "outputs": [],
   "source": [
    "sport_model.compile(loss=keras.losses.categorical_crossentropy, optimizer=tf.keras.optimizers.legacy.SGD(learning_rate=INIT_LR, decay=INIT_LR / 100),metrics=['accuracy'])"
   ]
  },
  {
   "cell_type": "markdown",
   "metadata": {},
   "source": [
    "# Entrenamos el modelo: Aprende a clasificar imágenes"
   ]
  },
  {
   "cell_type": "code",
   "execution_count": 286,
   "metadata": {
    "ExecuteTime": {
     "end_time": "2018-11-08T00:20:49.562522Z",
     "start_time": "2018-11-08T00:16:51.474807Z"
    }
   },
   "outputs": [
    {
     "name": "stdout",
     "output_type": "stream",
     "text": [
      "Epoch 1/100\n"
     ]
    },
    {
     "name": "stdout",
     "output_type": "stream",
     "text": [
      "1050/1050 [==============================] - 6s 5ms/step - loss: 1.5407 - accuracy: 0.3039 - val_loss: 1.3898 - val_accuracy: 0.4489\n",
      "Epoch 2/100\n",
      "1050/1050 [==============================] - 5s 5ms/step - loss: 1.3533 - accuracy: 0.4330 - val_loss: 1.1767 - val_accuracy: 0.5550\n",
      "Epoch 3/100\n",
      "1050/1050 [==============================] - 5s 5ms/step - loss: 1.2183 - accuracy: 0.5043 - val_loss: 1.0559 - val_accuracy: 0.6078\n",
      "Epoch 4/100\n",
      "1050/1050 [==============================] - 5s 5ms/step - loss: 1.1293 - accuracy: 0.5513 - val_loss: 0.9740 - val_accuracy: 0.6491\n",
      "Epoch 5/100\n",
      "1050/1050 [==============================] - 5s 5ms/step - loss: 1.0704 - accuracy: 0.5752 - val_loss: 0.9229 - val_accuracy: 0.6648\n",
      "Epoch 6/100\n",
      "1050/1050 [==============================] - 5s 5ms/step - loss: 1.0256 - accuracy: 0.6013 - val_loss: 0.8854 - val_accuracy: 0.6783\n",
      "Epoch 7/100\n",
      "1050/1050 [==============================] - 5s 5ms/step - loss: 0.9906 - accuracy: 0.6161 - val_loss: 0.8578 - val_accuracy: 0.6874\n",
      "Epoch 8/100\n",
      "1050/1050 [==============================] - 5s 5ms/step - loss: 0.9630 - accuracy: 0.6269 - val_loss: 0.8301 - val_accuracy: 0.6950\n",
      "Epoch 9/100\n",
      "1050/1050 [==============================] - 5s 5ms/step - loss: 0.9408 - accuracy: 0.6395 - val_loss: 0.8110 - val_accuracy: 0.7033\n",
      "Epoch 10/100\n",
      "1050/1050 [==============================] - 5s 5ms/step - loss: 0.9167 - accuracy: 0.6482 - val_loss: 0.7913 - val_accuracy: 0.7105\n",
      "Epoch 11/100\n",
      "1050/1050 [==============================] - 5s 5ms/step - loss: 0.9001 - accuracy: 0.6585 - val_loss: 0.7777 - val_accuracy: 0.7140\n",
      "Epoch 12/100\n",
      "1050/1050 [==============================] - 5s 5ms/step - loss: 0.8798 - accuracy: 0.6675 - val_loss: 0.7632 - val_accuracy: 0.7151\n",
      "Epoch 13/100\n",
      "1050/1050 [==============================] - 5s 5ms/step - loss: 0.8667 - accuracy: 0.6731 - val_loss: 0.7475 - val_accuracy: 0.7230\n",
      "Epoch 14/100\n",
      "1050/1050 [==============================] - 5s 5ms/step - loss: 0.8534 - accuracy: 0.6778 - val_loss: 0.7354 - val_accuracy: 0.7325\n",
      "Epoch 15/100\n",
      "1050/1050 [==============================] - 5s 5ms/step - loss: 0.8432 - accuracy: 0.6829 - val_loss: 0.7261 - val_accuracy: 0.7346\n",
      "Epoch 16/100\n",
      "1050/1050 [==============================] - 5s 5ms/step - loss: 0.8293 - accuracy: 0.6855 - val_loss: 0.7152 - val_accuracy: 0.7408\n",
      "Epoch 17/100\n",
      "1050/1050 [==============================] - 5s 5ms/step - loss: 0.8158 - accuracy: 0.6940 - val_loss: 0.7056 - val_accuracy: 0.7430\n",
      "Epoch 18/100\n",
      "1050/1050 [==============================] - 5s 5ms/step - loss: 0.8127 - accuracy: 0.6945 - val_loss: 0.6974 - val_accuracy: 0.7460\n",
      "Epoch 19/100\n",
      "1050/1050 [==============================] - 5s 5ms/step - loss: 0.7999 - accuracy: 0.7015 - val_loss: 0.6894 - val_accuracy: 0.7474\n",
      "Epoch 20/100\n",
      "1050/1050 [==============================] - 5s 5ms/step - loss: 0.7922 - accuracy: 0.7044 - val_loss: 0.6813 - val_accuracy: 0.7539\n",
      "Epoch 21/100\n",
      "1050/1050 [==============================] - 5s 5ms/step - loss: 0.7839 - accuracy: 0.7061 - val_loss: 0.6757 - val_accuracy: 0.7543\n",
      "Epoch 22/100\n",
      "1050/1050 [==============================] - 5s 5ms/step - loss: 0.7770 - accuracy: 0.7105 - val_loss: 0.6707 - val_accuracy: 0.7583\n",
      "Epoch 23/100\n",
      "1050/1050 [==============================] - 5s 5ms/step - loss: 0.7693 - accuracy: 0.7113 - val_loss: 0.6624 - val_accuracy: 0.7595\n",
      "Epoch 24/100\n",
      "1050/1050 [==============================] - 5s 5ms/step - loss: 0.7610 - accuracy: 0.7179 - val_loss: 0.6574 - val_accuracy: 0.7607\n",
      "Epoch 25/100\n",
      "1050/1050 [==============================] - 5s 5ms/step - loss: 0.7549 - accuracy: 0.7184 - val_loss: 0.6503 - val_accuracy: 0.7643\n",
      "Epoch 26/100\n",
      "1050/1050 [==============================] - 5s 5ms/step - loss: 0.7516 - accuracy: 0.7200 - val_loss: 0.6473 - val_accuracy: 0.7666\n",
      "Epoch 27/100\n",
      "1050/1050 [==============================] - 5s 5ms/step - loss: 0.7477 - accuracy: 0.7249 - val_loss: 0.6426 - val_accuracy: 0.7672\n",
      "Epoch 28/100\n",
      "1050/1050 [==============================] - 5s 5ms/step - loss: 0.7415 - accuracy: 0.7234 - val_loss: 0.6374 - val_accuracy: 0.7675\n",
      "Epoch 29/100\n",
      "1050/1050 [==============================] - 5s 5ms/step - loss: 0.7357 - accuracy: 0.7260 - val_loss: 0.6336 - val_accuracy: 0.7692\n",
      "Epoch 30/100\n",
      "1050/1050 [==============================] - 5s 5ms/step - loss: 0.7307 - accuracy: 0.7289 - val_loss: 0.6301 - val_accuracy: 0.7710\n",
      "Epoch 31/100\n",
      "1050/1050 [==============================] - 5s 5ms/step - loss: 0.7271 - accuracy: 0.7339 - val_loss: 0.6273 - val_accuracy: 0.7708\n",
      "Epoch 32/100\n",
      "1050/1050 [==============================] - 5s 5ms/step - loss: 0.7230 - accuracy: 0.7313 - val_loss: 0.6234 - val_accuracy: 0.7727\n",
      "Epoch 33/100\n",
      "1050/1050 [==============================] - 5s 5ms/step - loss: 0.7206 - accuracy: 0.7326 - val_loss: 0.6186 - val_accuracy: 0.7742\n",
      "Epoch 34/100\n",
      "1050/1050 [==============================] - 5s 5ms/step - loss: 0.7189 - accuracy: 0.7343 - val_loss: 0.6177 - val_accuracy: 0.7747\n",
      "Epoch 35/100\n",
      "1050/1050 [==============================] - 5s 5ms/step - loss: 0.7166 - accuracy: 0.7351 - val_loss: 0.6125 - val_accuracy: 0.7755\n",
      "Epoch 36/100\n",
      "1050/1050 [==============================] - 5s 5ms/step - loss: 0.7094 - accuracy: 0.7383 - val_loss: 0.6119 - val_accuracy: 0.7780\n",
      "Epoch 37/100\n",
      "1050/1050 [==============================] - 5s 5ms/step - loss: 0.7026 - accuracy: 0.7395 - val_loss: 0.6057 - val_accuracy: 0.7772\n",
      "Epoch 38/100\n",
      "1050/1050 [==============================] - 5s 5ms/step - loss: 0.7053 - accuracy: 0.7390 - val_loss: 0.6047 - val_accuracy: 0.7787\n",
      "Epoch 39/100\n",
      "1050/1050 [==============================] - 5s 5ms/step - loss: 0.6990 - accuracy: 0.7387 - val_loss: 0.6018 - val_accuracy: 0.7789\n",
      "Epoch 40/100\n",
      "1050/1050 [==============================] - 5s 5ms/step - loss: 0.6950 - accuracy: 0.7436 - val_loss: 0.5972 - val_accuracy: 0.7817\n",
      "Epoch 41/100\n",
      "1050/1050 [==============================] - 5s 5ms/step - loss: 0.6905 - accuracy: 0.7444 - val_loss: 0.5940 - val_accuracy: 0.7828\n",
      "Epoch 42/100\n",
      "1050/1050 [==============================] - 5s 5ms/step - loss: 0.6875 - accuracy: 0.7451 - val_loss: 0.5903 - val_accuracy: 0.7832\n",
      "Epoch 43/100\n",
      "1050/1050 [==============================] - 5s 5ms/step - loss: 0.6835 - accuracy: 0.7459 - val_loss: 0.5885 - val_accuracy: 0.7833\n",
      "Epoch 44/100\n",
      "1050/1050 [==============================] - 5s 5ms/step - loss: 0.6790 - accuracy: 0.7488 - val_loss: 0.5842 - val_accuracy: 0.7855\n",
      "Epoch 45/100\n",
      "1050/1050 [==============================] - 5s 5ms/step - loss: 0.6805 - accuracy: 0.7469 - val_loss: 0.5834 - val_accuracy: 0.7856\n",
      "Epoch 46/100\n",
      "1050/1050 [==============================] - 6s 5ms/step - loss: 0.6791 - accuracy: 0.7517 - val_loss: 0.5800 - val_accuracy: 0.7856\n",
      "Epoch 47/100\n",
      "1050/1050 [==============================] - 6s 5ms/step - loss: 0.6744 - accuracy: 0.7527 - val_loss: 0.5778 - val_accuracy: 0.7861\n",
      "Epoch 48/100\n",
      "1050/1050 [==============================] - 6s 6ms/step - loss: 0.6701 - accuracy: 0.7543 - val_loss: 0.5751 - val_accuracy: 0.7887\n",
      "Epoch 49/100\n",
      "1050/1050 [==============================] - 6s 6ms/step - loss: 0.6703 - accuracy: 0.7516 - val_loss: 0.5740 - val_accuracy: 0.7887\n",
      "Epoch 50/100\n",
      "1050/1050 [==============================] - 6s 6ms/step - loss: 0.6686 - accuracy: 0.7531 - val_loss: 0.5693 - val_accuracy: 0.7911\n",
      "Epoch 51/100\n",
      "1050/1050 [==============================] - 6s 6ms/step - loss: 0.6646 - accuracy: 0.7550 - val_loss: 0.5681 - val_accuracy: 0.7914\n",
      "Epoch 52/100\n",
      "1050/1050 [==============================] - 6s 5ms/step - loss: 0.6658 - accuracy: 0.7541 - val_loss: 0.5664 - val_accuracy: 0.7924\n",
      "Epoch 53/100\n",
      "1050/1050 [==============================] - 6s 5ms/step - loss: 0.6606 - accuracy: 0.7580 - val_loss: 0.5638 - val_accuracy: 0.7922\n",
      "Epoch 54/100\n",
      "1050/1050 [==============================] - 5s 5ms/step - loss: 0.6595 - accuracy: 0.7562 - val_loss: 0.5638 - val_accuracy: 0.7934\n",
      "Epoch 55/100\n",
      "1050/1050 [==============================] - 5s 5ms/step - loss: 0.6595 - accuracy: 0.7588 - val_loss: 0.5615 - val_accuracy: 0.7929\n",
      "Epoch 56/100\n",
      "1050/1050 [==============================] - 5s 5ms/step - loss: 0.6560 - accuracy: 0.7571 - val_loss: 0.5590 - val_accuracy: 0.7937\n",
      "Epoch 57/100\n",
      "1050/1050 [==============================] - 6s 5ms/step - loss: 0.6498 - accuracy: 0.7623 - val_loss: 0.5559 - val_accuracy: 0.7947\n",
      "Epoch 58/100\n",
      "1050/1050 [==============================] - 5s 5ms/step - loss: 0.6518 - accuracy: 0.7603 - val_loss: 0.5528 - val_accuracy: 0.7960\n",
      "Epoch 59/100\n",
      "1050/1050 [==============================] - 5s 5ms/step - loss: 0.6501 - accuracy: 0.7627 - val_loss: 0.5500 - val_accuracy: 0.7976\n",
      "Epoch 60/100\n",
      "1050/1050 [==============================] - 6s 5ms/step - loss: 0.6473 - accuracy: 0.7617 - val_loss: 0.5489 - val_accuracy: 0.7960\n",
      "Epoch 61/100\n",
      "1050/1050 [==============================] - 6s 5ms/step - loss: 0.6440 - accuracy: 0.7647 - val_loss: 0.5472 - val_accuracy: 0.7960\n",
      "Epoch 62/100\n",
      "1050/1050 [==============================] - 5s 5ms/step - loss: 0.6400 - accuracy: 0.7625 - val_loss: 0.5448 - val_accuracy: 0.7985\n",
      "Epoch 63/100\n",
      "1050/1050 [==============================] - 6s 5ms/step - loss: 0.6374 - accuracy: 0.7661 - val_loss: 0.5425 - val_accuracy: 0.8005\n",
      "Epoch 64/100\n",
      "1050/1050 [==============================] - 6s 5ms/step - loss: 0.6364 - accuracy: 0.7651 - val_loss: 0.5411 - val_accuracy: 0.8013\n",
      "Epoch 65/100\n",
      "1050/1050 [==============================] - 6s 5ms/step - loss: 0.6362 - accuracy: 0.7654 - val_loss: 0.5400 - val_accuracy: 0.8001\n",
      "Epoch 66/100\n",
      "1050/1050 [==============================] - 6s 5ms/step - loss: 0.6344 - accuracy: 0.7682 - val_loss: 0.5369 - val_accuracy: 0.8019\n",
      "Epoch 67/100\n",
      "1050/1050 [==============================] - 6s 5ms/step - loss: 0.6314 - accuracy: 0.7697 - val_loss: 0.5358 - val_accuracy: 0.8032\n",
      "Epoch 68/100\n",
      "1050/1050 [==============================] - 6s 5ms/step - loss: 0.6245 - accuracy: 0.7703 - val_loss: 0.5336 - val_accuracy: 0.8028\n",
      "Epoch 69/100\n",
      "1050/1050 [==============================] - 6s 5ms/step - loss: 0.6266 - accuracy: 0.7686 - val_loss: 0.5316 - val_accuracy: 0.8045\n",
      "Epoch 70/100\n",
      "1050/1050 [==============================] - 5s 5ms/step - loss: 0.6272 - accuracy: 0.7717 - val_loss: 0.5295 - val_accuracy: 0.8057\n",
      "Epoch 71/100\n",
      "1050/1050 [==============================] - 5s 5ms/step - loss: 0.6251 - accuracy: 0.7676 - val_loss: 0.5291 - val_accuracy: 0.8042\n",
      "Epoch 72/100\n",
      "1050/1050 [==============================] - 5s 5ms/step - loss: 0.6177 - accuracy: 0.7732 - val_loss: 0.5264 - val_accuracy: 0.8053\n",
      "Epoch 73/100\n",
      "1050/1050 [==============================] - 5s 5ms/step - loss: 0.6211 - accuracy: 0.7727 - val_loss: 0.5243 - val_accuracy: 0.8072\n",
      "Epoch 74/100\n",
      "1050/1050 [==============================] - 5s 5ms/step - loss: 0.6198 - accuracy: 0.7727 - val_loss: 0.5224 - val_accuracy: 0.8098\n",
      "Epoch 75/100\n",
      "1050/1050 [==============================] - 5s 5ms/step - loss: 0.6166 - accuracy: 0.7756 - val_loss: 0.5210 - val_accuracy: 0.8080\n",
      "Epoch 76/100\n",
      "1050/1050 [==============================] - 5s 5ms/step - loss: 0.6133 - accuracy: 0.7746 - val_loss: 0.5193 - val_accuracy: 0.8081\n",
      "Epoch 77/100\n",
      "1050/1050 [==============================] - 5s 5ms/step - loss: 0.6177 - accuracy: 0.7732 - val_loss: 0.5167 - val_accuracy: 0.8104\n",
      "Epoch 78/100\n",
      "1050/1050 [==============================] - 5s 5ms/step - loss: 0.6124 - accuracy: 0.7755 - val_loss: 0.5147 - val_accuracy: 0.8112\n",
      "Epoch 79/100\n",
      "1050/1050 [==============================] - 5s 5ms/step - loss: 0.6134 - accuracy: 0.7741 - val_loss: 0.5147 - val_accuracy: 0.8123\n",
      "Epoch 80/100\n",
      "1050/1050 [==============================] - 5s 5ms/step - loss: 0.6069 - accuracy: 0.7758 - val_loss: 0.5117 - val_accuracy: 0.8131\n",
      "Epoch 81/100\n",
      "1050/1050 [==============================] - 5s 5ms/step - loss: 0.6041 - accuracy: 0.7791 - val_loss: 0.5123 - val_accuracy: 0.8110\n",
      "Epoch 82/100\n",
      "1050/1050 [==============================] - 5s 5ms/step - loss: 0.6053 - accuracy: 0.7780 - val_loss: 0.5106 - val_accuracy: 0.8121\n",
      "Epoch 83/100\n",
      "1050/1050 [==============================] - 5s 5ms/step - loss: 0.6020 - accuracy: 0.7799 - val_loss: 0.5084 - val_accuracy: 0.8142\n",
      "Epoch 84/100\n",
      "1050/1050 [==============================] - 5s 5ms/step - loss: 0.6070 - accuracy: 0.7802 - val_loss: 0.5069 - val_accuracy: 0.8149\n",
      "Epoch 85/100\n",
      "1050/1050 [==============================] - 5s 5ms/step - loss: 0.6001 - accuracy: 0.7790 - val_loss: 0.5049 - val_accuracy: 0.8163\n",
      "Epoch 86/100\n",
      "1050/1050 [==============================] - 5s 5ms/step - loss: 0.6017 - accuracy: 0.7775 - val_loss: 0.5024 - val_accuracy: 0.8167\n",
      "Epoch 87/100\n",
      "1050/1050 [==============================] - 5s 5ms/step - loss: 0.5953 - accuracy: 0.7836 - val_loss: 0.5021 - val_accuracy: 0.8141\n",
      "Epoch 88/100\n",
      "1050/1050 [==============================] - 5s 5ms/step - loss: 0.5945 - accuracy: 0.7814 - val_loss: 0.4993 - val_accuracy: 0.8168\n",
      "Epoch 89/100\n",
      "1050/1050 [==============================] - 5s 5ms/step - loss: 0.5933 - accuracy: 0.7813 - val_loss: 0.4981 - val_accuracy: 0.8179\n",
      "Epoch 90/100\n",
      "1050/1050 [==============================] - 5s 5ms/step - loss: 0.5934 - accuracy: 0.7841 - val_loss: 0.4967 - val_accuracy: 0.8177\n",
      "Epoch 91/100\n",
      "1050/1050 [==============================] - 5s 5ms/step - loss: 0.5881 - accuracy: 0.7846 - val_loss: 0.4964 - val_accuracy: 0.8178\n",
      "Epoch 92/100\n",
      "1050/1050 [==============================] - 5s 5ms/step - loss: 0.5901 - accuracy: 0.7827 - val_loss: 0.4952 - val_accuracy: 0.8168\n",
      "Epoch 93/100\n",
      "1050/1050 [==============================] - 5s 5ms/step - loss: 0.5869 - accuracy: 0.7874 - val_loss: 0.4922 - val_accuracy: 0.8197\n",
      "Epoch 94/100\n",
      "1050/1050 [==============================] - 5s 5ms/step - loss: 0.5841 - accuracy: 0.7835 - val_loss: 0.4916 - val_accuracy: 0.8191\n",
      "Epoch 95/100\n",
      "1050/1050 [==============================] - 5s 5ms/step - loss: 0.5852 - accuracy: 0.7846 - val_loss: 0.4909 - val_accuracy: 0.8181\n",
      "Epoch 96/100\n",
      "1050/1050 [==============================] - 5s 5ms/step - loss: 0.5838 - accuracy: 0.7867 - val_loss: 0.4899 - val_accuracy: 0.8193\n",
      "Epoch 97/100\n",
      "1050/1050 [==============================] - 5s 5ms/step - loss: 0.5829 - accuracy: 0.7862 - val_loss: 0.4868 - val_accuracy: 0.8217\n",
      "Epoch 98/100\n",
      "1050/1050 [==============================] - 5s 5ms/step - loss: 0.5796 - accuracy: 0.7886 - val_loss: 0.4855 - val_accuracy: 0.8234\n",
      "Epoch 99/100\n",
      "1050/1050 [==============================] - 5s 5ms/step - loss: 0.5757 - accuracy: 0.7901 - val_loss: 0.4838 - val_accuracy: 0.8232\n",
      "Epoch 100/100\n",
      "1050/1050 [==============================] - 5s 5ms/step - loss: 0.5815 - accuracy: 0.7854 - val_loss: 0.4836 - val_accuracy: 0.8222\n"
     ]
    }
   ],
   "source": [
    "# este paso puede tomar varios minutos, dependiendo de tu ordenador, cpu y memoria ram libre\n",
    "sport_train = sport_model.fit(train_X, train_label, batch_size=batch_size,epochs=epochs,verbose=1,validation_data=(valid_X, valid_label))"
   ]
  },
  {
   "cell_type": "code",
   "execution_count": 287,
   "metadata": {
    "ExecuteTime": {
     "end_time": "2018-11-08T00:20:49.676566Z",
     "start_time": "2018-11-08T00:20:49.566203Z"
    }
   },
   "outputs": [
    {
     "name": "stdout",
     "output_type": "stream",
     "text": [
      "INFO:tensorflow:Assets written to: D:\\IA\\CNN\\Flores.h5py\\assets\n"
     ]
    },
    {
     "name": "stderr",
     "output_type": "stream",
     "text": [
      "INFO:tensorflow:Assets written to: D:\\IA\\CNN\\Flores.h5py\\assets\n"
     ]
    }
   ],
   "source": [
    "# guardamos la red, para reutilizarla en el futuro, sin tener que volver a entrenar\n",
    "sport_model.save(\"D:\\IA\\CNN\\Flores.h5py\")"
   ]
  },
  {
   "cell_type": "markdown",
   "metadata": {},
   "source": [
    "# Evaluamos la red"
   ]
  },
  {
   "cell_type": "code",
   "execution_count": 288,
   "metadata": {
    "ExecuteTime": {
     "end_time": "2018-11-08T00:20:54.462929Z",
     "start_time": "2018-11-08T00:20:49.678643Z"
    }
   },
   "outputs": [
    {
     "name": "stdout",
     "output_type": "stream",
     "text": [
      "328/328 [==============================] - 0s 1ms/step - loss: 0.4791 - accuracy: 0.8295\n"
     ]
    }
   ],
   "source": [
    "test_eval = sport_model.evaluate(test_X, test_Y_one_hot, verbose=1)"
   ]
  },
  {
   "cell_type": "code",
   "execution_count": 289,
   "metadata": {
    "ExecuteTime": {
     "end_time": "2018-11-08T00:20:54.474683Z",
     "start_time": "2018-11-08T00:20:54.465378Z"
    }
   },
   "outputs": [
    {
     "name": "stdout",
     "output_type": "stream",
     "text": [
      "Test loss: 0.47905123233795166\n",
      "Test accuracy: 0.829521656036377\n"
     ]
    }
   ],
   "source": [
    "print('Test loss:', test_eval[0])\n",
    "print('Test accuracy:', test_eval[1])"
   ]
  },
  {
   "cell_type": "code",
   "execution_count": 290,
   "metadata": {},
   "outputs": [
    {
     "data": {
      "text/plain": [
       "{'loss': [1.540741205215454,\n",
       "  1.353299856185913,\n",
       "  1.2183171510696411,\n",
       "  1.1293160915374756,\n",
       "  1.0704405307769775,\n",
       "  1.0255542993545532,\n",
       "  0.990605354309082,\n",
       "  0.9629987478256226,\n",
       "  0.9407908916473389,\n",
       "  0.9167137145996094,\n",
       "  0.9000504612922668,\n",
       "  0.8798205852508545,\n",
       "  0.8666882514953613,\n",
       "  0.853415310382843,\n",
       "  0.8432226181030273,\n",
       "  0.8292513489723206,\n",
       "  0.815765380859375,\n",
       "  0.8126657009124756,\n",
       "  0.799882173538208,\n",
       "  0.7922249436378479,\n",
       "  0.7839142084121704,\n",
       "  0.7770094275474548,\n",
       "  0.7692533135414124,\n",
       "  0.7609952092170715,\n",
       "  0.7549218535423279,\n",
       "  0.7516200542449951,\n",
       "  0.7477383613586426,\n",
       "  0.7415343523025513,\n",
       "  0.7356654405593872,\n",
       "  0.7307319641113281,\n",
       "  0.727133572101593,\n",
       "  0.7230276465415955,\n",
       "  0.7206048369407654,\n",
       "  0.7189463973045349,\n",
       "  0.7166290879249573,\n",
       "  0.7094493508338928,\n",
       "  0.7026383280754089,\n",
       "  0.7053298354148865,\n",
       "  0.6989750862121582,\n",
       "  0.694991409778595,\n",
       "  0.6905258893966675,\n",
       "  0.6875410079956055,\n",
       "  0.6835108995437622,\n",
       "  0.679040253162384,\n",
       "  0.6804661154747009,\n",
       "  0.6790833473205566,\n",
       "  0.6743535995483398,\n",
       "  0.6701020002365112,\n",
       "  0.6703461408615112,\n",
       "  0.6685787439346313,\n",
       "  0.6645814776420593,\n",
       "  0.6658164858818054,\n",
       "  0.6606172323226929,\n",
       "  0.6595016121864319,\n",
       "  0.6594845652580261,\n",
       "  0.6559873819351196,\n",
       "  0.6498433351516724,\n",
       "  0.6518265008926392,\n",
       "  0.6500535607337952,\n",
       "  0.6472979187965393,\n",
       "  0.6440201997756958,\n",
       "  0.6400302648544312,\n",
       "  0.6374449729919434,\n",
       "  0.6364359259605408,\n",
       "  0.6362431645393372,\n",
       "  0.6344282627105713,\n",
       "  0.6313649415969849,\n",
       "  0.6244592666625977,\n",
       "  0.6266089081764221,\n",
       "  0.6272367835044861,\n",
       "  0.6251404285430908,\n",
       "  0.6176968812942505,\n",
       "  0.6211149096488953,\n",
       "  0.6197637915611267,\n",
       "  0.6166128516197205,\n",
       "  0.6133195757865906,\n",
       "  0.6177482604980469,\n",
       "  0.6123875379562378,\n",
       "  0.6133588552474976,\n",
       "  0.6069220900535583,\n",
       "  0.6040623784065247,\n",
       "  0.6052610278129578,\n",
       "  0.6019724607467651,\n",
       "  0.6069647669792175,\n",
       "  0.600111722946167,\n",
       "  0.6016953587532043,\n",
       "  0.5953478813171387,\n",
       "  0.5944742560386658,\n",
       "  0.5933122634887695,\n",
       "  0.5933749079704285,\n",
       "  0.5880964398384094,\n",
       "  0.5901491045951843,\n",
       "  0.5868880152702332,\n",
       "  0.5840522646903992,\n",
       "  0.5851523876190186,\n",
       "  0.5837900638580322,\n",
       "  0.5829213261604309,\n",
       "  0.5795950293540955,\n",
       "  0.575668454170227,\n",
       "  0.5814746618270874],\n",
       " 'accuracy': [0.3039309084415436,\n",
       "  0.43296605348587036,\n",
       "  0.5043478012084961,\n",
       "  0.5513103008270264,\n",
       "  0.5752233266830444,\n",
       "  0.6013400554656982,\n",
       "  0.6160809993743896,\n",
       "  0.626891016960144,\n",
       "  0.6394878029823303,\n",
       "  0.6482132077217102,\n",
       "  0.6585467457771301,\n",
       "  0.667510449886322,\n",
       "  0.6730791926383972,\n",
       "  0.6778141856193542,\n",
       "  0.6829362511634827,\n",
       "  0.6855270862579346,\n",
       "  0.694014310836792,\n",
       "  0.6945205330848694,\n",
       "  0.7014889717102051,\n",
       "  0.7044371366500854,\n",
       "  0.7061346173286438,\n",
       "  0.7104824185371399,\n",
       "  0.7112864851951599,\n",
       "  0.7178975343704224,\n",
       "  0.7184038162231445,\n",
       "  0.7200416922569275,\n",
       "  0.7248957753181458,\n",
       "  0.7234067916870117,\n",
       "  0.7259678244590759,\n",
       "  0.7288862466812134,\n",
       "  0.7339190244674683,\n",
       "  0.7313281893730164,\n",
       "  0.7325789332389832,\n",
       "  0.7343061566352844,\n",
       "  0.7351399660110474,\n",
       "  0.738326370716095,\n",
       "  0.7395175695419312,\n",
       "  0.7390410900115967,\n",
       "  0.7386539578437805,\n",
       "  0.7435973882675171,\n",
       "  0.7444014549255371,\n",
       "  0.7450565695762634,\n",
       "  0.7458904385566711,\n",
       "  0.7488088011741638,\n",
       "  0.7469326853752136,\n",
       "  0.7517272233963013,\n",
       "  0.7527397274971008,\n",
       "  0.7542585134506226,\n",
       "  0.7515783309936523,\n",
       "  0.7530970573425293,\n",
       "  0.7550327777862549,\n",
       "  0.7541393637657166,\n",
       "  0.7579511404037476,\n",
       "  0.7561643719673157,\n",
       "  0.7587552070617676,\n",
       "  0.7571471333503723,\n",
       "  0.7623287439346313,\n",
       "  0.7602739930152893,\n",
       "  0.7626861333847046,\n",
       "  0.761703372001648,\n",
       "  0.764681339263916,\n",
       "  0.7624776363372803,\n",
       "  0.7661107778549194,\n",
       "  0.7650684714317322,\n",
       "  0.7653960585594177,\n",
       "  0.7681953310966492,\n",
       "  0.7696545720100403,\n",
       "  0.7703394889831543,\n",
       "  0.768612265586853,\n",
       "  0.77173912525177,\n",
       "  0.7676295638084412,\n",
       "  0.7731983065605164,\n",
       "  0.7727218866348267,\n",
       "  0.772692084312439,\n",
       "  0.7755807042121887,\n",
       "  0.7746277451515198,\n",
       "  0.773228108882904,\n",
       "  0.7754615545272827,\n",
       "  0.7740917205810547,\n",
       "  0.7757593989372253,\n",
       "  0.7790946960449219,\n",
       "  0.777992844581604,\n",
       "  0.7799285054206848,\n",
       "  0.7801965475082397,\n",
       "  0.7790351510047913,\n",
       "  0.7774866223335266,\n",
       "  0.7835914492607117,\n",
       "  0.7814174890518188,\n",
       "  0.7812983989715576,\n",
       "  0.7840678691864014,\n",
       "  0.7845741510391235,\n",
       "  0.7826980352401733,\n",
       "  0.7874032258987427,\n",
       "  0.7834722995758057,\n",
       "  0.7845741510391235,\n",
       "  0.7867183089256287,\n",
       "  0.7862418293952942,\n",
       "  0.7886241674423218,\n",
       "  0.7901131510734558,\n",
       "  0.7854079604148865],\n",
       " 'val_loss': [1.3898036479949951,\n",
       "  1.1767414808273315,\n",
       "  1.055870771408081,\n",
       "  0.9740368723869324,\n",
       "  0.9229391813278198,\n",
       "  0.8853641152381897,\n",
       "  0.857772707939148,\n",
       "  0.8300794959068298,\n",
       "  0.8109897375106812,\n",
       "  0.7913336753845215,\n",
       "  0.7776899933815002,\n",
       "  0.7631968259811401,\n",
       "  0.7475378513336182,\n",
       "  0.7353622317314148,\n",
       "  0.7260847091674805,\n",
       "  0.7152453064918518,\n",
       "  0.7055637836456299,\n",
       "  0.697417676448822,\n",
       "  0.6893602013587952,\n",
       "  0.6812732219696045,\n",
       "  0.6756519675254822,\n",
       "  0.670693576335907,\n",
       "  0.6623961925506592,\n",
       "  0.6574194431304932,\n",
       "  0.6503058075904846,\n",
       "  0.6473187208175659,\n",
       "  0.6425692439079285,\n",
       "  0.6374488472938538,\n",
       "  0.6335806250572205,\n",
       "  0.6301466822624207,\n",
       "  0.6273266077041626,\n",
       "  0.6233532428741455,\n",
       "  0.6185755133628845,\n",
       "  0.6176652908325195,\n",
       "  0.6124998331069946,\n",
       "  0.6118841767311096,\n",
       "  0.6057469248771667,\n",
       "  0.6047111749649048,\n",
       "  0.6018017530441284,\n",
       "  0.5972111225128174,\n",
       "  0.5939967632293701,\n",
       "  0.5903258323669434,\n",
       "  0.5885397791862488,\n",
       "  0.5842173099517822,\n",
       "  0.5834219455718994,\n",
       "  0.5799516439437866,\n",
       "  0.5778464078903198,\n",
       "  0.5751370787620544,\n",
       "  0.5739756226539612,\n",
       "  0.5693266987800598,\n",
       "  0.5680631995201111,\n",
       "  0.5663882493972778,\n",
       "  0.5638439059257507,\n",
       "  0.5638414025306702,\n",
       "  0.561543881893158,\n",
       "  0.558987021446228,\n",
       "  0.555927574634552,\n",
       "  0.5527582764625549,\n",
       "  0.5500320792198181,\n",
       "  0.5489075779914856,\n",
       "  0.5471897721290588,\n",
       "  0.5448213815689087,\n",
       "  0.5424888730049133,\n",
       "  0.5411054491996765,\n",
       "  0.5400378704071045,\n",
       "  0.5368545055389404,\n",
       "  0.5357818007469177,\n",
       "  0.5335686802864075,\n",
       "  0.5315688848495483,\n",
       "  0.5295095443725586,\n",
       "  0.529053270816803,\n",
       "  0.5264383554458618,\n",
       "  0.5242735147476196,\n",
       "  0.5223649144172668,\n",
       "  0.5209745168685913,\n",
       "  0.5193012356758118,\n",
       "  0.5167486667633057,\n",
       "  0.514746904373169,\n",
       "  0.5147297978401184,\n",
       "  0.5117077231407166,\n",
       "  0.512292206287384,\n",
       "  0.5105575323104858,\n",
       "  0.5084387063980103,\n",
       "  0.5068644285202026,\n",
       "  0.5049080848693848,\n",
       "  0.5023953318595886,\n",
       "  0.502068817615509,\n",
       "  0.49928879737854004,\n",
       "  0.4981127083301544,\n",
       "  0.49666979908943176,\n",
       "  0.49639180302619934,\n",
       "  0.49522385001182556,\n",
       "  0.49220535159111023,\n",
       "  0.49163419008255005,\n",
       "  0.49091336131095886,\n",
       "  0.48991283774375916,\n",
       "  0.48683255910873413,\n",
       "  0.48548558354377747,\n",
       "  0.4837919771671295,\n",
       "  0.483613520860672],\n",
       " 'val_accuracy': [0.44890424609184265,\n",
       "  0.5550261735916138,\n",
       "  0.6077893972396851,\n",
       "  0.6491186022758484,\n",
       "  0.6648404002189636,\n",
       "  0.6782991886138916,\n",
       "  0.6873511075973511,\n",
       "  0.6949738264083862,\n",
       "  0.7033110857009888,\n",
       "  0.7104573845863342,\n",
       "  0.7140305042266846,\n",
       "  0.7151024341583252,\n",
       "  0.7229633331298828,\n",
       "  0.732491672039032,\n",
       "  0.7346355319023132,\n",
       "  0.7408289909362793,\n",
       "  0.7429728507995605,\n",
       "  0.74595046043396,\n",
       "  0.747379720211029,\n",
       "  0.7539304494857788,\n",
       "  0.7542877793312073,\n",
       "  0.7583373188972473,\n",
       "  0.7595283389091492,\n",
       "  0.7607194185256958,\n",
       "  0.7642925381660461,\n",
       "  0.7665554881095886,\n",
       "  0.7671509981155396,\n",
       "  0.767508327960968,\n",
       "  0.7691758275032043,\n",
       "  0.7709623575210571,\n",
       "  0.7708432674407959,\n",
       "  0.7727489471435547,\n",
       "  0.7741782069206238,\n",
       "  0.7746546268463135,\n",
       "  0.7754883170127869,\n",
       "  0.7779895067214966,\n",
       "  0.7771558165550232,\n",
       "  0.7787041664123535,\n",
       "  0.778942346572876,\n",
       "  0.7816817760467529,\n",
       "  0.7827537059783936,\n",
       "  0.7832301259040833,\n",
       "  0.7833492159843445,\n",
       "  0.7854930758476257,\n",
       "  0.7856122255325317,\n",
       "  0.7856122255325317,\n",
       "  0.7860885858535767,\n",
       "  0.7887089252471924,\n",
       "  0.7887089252471924,\n",
       "  0.7910910248756409,\n",
       "  0.7914482951164246,\n",
       "  0.792401134967804,\n",
       "  0.7921629548072815,\n",
       "  0.7933539748191833,\n",
       "  0.7928775548934937,\n",
       "  0.7937113046646118,\n",
       "  0.7946641445159912,\n",
       "  0.7959742546081543,\n",
       "  0.7976417541503906,\n",
       "  0.7959742546081543,\n",
       "  0.7959742546081543,\n",
       "  0.798475444316864,\n",
       "  0.800500214099884,\n",
       "  0.8013339638710022,\n",
       "  0.8001429438591003,\n",
       "  0.8019294738769531,\n",
       "  0.803239643573761,\n",
       "  0.8027632236480713,\n",
       "  0.8045498132705688,\n",
       "  0.8057408332824707,\n",
       "  0.8041924834251404,\n",
       "  0.805264413356781,\n",
       "  0.8071700930595398,\n",
       "  0.8097903728485107,\n",
       "  0.8080037832260132,\n",
       "  0.8081229329109192,\n",
       "  0.8103858828544617,\n",
       "  0.8112196326255798,\n",
       "  0.8122915625572205,\n",
       "  0.8131253123283386,\n",
       "  0.8109813928604126,\n",
       "  0.812053382396698,\n",
       "  0.8141972422599792,\n",
       "  0.8149118423461914,\n",
       "  0.8163411021232605,\n",
       "  0.816698431968689,\n",
       "  0.814078152179718,\n",
       "  0.8168175220489502,\n",
       "  0.8178894519805908,\n",
       "  0.8176512718200684,\n",
       "  0.8177703619003296,\n",
       "  0.8168175220489502,\n",
       "  0.8196760416030884,\n",
       "  0.8190805315971375,\n",
       "  0.8181276917457581,\n",
       "  0.8193187117576599,\n",
       "  0.8217008113861084,\n",
       "  0.8233682513237,\n",
       "  0.8232491612434387,\n",
       "  0.8221772313117981]}"
      ]
     },
     "execution_count": 290,
     "metadata": {},
     "output_type": "execute_result"
    }
   ],
   "source": [
    "sport_train.history"
   ]
  },
  {
   "cell_type": "code",
   "execution_count": 291,
   "metadata": {
    "ExecuteTime": {
     "end_time": "2018-11-08T00:20:55.014647Z",
     "start_time": "2018-11-08T00:20:54.479693Z"
    },
    "scrolled": false
   },
   "outputs": [
    {
     "data": {
      "image/png": "[encoded data removed]",
      "text/plain": [
       "<Figure size 640x480 with 1 Axes>"
      ]
     },
     "metadata": {},
     "output_type": "display_data"
    },
    {
     "data": {
      "image/png": "[encoded data removed]",
      "text/plain": [
       "<Figure size 640x480 with 1 Axes>"
      ]
     },
     "metadata": {},
     "output_type": "display_data"
    }
   ],
   "source": [
    "accuracy = sport_train.history['accuracy']\n",
    "val_accuracy = sport_train.history['val_accuracy']\n",
    "loss = sport_train.history['loss']\n",
    "val_loss = sport_train.history['val_loss']\n",
    "epochs = range(len(accuracy))\n",
    "plt.plot(epochs, accuracy, 'bo', label='Training accuracy')\n",
    "plt.plot(epochs, val_accuracy, 'b', label='Validation accuracy')\n",
    "plt.title('Training and validation accuracy')\n",
    "plt.legend()\n",
    "plt.figure()\n",
    "plt.plot(epochs, loss, 'bo', label='Training loss')\n",
    "plt.plot(epochs, val_loss, 'b', label='Validation loss')\n",
    "plt.title('Training and validation loss')\n",
    "plt.legend()\n",
    "plt.show()"
   ]
  },
  {
   "cell_type": "code",
   "execution_count": 292,
   "metadata": {
    "ExecuteTime": {
     "end_time": "2018-11-08T00:20:58.050602Z",
     "start_time": "2018-11-08T00:20:55.021862Z"
    }
   },
   "outputs": [
    {
     "name": "stdout",
     "output_type": "stream",
     "text": [
      "328/328 [==============================] - 0s 1ms/step\n"
     ]
    }
   ],
   "source": [
    "predicted_classes2 = sport_model.predict(test_X)"
   ]
  },
  {
   "cell_type": "code",
   "execution_count": 293,
   "metadata": {
    "ExecuteTime": {
     "end_time": "2018-11-08T00:20:58.262575Z",
     "start_time": "2018-11-08T00:20:58.052878Z"
    }
   },
   "outputs": [],
   "source": [
    "predicted_classes=[]\n",
    "for predicted_sport in predicted_classes2:\n",
    "    predicted_classes.append(predicted_sport.tolist().index(max(predicted_sport)))\n",
    "predicted_classes=np.array(predicted_classes)"
   ]
  },
  {
   "cell_type": "code",
   "execution_count": 294,
   "metadata": {
    "ExecuteTime": {
     "end_time": "2018-11-08T00:20:58.272559Z",
     "start_time": "2018-11-08T00:20:58.264703Z"
    }
   },
   "outputs": [
    {
     "data": {
      "text/plain": [
       "((10494,), (10494,))"
      ]
     },
     "execution_count": 294,
     "metadata": {},
     "output_type": "execute_result"
    }
   ],
   "source": [
    "predicted_classes.shape, test_Y.shape"
   ]
  },
  {
   "cell_type": "markdown",
   "metadata": {},
   "source": [
    "# Aprendamos de los errores: Qué mejorar"
   ]
  },
  {
   "cell_type": "code",
   "execution_count": 295,
   "metadata": {
    "ExecuteTime": {
     "end_time": "2018-11-08T00:20:59.822110Z",
     "start_time": "2018-11-08T00:20:58.275464Z"
    }
   },
   "outputs": [
    {
     "name": "stdout",
     "output_type": "stream",
     "text": [
      "Found 8705 correct labels\n"
     ]
    },
    {
     "data": {
      "image/png": "[encoded data removed]",
      "text/plain": [
       "<Figure size 640x480 with 9 Axes>"
      ]
     },
     "metadata": {},
     "output_type": "display_data"
    }
   ],
   "source": [
    "correct = np.where(predicted_classes==test_Y)[0]\n",
    "print(\"Found %d correct labels\" % len(correct))\n",
    "for i, correct in enumerate(correct[0:9]):\n",
    "    plt.subplot(3,3,i+1)\n",
    "    plt.imshow(test_X[correct].reshape(28,28,3), cmap='gray', interpolation='none')\n",
    "    plt.title(\"{}, {}\".format(deportes[predicted_classes[correct]],\n",
    "                                                    deportes[test_Y[correct]]))\n",
    "\n",
    "    plt.tight_layout()"
   ]
  },
  {
   "cell_type": "code",
   "execution_count": 296,
   "metadata": {
    "ExecuteTime": {
     "end_time": "2018-11-08T00:21:00.942267Z",
     "start_time": "2018-11-08T00:20:59.829572Z"
    }
   },
   "outputs": [
    {
     "name": "stdout",
     "output_type": "stream",
     "text": [
      "Found 1789 incorrect labels\n"
     ]
    },
    {
     "data": {
      "image/png": "[encoded data removed]",
      "text/plain": [
       "<Figure size 640x480 with 9 Axes>"
      ]
     },
     "metadata": {},
     "output_type": "display_data"
    }
   ],
   "source": [
    "incorrect = np.where(predicted_classes!=test_Y)[0]\n",
    "print(\"Found %d incorrect labels\" % len(incorrect))\n",
    "for i, incorrect in enumerate(incorrect[0:9]):\n",
    "    plt.subplot(3,3,i+1)\n",
    "    plt.imshow(test_X[incorrect].reshape(28,28,3), cmap='gray', interpolation='none')\n",
    "    plt.title(\"{}, {}\".format(deportes[predicted_classes[incorrect]],\n",
    "                                                    deportes[test_Y[incorrect]]))\n",
    "    plt.tight_layout()"
   ]
  },
  {
   "cell_type": "code",
   "execution_count": 297,
   "metadata": {
    "ExecuteTime": {
     "end_time": "2018-11-08T00:21:00.968727Z",
     "start_time": "2018-11-08T00:21:00.947262Z"
    },
    "scrolled": true
   },
   "outputs": [
    {
     "name": "stdout",
     "output_type": "stream",
     "text": [
      "              precision    recall  f1-score   support\n",
      "\n",
      "     Class 0       0.78      0.75      0.77      1594\n",
      "     Class 1       0.91      0.90      0.91      2110\n",
      "     Class 2       0.77      0.74      0.75      2211\n",
      "     Class 3       0.90      0.96      0.93      2314\n",
      "     Class 4       0.77      0.78      0.78      2265\n",
      "\n",
      "    accuracy                           0.83     10494\n",
      "   macro avg       0.83      0.83      0.83     10494\n",
      "weighted avg       0.83      0.83      0.83     10494\n",
      "\n"
     ]
    }
   ],
   "source": [
    "target_names = [\"Class {}\".format(i) for i in range(nClasses)]\n",
    "print(classification_report(test_Y, predicted_classes, target_names=target_names))"
   ]
  },
  {
   "cell_type": "code",
   "execution_count": null,
   "metadata": {},
   "outputs": [],
   "source": []
  }
 ],
 "metadata": {
  "kernelspec": {
   "display_name": "Python 3 (ipykernel)",
   "language": "python",
   "name": "python3"
  },
  "language_info": {
   "codemirror_mode": {
    "name": "ipython",
    "version": 3
   },
   "file_extension": ".py",
   "mimetype": "text/x-python",
   "name": "python",
   "nbconvert_exporter": "python",
   "pygments_lexer": "ipython3",
   "version": "3.11.2"
  }
 },
 "nbformat": 4,
 "nbformat_minor": 2
}
