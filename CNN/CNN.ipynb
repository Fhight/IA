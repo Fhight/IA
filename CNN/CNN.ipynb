{
 "cells": [
  {
   "cell_type": "code",
   "execution_count": 298,
   "metadata": {
    "scrolled": true
   },
   "outputs": [
    {
     "name": "stdout",
     "output_type": "stream",
     "text": [
      "256 256 3 3\n"
     ]
    }
   ],
   "source": [
    "import cv2 \n",
    "\n",
    "img = cv2.imread('./Tulipan.jpg')\n",
    "print(img.shape[0], img.shape[1], img.shape[2], len(img.shape))"
   ]
  },
  {
   "cell_type": "markdown",
   "metadata": {},
   "source": [
    "# Convolutional Neural Networks"
   ]
  },
  {
   "cell_type": "markdown",
   "metadata": {},
   "source": []
  },
  {
   "cell_type": "markdown",
   "metadata": {},
   "source": [
    "# Importar Librerías"
   ]
  },
  {
   "cell_type": "code",
   "execution_count": 299,
   "metadata": {
    "ExecuteTime": {
     "end_time": "2018-11-08T00:12:59.231970Z",
     "start_time": "2018-11-08T00:12:51.800950Z"
    }
   },
   "outputs": [],
   "source": [
    "import numpy as np\n",
    "import os\n",
    "import re\n",
    "import matplotlib.pyplot as plt\n",
    "%matplotlib inline\n",
    "from sklearn.model_selection import train_test_split\n",
    "from sklearn.metrics import classification_report"
   ]
  },
  {
   "cell_type": "code",
   "execution_count": 300,
   "metadata": {
    "ExecuteTime": {
     "end_time": "2018-11-08T00:13:12.550878Z",
     "start_time": "2018-11-08T00:12:59.234748Z"
    },
    "scrolled": true
   },
   "outputs": [],
   "source": [
    "import keras\n",
    "import tensorflow as tf\n",
    "from tensorflow.keras.utils import to_categorical\n",
    "from keras.models import Sequential,Model\n",
    "from tensorflow.keras.layers import Input\n",
    "from keras.layers import Dense, Dropout, Flatten\n",
    "#from keras.layers import Conv2D, MaxPooling2D\n",
    "#from tensorflow.keras.models import Sequential\n",
    "from tensorflow.keras.layers import (\n",
    "    BatchNormalization, SeparableConv2D, MaxPooling2D, Activation, Flatten, Dropout, Dense, Conv2D\n",
    ")\n",
    "from keras.layers import LeakyReLU"
   ]
  },
  {
   "cell_type": "markdown",
   "metadata": {},
   "source": [
    "# Cargar set de Imágenes"
   ]
  },
  {
   "cell_type": "code",
   "execution_count": 301,
   "metadata": {
    "ExecuteTime": {
     "end_time": "2018-11-08T00:16:45.248080Z",
     "start_time": "2018-11-08T00:13:12.553292Z"
    },
    "scrolled": true
   },
   "outputs": [
    {
     "name": "stdout",
     "output_type": "stream",
     "text": [
      "leyendo imagenes de  E:\\Datsets\\Flores\\\n",
      "E:\\Datsets\\Flores\\astilbe 1\n",
      "E:\\Datsets\\Flores\\iris 7932\n",
      "E:\\Datsets\\Flores\\rose 10410\n",
      "E:\\Datsets\\Flores\\sunflower 11152\n",
      "E:\\Datsets\\Flores\\tulip 11640\n",
      "Directorios leidos: 5\n",
      "Imagenes en cada directorio [7933, 10410, 11152, 11640, 11335]\n",
      "suma Total de imagenes en subdirs: 52470\n"
     ]
    }
   ],
   "source": [
    "dirname = os.path.join(os.getcwd(),'E:\\Datsets\\Flores')\n",
    "imgpath = dirname + os.sep \n",
    "\n",
    "images = []\n",
    "directories = []\n",
    "dircount = []\n",
    "prevRoot=''\n",
    "cant=0\n",
    "\n",
    "print(\"leyendo imagenes de \",imgpath)\n",
    "\n",
    "for root, dirnames, filenames in os.walk(imgpath):\n",
    "    for filename in filenames:\n",
    "        if re.search(\"\\.(jpg|jpeg|png|bmp|tiff)$\", filename):\n",
    "            cant=cant+1\n",
    "            filepath = os.path.join(root, filename)\n",
    "            image = plt.imread(filepath)\n",
    "            if(len(image.shape)==3):\n",
    "                \n",
    "                images.append(image)\n",
    "            b = \"Leyendo...\" + str(cant)\n",
    "            print (b, end=\"\\r\")\n",
    "            if prevRoot !=root:\n",
    "                print(root, cant)\n",
    "                prevRoot=root\n",
    "                directories.append(root)\n",
    "                dircount.append(cant)\n",
    "                cant=0\n",
    "dircount.append(cant)\n",
    "\n",
    "dircount = dircount[1:]\n",
    "dircount[0]=dircount[0]+1\n",
    "print('Directorios leidos:',len(directories))\n",
    "print(\"Imagenes en cada directorio\", dircount)\n",
    "print('suma Total de imagenes en subdirs:',sum(dircount))"
   ]
  },
  {
   "cell_type": "markdown",
   "metadata": {},
   "source": [
    "# Creamos las etiquetas"
   ]
  },
  {
   "cell_type": "code",
   "execution_count": 302,
   "metadata": {
    "ExecuteTime": {
     "end_time": "2018-11-08T00:16:45.269861Z",
     "start_time": "2018-11-08T00:16:45.251786Z"
    }
   },
   "outputs": [
    {
     "name": "stdout",
     "output_type": "stream",
     "text": [
      "Cantidad etiquetas creadas:  52470\n"
     ]
    }
   ],
   "source": [
    "labels=[]\n",
    "indice=0\n",
    "for cantidad in dircount:\n",
    "    for i in range(cantidad):\n",
    "        labels.append(indice)\n",
    "    indice=indice+1\n",
    "print(\"Cantidad etiquetas creadas: \",len(labels))\n"
   ]
  },
  {
   "cell_type": "code",
   "execution_count": 303,
   "metadata": {
    "ExecuteTime": {
     "end_time": "2018-11-08T00:16:45.285925Z",
     "start_time": "2018-11-08T00:16:45.273489Z"
    }
   },
   "outputs": [
    {
     "name": "stdout",
     "output_type": "stream",
     "text": [
      "0 astilbe\n",
      "1 iris\n",
      "2 rose\n",
      "3 sunflower\n",
      "4 tulip\n"
     ]
    }
   ],
   "source": [
    "deportes=[]\n",
    "indice=0\n",
    "for directorio in directories:\n",
    "    name = directorio.split(os.sep)\n",
    "    print(indice , name[len(name)-1])\n",
    "    deportes.append(name[len(name)-1])\n",
    "    indice=indice+1"
   ]
  },
  {
   "cell_type": "code",
   "execution_count": 304,
   "metadata": {
    "ExecuteTime": {
     "end_time": "2018-11-08T00:16:45.498672Z",
     "start_time": "2018-11-08T00:16:45.290061Z"
    }
   },
   "outputs": [
    {
     "name": "stdout",
     "output_type": "stream",
     "text": [
      "Total number of outputs :  5\n",
      "Output classes :  [0 1 2 3 4]\n"
     ]
    }
   ],
   "source": [
    "images_resized = [cv2.resize(img, (28, 28)) for img in images]\n",
    "y = np.array(labels)\n",
    "X = np.array(images_resized, dtype=np.uint8) #convierto de lista a numpy\n",
    "\n",
    "\n",
    "\n",
    "# Find the unique numbers from the train labels\n",
    "classes = np.unique(y)\n",
    "nClasses = len(classes)\n",
    "print('Total number of outputs : ', nClasses)\n",
    "print('Output classes : ', classes)"
   ]
  },
  {
   "cell_type": "markdown",
   "metadata": {},
   "source": [
    "# Creamos Sets de Entrenamiento y Test"
   ]
  },
  {
   "cell_type": "code",
   "execution_count": 305,
   "metadata": {
    "ExecuteTime": {
     "end_time": "2018-11-08T00:16:45.669596Z",
     "start_time": "2018-11-08T00:16:45.502716Z"
    }
   },
   "outputs": [
    {
     "name": "stdout",
     "output_type": "stream",
     "text": [
      "Training data shape :  (41976, 28, 28, 3) (41976,)\n",
      "Testing data shape :  (10494, 28, 28, 3) (10494,)\n"
     ]
    }
   ],
   "source": [
    "train_X,test_X,train_Y,test_Y = train_test_split(X,y,test_size=0.2)\n",
    "print('Training data shape : ', train_X.shape, train_Y.shape)\n",
    "print('Testing data shape : ', test_X.shape, test_Y.shape)"
   ]
  },
  {
   "cell_type": "code",
   "execution_count": 306,
   "metadata": {
    "ExecuteTime": {
     "end_time": "2018-11-08T00:16:49.319746Z",
     "start_time": "2018-11-08T00:16:45.673944Z"
    }
   },
   "outputs": [
    {
     "data": {
      "text/plain": [
       "Text(0.5, 1.0, 'Ground Truth : 2')"
      ]
     },
     "execution_count": 306,
     "metadata": {},
     "output_type": "execute_result"
    },
    {
     "data": {
      "image/png": "[encoded data removed]",
      "text/plain": [
       "<Figure size 500x500 with 2 Axes>"
      ]
     },
     "metadata": {},
     "output_type": "display_data"
    }
   ],
   "source": [
    "plt.figure(figsize=[5,5])\n",
    "\n",
    "# Display the first image in training data\n",
    "plt.subplot(121)\n",
    "plt.imshow(train_X[0,:,:], cmap='gray')\n",
    "plt.title(\"Ground Truth : {}\".format(train_Y[0]))\n",
    "\n",
    "# Display the first image in testing data\n",
    "plt.subplot(122)\n",
    "plt.imshow(test_X[0,:,:], cmap='gray')\n",
    "plt.title(\"Ground Truth : {}\".format(test_Y[0]))"
   ]
  },
  {
   "cell_type": "markdown",
   "metadata": {},
   "source": [
    "# Preprocesamos las imagenes"
   ]
  },
  {
   "cell_type": "code",
   "execution_count": 307,
   "metadata": {
    "ExecuteTime": {
     "end_time": "2018-11-08T00:16:50.798162Z",
     "start_time": "2018-11-08T00:16:49.322999Z"
    }
   },
   "outputs": [
    {
     "data": {
      "text/plain": [
       "<matplotlib.image.AxesImage at 0x1f99f07dc90>"
      ]
     },
     "execution_count": 307,
     "metadata": {},
     "output_type": "execute_result"
    },
    {
     "data": {
      "image/png": "[encoded data removed]",
      "text/plain": [
       "<Figure size 640x480 with 1 Axes>"
      ]
     },
     "metadata": {},
     "output_type": "display_data"
    }
   ],
   "source": [
    "train_X = train_X.astype('float32')\n",
    "test_X = test_X.astype('float32')\n",
    "train_X = train_X/255.\n",
    "test_X = test_X/255.\n",
    "plt.imshow(test_X[0,:,:])"
   ]
  },
  {
   "cell_type": "markdown",
   "metadata": {},
   "source": [
    "## Hacemos el One-hot Encoding para la red"
   ]
  },
  {
   "cell_type": "code",
   "execution_count": 308,
   "metadata": {
    "ExecuteTime": {
     "end_time": "2018-11-08T00:16:50.815482Z",
     "start_time": "2018-11-08T00:16:50.800831Z"
    }
   },
   "outputs": [
    {
     "name": "stdout",
     "output_type": "stream",
     "text": [
      "Original label: 0\n",
      "After conversion to one-hot: [1. 0. 0. 0. 0.]\n"
     ]
    }
   ],
   "source": [
    "# Change the labels from categorical to one-hot encoding\n",
    "train_Y_one_hot = to_categorical(train_Y)\n",
    "test_Y_one_hot = to_categorical(test_Y)\n",
    "\n",
    "# Display the change for category label using one-hot encoding\n",
    "print('Original label:', train_Y[0])\n",
    "print('After conversion to one-hot:', train_Y_one_hot[0])"
   ]
  },
  {
   "cell_type": "markdown",
   "metadata": {},
   "source": [
    "# Creamos el Set de Entrenamiento y Validación"
   ]
  },
  {
   "cell_type": "code",
   "execution_count": 309,
   "metadata": {
    "ExecuteTime": {
     "end_time": "2018-11-08T00:16:51.218520Z",
     "start_time": "2018-11-08T00:16:50.818992Z"
    }
   },
   "outputs": [],
   "source": [
    "#Mezclar todo y crear los grupos de entrenamiento y testing\n",
    "train_X,valid_X,train_label,valid_label = train_test_split(train_X, train_Y_one_hot, test_size=0.2, random_state=13)"
   ]
  },
  {
   "cell_type": "code",
   "execution_count": 310,
   "metadata": {
    "ExecuteTime": {
     "end_time": "2018-11-08T00:16:51.228116Z",
     "start_time": "2018-11-08T00:16:51.222460Z"
    }
   },
   "outputs": [
    {
     "name": "stdout",
     "output_type": "stream",
     "text": [
      "(33580, 28, 28, 3) (8396, 28, 28, 3) (33580, 5) (8396, 5)\n"
     ]
    }
   ],
   "source": [
    "print(train_X.shape,valid_X.shape,train_label.shape,valid_label.shape)"
   ]
  },
  {
   "cell_type": "markdown",
   "metadata": {},
   "source": [
    "# Creamos el modelo de CNN"
   ]
  },
  {
   "cell_type": "code",
   "execution_count": 311,
   "metadata": {
    "ExecuteTime": {
     "end_time": "2018-11-08T00:16:51.244776Z",
     "start_time": "2018-11-08T00:16:51.238704Z"
    }
   },
   "outputs": [],
   "source": [
    "#declaramos variables con los parámetros de configuración de la red\n",
    "INIT_LR = 1e-3 # Valor inicial de learning rate. El valor 1e-3 corresponde con 0.001\n",
    "epochs = 150 # Cantidad de iteraciones completas al conjunto de imagenes de entrenamiento\n",
    "batch_size = 32 # cantidad de imágenes que se toman a la vez en memoria"
   ]
  },
  {
   "cell_type": "code",
   "execution_count": 312,
   "metadata": {
    "ExecuteTime": {
     "end_time": "2018-11-08T00:16:51.384131Z",
     "start_time": "2018-11-08T00:16:51.252188Z"
    }
   },
   "outputs": [],
   "source": [
    "sport_model = Sequential()\n",
    "sport_model.add(Conv2D(32, kernel_size=(3, 3),activation='linear',padding='same',input_shape=(28,28,3)))\n",
    "sport_model.add(LeakyReLU(alpha=0.1))\n",
    "sport_model.add(MaxPooling2D((2, 2),padding='same'))\n",
    "sport_model.add(Dropout(0.5))\n",
    "\n",
    "sport_model.add(Flatten())\n",
    "sport_model.add(Dense(32, activation='linear'))\n",
    "sport_model.add(LeakyReLU(alpha=0.1))\n",
    "sport_model.add(Dropout(0.5))\n",
    "sport_model.add(Dense(nClasses, activation='softmax'))"
   ]
  },
  {
   "cell_type": "code",
   "execution_count": 313,
   "metadata": {
    "ExecuteTime": {
     "end_time": "2018-11-08T00:16:51.401674Z",
     "start_time": "2018-11-08T00:16:51.386676Z"
    }
   },
   "outputs": [
    {
     "name": "stdout",
     "output_type": "stream",
     "text": [
      "Model: \"sequential_12\"\n",
      "_________________________________________________________________\n",
      " Layer (type)                Output Shape              Param #   \n",
      "=================================================================\n",
      " conv2d_12 (Conv2D)          (None, 28, 28, 32)        896       \n",
      "                                                                 \n",
      " leaky_re_lu_24 (LeakyReLU)  (None, 28, 28, 32)        0         \n",
      "                                                                 \n",
      " max_pooling2d_12 (MaxPooli  (None, 14, 14, 32)        0         \n",
      " ng2D)                                                           \n",
      "                                                                 \n",
      " dropout_24 (Dropout)        (None, 14, 14, 32)        0         \n",
      "                                                                 \n",
      " flatten_12 (Flatten)        (None, 6272)              0         \n",
      "                                                                 \n",
      " dense_24 (Dense)            (None, 32)                200736    \n",
      "                                                                 \n",
      " leaky_re_lu_25 (LeakyReLU)  (None, 32)                0         \n",
      "                                                                 \n",
      " dropout_25 (Dropout)        (None, 32)                0         \n",
      "                                                                 \n",
      " dense_25 (Dense)            (None, 5)                 165       \n",
      "                                                                 \n",
      "=================================================================\n",
      "Total params: 201797 (788.27 KB)\n",
      "Trainable params: 201797 (788.27 KB)\n",
      "Non-trainable params: 0 (0.00 Byte)\n",
      "_________________________________________________________________\n"
     ]
    }
   ],
   "source": [
    "sport_model.summary()"
   ]
  },
  {
   "cell_type": "code",
   "execution_count": 314,
   "metadata": {
    "ExecuteTime": {
     "end_time": "2018-11-08T00:16:51.472349Z",
     "start_time": "2018-11-08T00:16:51.406817Z"
    }
   },
   "outputs": [],
   "source": [
    "sport_model.compile(loss=keras.losses.categorical_crossentropy, optimizer=tf.keras.optimizers.legacy.SGD(learning_rate=INIT_LR, decay=INIT_LR / 100),metrics=['accuracy'])"
   ]
  },
  {
   "cell_type": "markdown",
   "metadata": {},
   "source": [
    "# Entrenamos el modelo: Aprende a clasificar imágenes"
   ]
  },
  {
   "cell_type": "code",
   "execution_count": 315,
   "metadata": {
    "ExecuteTime": {
     "end_time": "2018-11-08T00:20:49.562522Z",
     "start_time": "2018-11-08T00:16:51.474807Z"
    }
   },
   "outputs": [
    {
     "name": "stdout",
     "output_type": "stream",
     "text": [
      "Epoch 1/150\n"
     ]
    },
    {
     "name": "stdout",
     "output_type": "stream",
     "text": [
      "1050/1050 [==============================] - 7s 6ms/step - loss: 1.5142 - accuracy: 0.3287 - val_loss: 1.3443 - val_accuracy: 0.5130\n",
      "Epoch 2/150\n",
      "1050/1050 [==============================] - 6s 6ms/step - loss: 1.3262 - accuracy: 0.4473 - val_loss: 1.1524 - val_accuracy: 0.5654\n",
      "Epoch 3/150\n",
      "1050/1050 [==============================] - 6s 6ms/step - loss: 1.1987 - accuracy: 0.5097 - val_loss: 1.0269 - val_accuracy: 0.6273\n",
      "Epoch 4/150\n",
      "1050/1050 [==============================] - 6s 6ms/step - loss: 1.1151 - accuracy: 0.5565 - val_loss: 0.9511 - val_accuracy: 0.6581\n",
      "Epoch 5/150\n",
      "1050/1050 [==============================] - 6s 6ms/step - loss: 1.0551 - accuracy: 0.5813 - val_loss: 0.8985 - val_accuracy: 0.6795\n",
      "Epoch 6/150\n",
      "1050/1050 [==============================] - 6s 6ms/step - loss: 1.0150 - accuracy: 0.6015 - val_loss: 0.8603 - val_accuracy: 0.6929\n",
      "Epoch 7/150\n",
      "1050/1050 [==============================] - 6s 6ms/step - loss: 0.9814 - accuracy: 0.6189 - val_loss: 0.8341 - val_accuracy: 0.7010\n",
      "Epoch 8/150\n",
      "1050/1050 [==============================] - 6s 6ms/step - loss: 0.9565 - accuracy: 0.6352 - val_loss: 0.8115 - val_accuracy: 0.7132\n",
      "Epoch 9/150\n",
      "1050/1050 [==============================] - 6s 6ms/step - loss: 0.9289 - accuracy: 0.6446 - val_loss: 0.7912 - val_accuracy: 0.7188\n",
      "Epoch 10/150\n",
      "1050/1050 [==============================] - 6s 6ms/step - loss: 0.9134 - accuracy: 0.6496 - val_loss: 0.7730 - val_accuracy: 0.7262\n",
      "Epoch 11/150\n",
      "1050/1050 [==============================] - 6s 6ms/step - loss: 0.8934 - accuracy: 0.6612 - val_loss: 0.7564 - val_accuracy: 0.7288\n",
      "Epoch 12/150\n",
      "1050/1050 [==============================] - 6s 6ms/step - loss: 0.8811 - accuracy: 0.6658 - val_loss: 0.7445 - val_accuracy: 0.7358\n",
      "Epoch 13/150\n",
      "1050/1050 [==============================] - 6s 6ms/step - loss: 0.8648 - accuracy: 0.6783 - val_loss: 0.7305 - val_accuracy: 0.7393\n",
      "Epoch 14/150\n",
      "1050/1050 [==============================] - 6s 6ms/step - loss: 0.8485 - accuracy: 0.6818 - val_loss: 0.7182 - val_accuracy: 0.7433\n",
      "Epoch 15/150\n",
      "1050/1050 [==============================] - 6s 6ms/step - loss: 0.8383 - accuracy: 0.6869 - val_loss: 0.7115 - val_accuracy: 0.7467\n",
      "Epoch 16/150\n",
      "1050/1050 [==============================] - 6s 6ms/step - loss: 0.8251 - accuracy: 0.6907 - val_loss: 0.7014 - val_accuracy: 0.7505\n",
      "Epoch 17/150\n",
      "1050/1050 [==============================] - 6s 6ms/step - loss: 0.8180 - accuracy: 0.6957 - val_loss: 0.6923 - val_accuracy: 0.7515\n",
      "Epoch 18/150\n",
      "1050/1050 [==============================] - 6s 6ms/step - loss: 0.8124 - accuracy: 0.6960 - val_loss: 0.6838 - val_accuracy: 0.7558\n",
      "Epoch 19/150\n",
      "1050/1050 [==============================] - 6s 6ms/step - loss: 0.8029 - accuracy: 0.7004 - val_loss: 0.6768 - val_accuracy: 0.7557\n",
      "Epoch 20/150\n",
      "1050/1050 [==============================] - 6s 6ms/step - loss: 0.7948 - accuracy: 0.7070 - val_loss: 0.6716 - val_accuracy: 0.7585\n",
      "Epoch 21/150\n",
      "1050/1050 [==============================] - 6s 6ms/step - loss: 0.7899 - accuracy: 0.7067 - val_loss: 0.6659 - val_accuracy: 0.7623\n",
      "Epoch 22/150\n",
      "1050/1050 [==============================] - 6s 6ms/step - loss: 0.7825 - accuracy: 0.7090 - val_loss: 0.6576 - val_accuracy: 0.7629\n",
      "Epoch 23/150\n",
      "1050/1050 [==============================] - 6s 6ms/step - loss: 0.7763 - accuracy: 0.7128 - val_loss: 0.6551 - val_accuracy: 0.7644\n",
      "Epoch 24/150\n",
      "1050/1050 [==============================] - 6s 6ms/step - loss: 0.7691 - accuracy: 0.7135 - val_loss: 0.6491 - val_accuracy: 0.7673\n",
      "Epoch 25/150\n",
      "1050/1050 [==============================] - 6s 6ms/step - loss: 0.7667 - accuracy: 0.7181 - val_loss: 0.6457 - val_accuracy: 0.7708\n",
      "Epoch 26/150\n",
      "1050/1050 [==============================] - 6s 6ms/step - loss: 0.7619 - accuracy: 0.7162 - val_loss: 0.6384 - val_accuracy: 0.7699\n",
      "Epoch 27/150\n",
      "1050/1050 [==============================] - 6s 6ms/step - loss: 0.7548 - accuracy: 0.7202 - val_loss: 0.6344 - val_accuracy: 0.7733\n",
      "Epoch 28/150\n",
      "1050/1050 [==============================] - 6s 6ms/step - loss: 0.7519 - accuracy: 0.7217 - val_loss: 0.6307 - val_accuracy: 0.7742\n",
      "Epoch 29/150\n",
      "1050/1050 [==============================] - 6s 6ms/step - loss: 0.7456 - accuracy: 0.7238 - val_loss: 0.6250 - val_accuracy: 0.7769\n",
      "Epoch 30/150\n",
      "1050/1050 [==============================] - 6s 6ms/step - loss: 0.7404 - accuracy: 0.7219 - val_loss: 0.6227 - val_accuracy: 0.7772\n",
      "Epoch 31/150\n",
      "1050/1050 [==============================] - 6s 6ms/step - loss: 0.7341 - accuracy: 0.7271 - val_loss: 0.6176 - val_accuracy: 0.7797\n",
      "Epoch 32/150\n",
      "1050/1050 [==============================] - 6s 6ms/step - loss: 0.7312 - accuracy: 0.7284 - val_loss: 0.6134 - val_accuracy: 0.7800\n",
      "Epoch 33/150\n",
      "1050/1050 [==============================] - 6s 6ms/step - loss: 0.7297 - accuracy: 0.7294 - val_loss: 0.6116 - val_accuracy: 0.7813\n",
      "Epoch 34/150\n",
      "1050/1050 [==============================] - 6s 6ms/step - loss: 0.7252 - accuracy: 0.7309 - val_loss: 0.6102 - val_accuracy: 0.7835\n",
      "Epoch 35/150\n",
      "1050/1050 [==============================] - 6s 6ms/step - loss: 0.7244 - accuracy: 0.7339 - val_loss: 0.6048 - val_accuracy: 0.7829\n",
      "Epoch 36/150\n",
      "1050/1050 [==============================] - 6s 6ms/step - loss: 0.7189 - accuracy: 0.7326 - val_loss: 0.6033 - val_accuracy: 0.7841\n",
      "Epoch 37/150\n",
      "1050/1050 [==============================] - 6s 6ms/step - loss: 0.7136 - accuracy: 0.7365 - val_loss: 0.6007 - val_accuracy: 0.7856\n",
      "Epoch 38/150\n",
      "1050/1050 [==============================] - 6s 6ms/step - loss: 0.7122 - accuracy: 0.7345 - val_loss: 0.5954 - val_accuracy: 0.7868\n",
      "Epoch 39/150\n",
      "1050/1050 [==============================] - 6s 6ms/step - loss: 0.7066 - accuracy: 0.7394 - val_loss: 0.5929 - val_accuracy: 0.7879\n",
      "Epoch 40/150\n",
      "1050/1050 [==============================] - 6s 6ms/step - loss: 0.7083 - accuracy: 0.7367 - val_loss: 0.5900 - val_accuracy: 0.7881\n",
      "Epoch 41/150\n",
      "1050/1050 [==============================] - 6s 6ms/step - loss: 0.7025 - accuracy: 0.7399 - val_loss: 0.5871 - val_accuracy: 0.7899\n",
      "Epoch 42/150\n",
      "1050/1050 [==============================] - 6s 6ms/step - loss: 0.7021 - accuracy: 0.7385 - val_loss: 0.5854 - val_accuracy: 0.7910\n",
      "Epoch 43/150\n",
      "1050/1050 [==============================] - 6s 6ms/step - loss: 0.6943 - accuracy: 0.7437 - val_loss: 0.5824 - val_accuracy: 0.7923\n",
      "Epoch 44/150\n",
      "1050/1050 [==============================] - 6s 6ms/step - loss: 0.6961 - accuracy: 0.7400 - val_loss: 0.5827 - val_accuracy: 0.7937\n",
      "Epoch 45/150\n",
      "1050/1050 [==============================] - 6s 6ms/step - loss: 0.6944 - accuracy: 0.7444 - val_loss: 0.5813 - val_accuracy: 0.7926\n",
      "Epoch 46/150\n",
      "1050/1050 [==============================] - 6s 6ms/step - loss: 0.6909 - accuracy: 0.7397 - val_loss: 0.5789 - val_accuracy: 0.7919\n",
      "Epoch 47/150\n",
      "1050/1050 [==============================] - 6s 6ms/step - loss: 0.6895 - accuracy: 0.7444 - val_loss: 0.5747 - val_accuracy: 0.7950\n",
      "Epoch 48/150\n",
      "1050/1050 [==============================] - 6s 6ms/step - loss: 0.6873 - accuracy: 0.7430 - val_loss: 0.5708 - val_accuracy: 0.7949\n",
      "Epoch 49/150\n",
      "1050/1050 [==============================] - 6s 6ms/step - loss: 0.6865 - accuracy: 0.7473 - val_loss: 0.5724 - val_accuracy: 0.7973\n",
      "Epoch 50/150\n",
      "1050/1050 [==============================] - 6s 6ms/step - loss: 0.6813 - accuracy: 0.7454 - val_loss: 0.5682 - val_accuracy: 0.7981\n",
      "Epoch 51/150\n",
      "1050/1050 [==============================] - 6s 6ms/step - loss: 0.6789 - accuracy: 0.7484 - val_loss: 0.5665 - val_accuracy: 0.7970\n",
      "Epoch 52/150\n",
      "1050/1050 [==============================] - 6s 6ms/step - loss: 0.6750 - accuracy: 0.7497 - val_loss: 0.5613 - val_accuracy: 0.7984\n",
      "Epoch 53/150\n",
      "1050/1050 [==============================] - 6s 6ms/step - loss: 0.6709 - accuracy: 0.7518 - val_loss: 0.5584 - val_accuracy: 0.7998\n",
      "Epoch 54/150\n",
      "1050/1050 [==============================] - 6s 6ms/step - loss: 0.6692 - accuracy: 0.7515 - val_loss: 0.5575 - val_accuracy: 0.8011\n",
      "Epoch 55/150\n",
      "1050/1050 [==============================] - 6s 6ms/step - loss: 0.6718 - accuracy: 0.7484 - val_loss: 0.5546 - val_accuracy: 0.8007\n",
      "Epoch 56/150\n",
      "1050/1050 [==============================] - 6s 6ms/step - loss: 0.6697 - accuracy: 0.7518 - val_loss: 0.5517 - val_accuracy: 0.8003\n",
      "Epoch 57/150\n",
      "1050/1050 [==============================] - 6s 6ms/step - loss: 0.6682 - accuracy: 0.7546 - val_loss: 0.5499 - val_accuracy: 0.8015\n",
      "Epoch 58/150\n",
      "1050/1050 [==============================] - 6s 6ms/step - loss: 0.6615 - accuracy: 0.7539 - val_loss: 0.5492 - val_accuracy: 0.8012\n",
      "Epoch 59/150\n",
      "1050/1050 [==============================] - 6s 6ms/step - loss: 0.6589 - accuracy: 0.7542 - val_loss: 0.5464 - val_accuracy: 0.8020\n",
      "Epoch 60/150\n",
      "1050/1050 [==============================] - 7s 7ms/step - loss: 0.6554 - accuracy: 0.7575 - val_loss: 0.5443 - val_accuracy: 0.8057\n",
      "Epoch 61/150\n",
      "1050/1050 [==============================] - 7s 7ms/step - loss: 0.6578 - accuracy: 0.7582 - val_loss: 0.5427 - val_accuracy: 0.8040\n",
      "Epoch 62/150\n",
      "1050/1050 [==============================] - 6s 6ms/step - loss: 0.6571 - accuracy: 0.7546 - val_loss: 0.5406 - val_accuracy: 0.8042\n",
      "Epoch 63/150\n",
      "1050/1050 [==============================] - 6s 6ms/step - loss: 0.6493 - accuracy: 0.7594 - val_loss: 0.5383 - val_accuracy: 0.8054\n",
      "Epoch 64/150\n",
      "1050/1050 [==============================] - 6s 6ms/step - loss: 0.6481 - accuracy: 0.7590 - val_loss: 0.5369 - val_accuracy: 0.8074\n",
      "Epoch 65/150\n",
      "1050/1050 [==============================] - 6s 6ms/step - loss: 0.6504 - accuracy: 0.7603 - val_loss: 0.5345 - val_accuracy: 0.8068\n",
      "Epoch 66/150\n",
      "1050/1050 [==============================] - 6s 6ms/step - loss: 0.6452 - accuracy: 0.7572 - val_loss: 0.5320 - val_accuracy: 0.8071\n",
      "Epoch 67/150\n",
      "1050/1050 [==============================] - 6s 6ms/step - loss: 0.6409 - accuracy: 0.7616 - val_loss: 0.5298 - val_accuracy: 0.8080\n",
      "Epoch 68/150\n",
      "1050/1050 [==============================] - 6s 6ms/step - loss: 0.6400 - accuracy: 0.7599 - val_loss: 0.5301 - val_accuracy: 0.8088\n",
      "Epoch 69/150\n",
      "1050/1050 [==============================] - 6s 6ms/step - loss: 0.6390 - accuracy: 0.7618 - val_loss: 0.5317 - val_accuracy: 0.8097\n",
      "Epoch 70/150\n",
      "1050/1050 [==============================] - 6s 6ms/step - loss: 0.6371 - accuracy: 0.7645 - val_loss: 0.5261 - val_accuracy: 0.8099\n",
      "Epoch 71/150\n",
      "1050/1050 [==============================] - 6s 6ms/step - loss: 0.6329 - accuracy: 0.7666 - val_loss: 0.5238 - val_accuracy: 0.8116\n",
      "Epoch 72/150\n",
      "1050/1050 [==============================] - 6s 6ms/step - loss: 0.6380 - accuracy: 0.7633 - val_loss: 0.5217 - val_accuracy: 0.8097\n",
      "Epoch 73/150\n",
      "1050/1050 [==============================] - 6s 6ms/step - loss: 0.6307 - accuracy: 0.7684 - val_loss: 0.5204 - val_accuracy: 0.8125\n",
      "Epoch 74/150\n",
      "1050/1050 [==============================] - 6s 6ms/step - loss: 0.6320 - accuracy: 0.7658 - val_loss: 0.5171 - val_accuracy: 0.8121\n",
      "Epoch 75/150\n",
      "1050/1050 [==============================] - 6s 6ms/step - loss: 0.6289 - accuracy: 0.7668 - val_loss: 0.5159 - val_accuracy: 0.8116\n",
      "Epoch 76/150\n",
      "1050/1050 [==============================] - 6s 6ms/step - loss: 0.6277 - accuracy: 0.7669 - val_loss: 0.5143 - val_accuracy: 0.8137\n",
      "Epoch 77/150\n",
      "1050/1050 [==============================] - 6s 6ms/step - loss: 0.6262 - accuracy: 0.7673 - val_loss: 0.5146 - val_accuracy: 0.8126\n",
      "Epoch 78/150\n",
      "1050/1050 [==============================] - 6s 6ms/step - loss: 0.6254 - accuracy: 0.7673 - val_loss: 0.5118 - val_accuracy: 0.8137\n",
      "Epoch 79/150\n",
      "1050/1050 [==============================] - 6s 6ms/step - loss: 0.6186 - accuracy: 0.7701 - val_loss: 0.5097 - val_accuracy: 0.8150\n",
      "Epoch 80/150\n",
      "1050/1050 [==============================] - 6s 6ms/step - loss: 0.6184 - accuracy: 0.7689 - val_loss: 0.5086 - val_accuracy: 0.8149\n",
      "Epoch 81/150\n",
      "1050/1050 [==============================] - 6s 6ms/step - loss: 0.6167 - accuracy: 0.7708 - val_loss: 0.5094 - val_accuracy: 0.8180\n",
      "Epoch 82/150\n",
      "1050/1050 [==============================] - 6s 6ms/step - loss: 0.6195 - accuracy: 0.7697 - val_loss: 0.5057 - val_accuracy: 0.8173\n",
      "Epoch 83/150\n",
      "1050/1050 [==============================] - 6s 6ms/step - loss: 0.6160 - accuracy: 0.7718 - val_loss: 0.5058 - val_accuracy: 0.8194\n",
      "Epoch 84/150\n",
      "1050/1050 [==============================] - 6s 6ms/step - loss: 0.6147 - accuracy: 0.7725 - val_loss: 0.5028 - val_accuracy: 0.8175\n",
      "Epoch 85/150\n",
      "1050/1050 [==============================] - 6s 6ms/step - loss: 0.6134 - accuracy: 0.7716 - val_loss: 0.5016 - val_accuracy: 0.8198\n",
      "Epoch 86/150\n",
      "1050/1050 [==============================] - 6s 6ms/step - loss: 0.6088 - accuracy: 0.7749 - val_loss: 0.4974 - val_accuracy: 0.8203\n",
      "Epoch 87/150\n",
      "1050/1050 [==============================] - 6s 6ms/step - loss: 0.6127 - accuracy: 0.7737 - val_loss: 0.4984 - val_accuracy: 0.8213\n",
      "Epoch 88/150\n",
      "1050/1050 [==============================] - 6s 6ms/step - loss: 0.6048 - accuracy: 0.7731 - val_loss: 0.4959 - val_accuracy: 0.8205\n",
      "Epoch 89/150\n",
      "1050/1050 [==============================] - 6s 6ms/step - loss: 0.6093 - accuracy: 0.7762 - val_loss: 0.4941 - val_accuracy: 0.8227\n",
      "Epoch 90/150\n",
      "1050/1050 [==============================] - 6s 6ms/step - loss: 0.6069 - accuracy: 0.7771 - val_loss: 0.4931 - val_accuracy: 0.8232\n",
      "Epoch 91/150\n",
      "1050/1050 [==============================] - 6s 6ms/step - loss: 0.6012 - accuracy: 0.7746 - val_loss: 0.4916 - val_accuracy: 0.8224\n",
      "Epoch 92/150\n",
      "1050/1050 [==============================] - 6s 6ms/step - loss: 0.6010 - accuracy: 0.7771 - val_loss: 0.4886 - val_accuracy: 0.8236\n",
      "Epoch 93/150\n",
      "1050/1050 [==============================] - 6s 6ms/step - loss: 0.6027 - accuracy: 0.7767 - val_loss: 0.4878 - val_accuracy: 0.8242\n",
      "Epoch 94/150\n",
      "1050/1050 [==============================] - 6s 6ms/step - loss: 0.5973 - accuracy: 0.7815 - val_loss: 0.4872 - val_accuracy: 0.8246\n",
      "Epoch 95/150\n",
      "1050/1050 [==============================] - 6s 6ms/step - loss: 0.5959 - accuracy: 0.7787 - val_loss: 0.4865 - val_accuracy: 0.8254\n",
      "Epoch 96/150\n",
      "1050/1050 [==============================] - 6s 6ms/step - loss: 0.5965 - accuracy: 0.7818 - val_loss: 0.4854 - val_accuracy: 0.8259\n",
      "Epoch 97/150\n",
      "1050/1050 [==============================] - 6s 6ms/step - loss: 0.5968 - accuracy: 0.7786 - val_loss: 0.4821 - val_accuracy: 0.8261\n",
      "Epoch 98/150\n",
      "1050/1050 [==============================] - 6s 6ms/step - loss: 0.5930 - accuracy: 0.7798 - val_loss: 0.4852 - val_accuracy: 0.8263\n",
      "Epoch 99/150\n",
      "1050/1050 [==============================] - 6s 6ms/step - loss: 0.5891 - accuracy: 0.7804 - val_loss: 0.4813 - val_accuracy: 0.8275\n",
      "Epoch 100/150\n",
      "1050/1050 [==============================] - 6s 6ms/step - loss: 0.5920 - accuracy: 0.7789 - val_loss: 0.4788 - val_accuracy: 0.8277\n",
      "Epoch 101/150\n",
      "1050/1050 [==============================] - 6s 6ms/step - loss: 0.5913 - accuracy: 0.7804 - val_loss: 0.4794 - val_accuracy: 0.8281\n",
      "Epoch 102/150\n",
      "1050/1050 [==============================] - 6s 6ms/step - loss: 0.5884 - accuracy: 0.7820 - val_loss: 0.4759 - val_accuracy: 0.8283\n",
      "Epoch 103/150\n",
      "1050/1050 [==============================] - 6s 6ms/step - loss: 0.5874 - accuracy: 0.7814 - val_loss: 0.4753 - val_accuracy: 0.8280\n",
      "Epoch 104/150\n",
      "1050/1050 [==============================] - 6s 6ms/step - loss: 0.5847 - accuracy: 0.7824 - val_loss: 0.4737 - val_accuracy: 0.8300\n",
      "Epoch 105/150\n",
      "1050/1050 [==============================] - 6s 6ms/step - loss: 0.5843 - accuracy: 0.7840 - val_loss: 0.4728 - val_accuracy: 0.8302\n",
      "Epoch 106/150\n",
      "1050/1050 [==============================] - 6s 6ms/step - loss: 0.5805 - accuracy: 0.7827 - val_loss: 0.4712 - val_accuracy: 0.8290\n",
      "Epoch 107/150\n",
      "1050/1050 [==============================] - 6s 6ms/step - loss: 0.5805 - accuracy: 0.7842 - val_loss: 0.4699 - val_accuracy: 0.8305\n",
      "Epoch 108/150\n",
      "1050/1050 [==============================] - 6s 6ms/step - loss: 0.5815 - accuracy: 0.7833 - val_loss: 0.4698 - val_accuracy: 0.8321\n",
      "Epoch 109/150\n",
      "1050/1050 [==============================] - 6s 6ms/step - loss: 0.5823 - accuracy: 0.7851 - val_loss: 0.4662 - val_accuracy: 0.8322\n",
      "Epoch 110/150\n",
      "1050/1050 [==============================] - 6s 6ms/step - loss: 0.5753 - accuracy: 0.7884 - val_loss: 0.4653 - val_accuracy: 0.8323\n",
      "Epoch 111/150\n",
      "1050/1050 [==============================] - 6s 6ms/step - loss: 0.5744 - accuracy: 0.7880 - val_loss: 0.4654 - val_accuracy: 0.8319\n",
      "Epoch 112/150\n",
      "1050/1050 [==============================] - 6s 6ms/step - loss: 0.5743 - accuracy: 0.7884 - val_loss: 0.4637 - val_accuracy: 0.8322\n",
      "Epoch 113/150\n",
      "1050/1050 [==============================] - 6s 6ms/step - loss: 0.5743 - accuracy: 0.7882 - val_loss: 0.4643 - val_accuracy: 0.8322\n",
      "Epoch 114/150\n",
      "1050/1050 [==============================] - 6s 6ms/step - loss: 0.5707 - accuracy: 0.7875 - val_loss: 0.4618 - val_accuracy: 0.8325\n",
      "Epoch 115/150\n",
      "1050/1050 [==============================] - 6s 6ms/step - loss: 0.5731 - accuracy: 0.7887 - val_loss: 0.4595 - val_accuracy: 0.8343\n",
      "Epoch 116/150\n",
      "1050/1050 [==============================] - 6s 6ms/step - loss: 0.5696 - accuracy: 0.7920 - val_loss: 0.4583 - val_accuracy: 0.8346\n",
      "Epoch 117/150\n",
      "1050/1050 [==============================] - 6s 6ms/step - loss: 0.5682 - accuracy: 0.7908 - val_loss: 0.4574 - val_accuracy: 0.8353\n",
      "Epoch 118/150\n",
      "1050/1050 [==============================] - 6s 6ms/step - loss: 0.5664 - accuracy: 0.7906 - val_loss: 0.4550 - val_accuracy: 0.8361\n",
      "Epoch 119/150\n",
      "1050/1050 [==============================] - 6s 6ms/step - loss: 0.5629 - accuracy: 0.7914 - val_loss: 0.4553 - val_accuracy: 0.8353\n",
      "Epoch 120/150\n",
      "1050/1050 [==============================] - 6s 6ms/step - loss: 0.5658 - accuracy: 0.7917 - val_loss: 0.4529 - val_accuracy: 0.8355\n",
      "Epoch 121/150\n",
      "1050/1050 [==============================] - 6s 6ms/step - loss: 0.5616 - accuracy: 0.7894 - val_loss: 0.4528 - val_accuracy: 0.8383\n",
      "Epoch 122/150\n",
      "1050/1050 [==============================] - 6s 6ms/step - loss: 0.5663 - accuracy: 0.7907 - val_loss: 0.4513 - val_accuracy: 0.8373\n",
      "Epoch 123/150\n",
      "1050/1050 [==============================] - 6s 6ms/step - loss: 0.5577 - accuracy: 0.7943 - val_loss: 0.4498 - val_accuracy: 0.8381\n",
      "Epoch 124/150\n",
      "1050/1050 [==============================] - 6s 6ms/step - loss: 0.5623 - accuracy: 0.7906 - val_loss: 0.4513 - val_accuracy: 0.8366\n",
      "Epoch 125/150\n",
      "1050/1050 [==============================] - 6s 6ms/step - loss: 0.5602 - accuracy: 0.7927 - val_loss: 0.4480 - val_accuracy: 0.8385\n",
      "Epoch 126/150\n",
      "1050/1050 [==============================] - 6s 6ms/step - loss: 0.5568 - accuracy: 0.7942 - val_loss: 0.4470 - val_accuracy: 0.8397\n",
      "Epoch 127/150\n",
      "1050/1050 [==============================] - 6s 6ms/step - loss: 0.5585 - accuracy: 0.7927 - val_loss: 0.4463 - val_accuracy: 0.8387\n",
      "Epoch 128/150\n",
      "1050/1050 [==============================] - 6s 6ms/step - loss: 0.5555 - accuracy: 0.7950 - val_loss: 0.4450 - val_accuracy: 0.8397\n",
      "Epoch 129/150\n",
      "1050/1050 [==============================] - 6s 6ms/step - loss: 0.5510 - accuracy: 0.7976 - val_loss: 0.4427 - val_accuracy: 0.8419\n",
      "Epoch 130/150\n",
      "1050/1050 [==============================] - 6s 6ms/step - loss: 0.5529 - accuracy: 0.7976 - val_loss: 0.4421 - val_accuracy: 0.8406\n",
      "Epoch 131/150\n",
      "1050/1050 [==============================] - 6s 6ms/step - loss: 0.5550 - accuracy: 0.7967 - val_loss: 0.4420 - val_accuracy: 0.8408\n",
      "Epoch 132/150\n",
      "1050/1050 [==============================] - 6s 6ms/step - loss: 0.5525 - accuracy: 0.7951 - val_loss: 0.4402 - val_accuracy: 0.8424\n",
      "Epoch 133/150\n",
      "1050/1050 [==============================] - 6s 6ms/step - loss: 0.5497 - accuracy: 0.7956 - val_loss: 0.4387 - val_accuracy: 0.8418\n",
      "Epoch 134/150\n",
      "1050/1050 [==============================] - 6s 6ms/step - loss: 0.5467 - accuracy: 0.7989 - val_loss: 0.4365 - val_accuracy: 0.8437\n",
      "Epoch 135/150\n",
      "1050/1050 [==============================] - 6s 6ms/step - loss: 0.5496 - accuracy: 0.8012 - val_loss: 0.4371 - val_accuracy: 0.8424\n",
      "Epoch 136/150\n",
      "1050/1050 [==============================] - 6s 6ms/step - loss: 0.5439 - accuracy: 0.7990 - val_loss: 0.4359 - val_accuracy: 0.8436\n",
      "Epoch 137/150\n",
      "1050/1050 [==============================] - 6s 6ms/step - loss: 0.5484 - accuracy: 0.7957 - val_loss: 0.4347 - val_accuracy: 0.8444\n",
      "Epoch 138/150\n",
      "1050/1050 [==============================] - 6s 6ms/step - loss: 0.5488 - accuracy: 0.7956 - val_loss: 0.4341 - val_accuracy: 0.8441\n",
      "Epoch 139/150\n",
      "1050/1050 [==============================] - 6s 6ms/step - loss: 0.5449 - accuracy: 0.7983 - val_loss: 0.4317 - val_accuracy: 0.8446\n",
      "Epoch 140/150\n",
      "1050/1050 [==============================] - 6s 6ms/step - loss: 0.5438 - accuracy: 0.7991 - val_loss: 0.4318 - val_accuracy: 0.8436\n",
      "Epoch 141/150\n",
      "1050/1050 [==============================] - 6s 6ms/step - loss: 0.5396 - accuracy: 0.8012 - val_loss: 0.4324 - val_accuracy: 0.8440\n",
      "Epoch 142/150\n",
      "1050/1050 [==============================] - 6s 6ms/step - loss: 0.5397 - accuracy: 0.8003 - val_loss: 0.4307 - val_accuracy: 0.8439\n",
      "Epoch 143/150\n",
      "1050/1050 [==============================] - 6s 6ms/step - loss: 0.5417 - accuracy: 0.8001 - val_loss: 0.4302 - val_accuracy: 0.8442\n",
      "Epoch 144/150\n",
      "1050/1050 [==============================] - 6s 6ms/step - loss: 0.5406 - accuracy: 0.8010 - val_loss: 0.4297 - val_accuracy: 0.8447\n",
      "Epoch 145/150\n",
      "1050/1050 [==============================] - 6s 6ms/step - loss: 0.5371 - accuracy: 0.8013 - val_loss: 0.4264 - val_accuracy: 0.8464\n",
      "Epoch 146/150\n",
      "1050/1050 [==============================] - 6s 6ms/step - loss: 0.5400 - accuracy: 0.7998 - val_loss: 0.4258 - val_accuracy: 0.8475\n",
      "Epoch 147/150\n",
      "1050/1050 [==============================] - 6s 6ms/step - loss: 0.5361 - accuracy: 0.8025 - val_loss: 0.4271 - val_accuracy: 0.8447\n",
      "Epoch 148/150\n",
      "1050/1050 [==============================] - 6s 6ms/step - loss: 0.5329 - accuracy: 0.8034 - val_loss: 0.4258 - val_accuracy: 0.8462\n",
      "Epoch 149/150\n",
      "1050/1050 [==============================] - 6s 6ms/step - loss: 0.5324 - accuracy: 0.8037 - val_loss: 0.4234 - val_accuracy: 0.8467\n",
      "Epoch 150/150\n",
      "1050/1050 [==============================] - 6s 6ms/step - loss: 0.5312 - accuracy: 0.8052 - val_loss: 0.4221 - val_accuracy: 0.8489\n"
     ]
    }
   ],
   "source": [
    "# este paso puede tomar varios minutos, dependiendo de tu ordenador, cpu y memoria ram libre\n",
    "sport_train = sport_model.fit(train_X, train_label, batch_size=batch_size,epochs=epochs,verbose=1,validation_data=(valid_X, valid_label))"
   ]
  },
  {
   "cell_type": "code",
   "execution_count": 316,
   "metadata": {
    "ExecuteTime": {
     "end_time": "2018-11-08T00:20:49.676566Z",
     "start_time": "2018-11-08T00:20:49.566203Z"
    }
   },
   "outputs": [
    {
     "name": "stdout",
     "output_type": "stream",
     "text": [
      "INFO:tensorflow:Assets written to: D:\\IA\\CNN\\Flores.h5py\\assets\n"
     ]
    },
    {
     "name": "stderr",
     "output_type": "stream",
     "text": [
      "INFO:tensorflow:Assets written to: D:\\IA\\CNN\\Flores.h5py\\assets\n"
     ]
    }
   ],
   "source": [
    "# guardamos la red, para reutilizarla en el futuro, sin tener que volver a entrenar\n",
    "sport_model.save(\"D:\\IA\\CNN\\Flores.h5py\")"
   ]
  },
  {
   "cell_type": "markdown",
   "metadata": {},
   "source": [
    "# Evaluamos la red"
   ]
  },
  {
   "cell_type": "code",
   "execution_count": 317,
   "metadata": {
    "ExecuteTime": {
     "end_time": "2018-11-08T00:20:54.462929Z",
     "start_time": "2018-11-08T00:20:49.678643Z"
    }
   },
   "outputs": [
    {
     "name": "stdout",
     "output_type": "stream",
     "text": [
      "328/328 [==============================] - 0s 1ms/step - loss: 0.4292 - accuracy: 0.8493\n"
     ]
    }
   ],
   "source": [
    "test_eval = sport_model.evaluate(test_X, test_Y_one_hot, verbose=1)"
   ]
  },
  {
   "cell_type": "code",
   "execution_count": 318,
   "metadata": {
    "ExecuteTime": {
     "end_time": "2018-11-08T00:20:54.474683Z",
     "start_time": "2018-11-08T00:20:54.465378Z"
    }
   },
   "outputs": [
    {
     "name": "stdout",
     "output_type": "stream",
     "text": [
      "Test loss: 0.4291709363460541\n",
      "Test accuracy: 0.8493424654006958\n"
     ]
    }
   ],
   "source": [
    "print('Test loss:', test_eval[0])\n",
    "print('Test accuracy:', test_eval[1])"
   ]
  },
  {
   "cell_type": "code",
   "execution_count": 319,
   "metadata": {},
   "outputs": [
    {
     "data": {
      "text/plain": [
       "{'loss': [1.5141884088516235,\n",
       "  1.3262284994125366,\n",
       "  1.1986825466156006,\n",
       "  1.115057349205017,\n",
       "  1.055098056793213,\n",
       "  1.0150142908096313,\n",
       "  0.9813607335090637,\n",
       "  0.9564545750617981,\n",
       "  0.9288645386695862,\n",
       "  0.9134129285812378,\n",
       "  0.8933781385421753,\n",
       "  0.8810509443283081,\n",
       "  0.8648410439491272,\n",
       "  0.8484583497047424,\n",
       "  0.8382871747016907,\n",
       "  0.8250591158866882,\n",
       "  0.8180076479911804,\n",
       "  0.8124011158943176,\n",
       "  0.8029149174690247,\n",
       "  0.7948278188705444,\n",
       "  0.7898556590080261,\n",
       "  0.7824995517730713,\n",
       "  0.7762663960456848,\n",
       "  0.7690668106079102,\n",
       "  0.766670286655426,\n",
       "  0.7619134783744812,\n",
       "  0.7548429369926453,\n",
       "  0.7518700957298279,\n",
       "  0.7455754280090332,\n",
       "  0.7403605580329895,\n",
       "  0.7341269850730896,\n",
       "  0.7311902046203613,\n",
       "  0.729689359664917,\n",
       "  0.7251706123352051,\n",
       "  0.7244356274604797,\n",
       "  0.7189416885375977,\n",
       "  0.7136425971984863,\n",
       "  0.7122319340705872,\n",
       "  0.7066164612770081,\n",
       "  0.7083138823509216,\n",
       "  0.7025259137153625,\n",
       "  0.7021293044090271,\n",
       "  0.6943289041519165,\n",
       "  0.6960893273353577,\n",
       "  0.6944197416305542,\n",
       "  0.6908649802207947,\n",
       "  0.6895111799240112,\n",
       "  0.6872639060020447,\n",
       "  0.6864559650421143,\n",
       "  0.6812890768051147,\n",
       "  0.6788787245750427,\n",
       "  0.6750056147575378,\n",
       "  0.6708667278289795,\n",
       "  0.6691763997077942,\n",
       "  0.6717693209648132,\n",
       "  0.6697261333465576,\n",
       "  0.6681936383247375,\n",
       "  0.6614534258842468,\n",
       "  0.6588708758354187,\n",
       "  0.6553987264633179,\n",
       "  0.6577903032302856,\n",
       "  0.6571267247200012,\n",
       "  0.6493015885353088,\n",
       "  0.6481497287750244,\n",
       "  0.6503869295120239,\n",
       "  0.6452272534370422,\n",
       "  0.6408681869506836,\n",
       "  0.640032172203064,\n",
       "  0.63901287317276,\n",
       "  0.6370777487754822,\n",
       "  0.6328983902931213,\n",
       "  0.6380404829978943,\n",
       "  0.6307157874107361,\n",
       "  0.6320192813873291,\n",
       "  0.6289267539978027,\n",
       "  0.6277415752410889,\n",
       "  0.6261847615242004,\n",
       "  0.6253923177719116,\n",
       "  0.618565559387207,\n",
       "  0.6183585524559021,\n",
       "  0.6167160868644714,\n",
       "  0.6194584965705872,\n",
       "  0.6160004138946533,\n",
       "  0.6147441864013672,\n",
       "  0.6133742332458496,\n",
       "  0.6088045239448547,\n",
       "  0.6127119064331055,\n",
       "  0.6048130989074707,\n",
       "  0.6093165874481201,\n",
       "  0.606946587562561,\n",
       "  0.6011550426483154,\n",
       "  0.6009936928749084,\n",
       "  0.6027481555938721,\n",
       "  0.5972645878791809,\n",
       "  0.5959481596946716,\n",
       "  0.5964834094047546,\n",
       "  0.5967741012573242,\n",
       "  0.5930143594741821,\n",
       "  0.5891280770301819,\n",
       "  0.5919933915138245,\n",
       "  0.5912718176841736,\n",
       "  0.5884028673171997,\n",
       "  0.587422788143158,\n",
       "  0.5847116708755493,\n",
       "  0.5843074917793274,\n",
       "  0.5805330276489258,\n",
       "  0.580496072769165,\n",
       "  0.5814899206161499,\n",
       "  0.5822648406028748,\n",
       "  0.5752977728843689,\n",
       "  0.5744256973266602,\n",
       "  0.5742831826210022,\n",
       "  0.5742564797401428,\n",
       "  0.5707198977470398,\n",
       "  0.573127806186676,\n",
       "  0.5696139931678772,\n",
       "  0.5681950449943542,\n",
       "  0.5664292573928833,\n",
       "  0.5629173517227173,\n",
       "  0.5658146142959595,\n",
       "  0.5615758895874023,\n",
       "  0.5663431882858276,\n",
       "  0.5577410459518433,\n",
       "  0.5622990727424622,\n",
       "  0.5601733326911926,\n",
       "  0.5567625761032104,\n",
       "  0.5585320591926575,\n",
       "  0.5555176138877869,\n",
       "  0.5510463714599609,\n",
       "  0.5529216527938843,\n",
       "  0.5550010800361633,\n",
       "  0.5524855852127075,\n",
       "  0.5497222542762756,\n",
       "  0.5467406511306763,\n",
       "  0.5495812892913818,\n",
       "  0.5439329147338867,\n",
       "  0.5483877658843994,\n",
       "  0.5487838983535767,\n",
       "  0.544878363609314,\n",
       "  0.5438294410705566,\n",
       "  0.5395839810371399,\n",
       "  0.5397318005561829,\n",
       "  0.5416956543922424,\n",
       "  0.5406163930892944,\n",
       "  0.537092924118042,\n",
       "  0.5400310158729553,\n",
       "  0.5360826253890991,\n",
       "  0.5329490900039673,\n",
       "  0.5324262380599976,\n",
       "  0.5312339663505554],\n",
       " 'accuracy': [0.328677773475647,\n",
       "  0.4473198354244232,\n",
       "  0.5097379684448242,\n",
       "  0.5564621686935425,\n",
       "  0.5812984108924866,\n",
       "  0.6014592051506042,\n",
       "  0.6189398169517517,\n",
       "  0.6351697444915771,\n",
       "  0.6445503234863281,\n",
       "  0.649583101272583,\n",
       "  0.6612269282341003,\n",
       "  0.6658427715301514,\n",
       "  0.678260862827301,\n",
       "  0.6817748546600342,\n",
       "  0.6869267225265503,\n",
       "  0.6907385587692261,\n",
       "  0.6956819295883179,\n",
       "  0.6960095167160034,\n",
       "  0.7003871202468872,\n",
       "  0.7069684267044067,\n",
       "  0.7066706418991089,\n",
       "  0.7089636921882629,\n",
       "  0.7128052115440369,\n",
       "  0.713460385799408,\n",
       "  0.718076229095459,\n",
       "  0.7161703109741211,\n",
       "  0.7202203869819641,\n",
       "  0.7217391133308411,\n",
       "  0.7237641215324402,\n",
       "  0.7219178080558777,\n",
       "  0.7270994782447815,\n",
       "  0.7284097671508789,\n",
       "  0.7293627262115479,\n",
       "  0.7308517098426819,\n",
       "  0.7338594198226929,\n",
       "  0.7326086759567261,\n",
       "  0.7364502549171448,\n",
       "  0.7344847917556763,\n",
       "  0.7393686771392822,\n",
       "  0.736688494682312,\n",
       "  0.7398748993873596,\n",
       "  0.7385348677635193,\n",
       "  0.7437164783477783,\n",
       "  0.7399940490722656,\n",
       "  0.74443119764328,\n",
       "  0.7397260069847107,\n",
       "  0.74443119764328,\n",
       "  0.7430315613746643,\n",
       "  0.7473496198654175,\n",
       "  0.7453543543815613,\n",
       "  0.748362123966217,\n",
       "  0.7497319579124451,\n",
       "  0.751757025718689,\n",
       "  0.7514591813087463,\n",
       "  0.748362123966217,\n",
       "  0.7518463134765625,\n",
       "  0.7545860409736633,\n",
       "  0.753930926322937,\n",
       "  0.7541691660881042,\n",
       "  0.7574746608734131,\n",
       "  0.7581893801689148,\n",
       "  0.7545860409736633,\n",
       "  0.759380578994751,\n",
       "  0.7589636445045471,\n",
       "  0.7603037357330322,\n",
       "  0.7571768760681152,\n",
       "  0.7615842819213867,\n",
       "  0.7599166035652161,\n",
       "  0.7617927193641663,\n",
       "  0.7644729018211365,\n",
       "  0.7666468024253845,\n",
       "  0.763311505317688,\n",
       "  0.7684335708618164,\n",
       "  0.765753448009491,\n",
       "  0.7667956948280334,\n",
       "  0.7669148445129395,\n",
       "  0.7672721743583679,\n",
       "  0.7673019766807556,\n",
       "  0.7701012492179871,\n",
       "  0.7688505053520203,\n",
       "  0.7708159685134888,\n",
       "  0.7697439193725586,\n",
       "  0.7717986702919006,\n",
       "  0.7724538445472717,\n",
       "  0.7715902328491211,\n",
       "  0.7749255299568176,\n",
       "  0.7736747860908508,\n",
       "  0.7731387615203857,\n",
       "  0.7762060761451721,\n",
       "  0.7770696878433228,\n",
       "  0.7745682001113892,\n",
       "  0.7770696878433228,\n",
       "  0.7766527533531189,\n",
       "  0.7815068364143372,\n",
       "  0.778677761554718,\n",
       "  0.7817748785018921,\n",
       "  0.7786480188369751,\n",
       "  0.7798094153404236,\n",
       "  0.7804049849510193,\n",
       "  0.7788564562797546,\n",
       "  0.7803752422332764,\n",
       "  0.7820131182670593,\n",
       "  0.7814472913742065,\n",
       "  0.7823704481124878,\n",
       "  0.7839785814285278,\n",
       "  0.782727837562561,\n",
       "  0.7842168211936951,\n",
       "  0.783293604850769,\n",
       "  0.785050630569458,\n",
       "  0.7884157299995422,\n",
       "  0.7880285978317261,\n",
       "  0.7883561849594116,\n",
       "  0.788177490234375,\n",
       "  0.787492573261261,\n",
       "  0.7886837124824524,\n",
       "  0.791989266872406,\n",
       "  0.7907683253288269,\n",
       "  0.7906491756439209,\n",
       "  0.7913936972618103,\n",
       "  0.7916914820671082,\n",
       "  0.7893984317779541,\n",
       "  0.7906789779663086,\n",
       "  0.7943418622016907,\n",
       "  0.7906491756439209,\n",
       "  0.7927337884902954,\n",
       "  0.7941929697990417,\n",
       "  0.7927337884902954,\n",
       "  0.7949970364570618,\n",
       "  0.7976176142692566,\n",
       "  0.7975878715515137,\n",
       "  0.796724259853363,\n",
       "  0.7950565814971924,\n",
       "  0.7955926060676575,\n",
       "  0.7988683581352234,\n",
       "  0.8011614084243774,\n",
       "  0.7989875078201294,\n",
       "  0.7957117557525635,\n",
       "  0.7956224083900452,\n",
       "  0.7983025908470154,\n",
       "  0.7991364002227783,\n",
       "  0.8011912107467651,\n",
       "  0.8002977967262268,\n",
       "  0.8001191020011902,\n",
       "  0.8010422587394714,\n",
       "  0.8013401031494141,\n",
       "  0.7997617721557617,\n",
       "  0.8024716973304749,\n",
       "  0.8033651113510132,\n",
       "  0.8037224411964417,\n",
       "  0.8052114248275757],\n",
       " 'val_loss': [1.3443247079849243,\n",
       "  1.1524450778961182,\n",
       "  1.0268895626068115,\n",
       "  0.9511129260063171,\n",
       "  0.8985034227371216,\n",
       "  0.8603272438049316,\n",
       "  0.8341115117073059,\n",
       "  0.8114691972732544,\n",
       "  0.7911503314971924,\n",
       "  0.7729922533035278,\n",
       "  0.7564055919647217,\n",
       "  0.7444537281990051,\n",
       "  0.7305073738098145,\n",
       "  0.7181726098060608,\n",
       "  0.7114853262901306,\n",
       "  0.7013627886772156,\n",
       "  0.6922562122344971,\n",
       "  0.683767557144165,\n",
       "  0.6767507195472717,\n",
       "  0.6716098785400391,\n",
       "  0.6658568978309631,\n",
       "  0.6575713753700256,\n",
       "  0.6550668478012085,\n",
       "  0.6490830779075623,\n",
       "  0.6457399725914001,\n",
       "  0.6384051442146301,\n",
       "  0.6344164609909058,\n",
       "  0.630657970905304,\n",
       "  0.6249653100967407,\n",
       "  0.6226502060890198,\n",
       "  0.6175709962844849,\n",
       "  0.6134138703346252,\n",
       "  0.6116490364074707,\n",
       "  0.6101883053779602,\n",
       "  0.6048249006271362,\n",
       "  0.6033380031585693,\n",
       "  0.600674569606781,\n",
       "  0.5953858494758606,\n",
       "  0.5928699970245361,\n",
       "  0.5899747014045715,\n",
       "  0.5870639085769653,\n",
       "  0.5853615403175354,\n",
       "  0.5823919773101807,\n",
       "  0.5827139019966125,\n",
       "  0.5813276767730713,\n",
       "  0.5789148211479187,\n",
       "  0.5747280120849609,\n",
       "  0.5708187818527222,\n",
       "  0.5724168419837952,\n",
       "  0.5682270526885986,\n",
       "  0.5664917826652527,\n",
       "  0.5612703561782837,\n",
       "  0.5584387183189392,\n",
       "  0.5574795603752136,\n",
       "  0.5546432137489319,\n",
       "  0.5517206192016602,\n",
       "  0.549869954586029,\n",
       "  0.5492361187934875,\n",
       "  0.5464374423027039,\n",
       "  0.5442774891853333,\n",
       "  0.5427262187004089,\n",
       "  0.5405858159065247,\n",
       "  0.5383167862892151,\n",
       "  0.5368664264678955,\n",
       "  0.5345278382301331,\n",
       "  0.5319843888282776,\n",
       "  0.5298417210578918,\n",
       "  0.5300833582878113,\n",
       "  0.5317481756210327,\n",
       "  0.5261374115943909,\n",
       "  0.5238260626792908,\n",
       "  0.5216561555862427,\n",
       "  0.5203601717948914,\n",
       "  0.5170884728431702,\n",
       "  0.5159009695053101,\n",
       "  0.5142584443092346,\n",
       "  0.5146452188491821,\n",
       "  0.5118453502655029,\n",
       "  0.5097150206565857,\n",
       "  0.5086442828178406,\n",
       "  0.5093663334846497,\n",
       "  0.5057210326194763,\n",
       "  0.5058481693267822,\n",
       "  0.5028175115585327,\n",
       "  0.501610517501831,\n",
       "  0.4973800480365753,\n",
       "  0.4983749985694885,\n",
       "  0.4958985149860382,\n",
       "  0.49413755536079407,\n",
       "  0.4930976331233978,\n",
       "  0.4916287958621979,\n",
       "  0.48860472440719604,\n",
       "  0.48784685134887695,\n",
       "  0.48719483613967896,\n",
       "  0.48647037148475647,\n",
       "  0.48537787795066833,\n",
       "  0.48205438256263733,\n",
       "  0.48520955443382263,\n",
       "  0.48129773139953613,\n",
       "  0.478750616312027,\n",
       "  0.4794095754623413,\n",
       "  0.47589072585105896,\n",
       "  0.47527608275413513,\n",
       "  0.4737192392349243,\n",
       "  0.47278136014938354,\n",
       "  0.4712347984313965,\n",
       "  0.46987780928611755,\n",
       "  0.46983036398887634,\n",
       "  0.46618613600730896,\n",
       "  0.465256929397583,\n",
       "  0.46541789174079895,\n",
       "  0.46366599202156067,\n",
       "  0.4643433392047882,\n",
       "  0.46184083819389343,\n",
       "  0.45945754647254944,\n",
       "  0.4583450257778168,\n",
       "  0.4574335813522339,\n",
       "  0.45496806502342224,\n",
       "  0.45528027415275574,\n",
       "  0.45286810398101807,\n",
       "  0.4527651071548462,\n",
       "  0.451308012008667,\n",
       "  0.4498477876186371,\n",
       "  0.45132315158843994,\n",
       "  0.4480065107345581,\n",
       "  0.4469872713088989,\n",
       "  0.44627946615219116,\n",
       "  0.4450177252292633,\n",
       "  0.44268104434013367,\n",
       "  0.44207122921943665,\n",
       "  0.4420340359210968,\n",
       "  0.44023004174232483,\n",
       "  0.4387429356575012,\n",
       "  0.4364639222621918,\n",
       "  0.437065064907074,\n",
       "  0.4358792304992676,\n",
       "  0.4346849322319031,\n",
       "  0.4340893030166626,\n",
       "  0.4316757321357727,\n",
       "  0.4318253993988037,\n",
       "  0.4324324131011963,\n",
       "  0.43068525195121765,\n",
       "  0.43015778064727783,\n",
       "  0.4297310709953308,\n",
       "  0.42637863755226135,\n",
       "  0.42583248019218445,\n",
       "  0.42705681920051575,\n",
       "  0.42583033442497253,\n",
       "  0.4234068989753723,\n",
       "  0.42211267352104187],\n",
       " 'val_accuracy': [0.5129823684692383,\n",
       "  0.5653882622718811,\n",
       "  0.6273225545883179,\n",
       "  0.6580514311790466,\n",
       "  0.6794902086257935,\n",
       "  0.6929489970207214,\n",
       "  0.7010481357574463,\n",
       "  0.7131967544555664,\n",
       "  0.7187946438789368,\n",
       "  0.7261791229248047,\n",
       "  0.7287994027137756,\n",
       "  0.7358266115188599,\n",
       "  0.7392805814743042,\n",
       "  0.743330180644989,\n",
       "  0.7466650605201721,\n",
       "  0.7504764199256897,\n",
       "  0.7515483498573303,\n",
       "  0.7558361291885376,\n",
       "  0.7557169795036316,\n",
       "  0.7584564089775085,\n",
       "  0.7622677683830261,\n",
       "  0.762863278388977,\n",
       "  0.7644116282463074,\n",
       "  0.7672701478004456,\n",
       "  0.7708432674407959,\n",
       "  0.7698904275894165,\n",
       "  0.7733444571495056,\n",
       "  0.7741782069206238,\n",
       "  0.776917576789856,\n",
       "  0.7771558165550232,\n",
       "  0.7796570062637329,\n",
       "  0.7800142765045166,\n",
       "  0.7813244462013245,\n",
       "  0.7834683060646057,\n",
       "  0.7828727960586548,\n",
       "  0.7840638160705566,\n",
       "  0.7856122255325317,\n",
       "  0.7868032455444336,\n",
       "  0.7878751754760742,\n",
       "  0.7881134152412415,\n",
       "  0.7898999452590942,\n",
       "  0.7909718751907349,\n",
       "  0.7922820448875427,\n",
       "  0.7937113046646118,\n",
       "  0.7926393747329712,\n",
       "  0.7919247150421143,\n",
       "  0.7950214147567749,\n",
       "  0.7949023246765137,\n",
       "  0.7972844243049622,\n",
       "  0.7981181740760803,\n",
       "  0.7970461845397949,\n",
       "  0.7983563542366028,\n",
       "  0.7997856140136719,\n",
       "  0.8010957837104797,\n",
       "  0.8007384538650513,\n",
       "  0.8002620339393616,\n",
       "  0.8014530539512634,\n",
       "  0.801214873790741,\n",
       "  0.8020486235618591,\n",
       "  0.8057408332824707,\n",
       "  0.8039542436599731,\n",
       "  0.8041924834251404,\n",
       "  0.8053835034370422,\n",
       "  0.8074082732200623,\n",
       "  0.8068127632141113,\n",
       "  0.8070510029792786,\n",
       "  0.8080037832260132,\n",
       "  0.8088375329971313,\n",
       "  0.8096712827682495,\n",
       "  0.809909462928772,\n",
       "  0.8115769624710083,\n",
       "  0.8096712827682495,\n",
       "  0.8125298023223877,\n",
       "  0.812053382396698,\n",
       "  0.8115769624710083,\n",
       "  0.8137208223342896,\n",
       "  0.8126488924026489,\n",
       "  0.8137208223342896,\n",
       "  0.8150309920310974,\n",
       "  0.8149118423461914,\n",
       "  0.8180086016654968,\n",
       "  0.8172939419746399,\n",
       "  0.8194378018379211,\n",
       "  0.8175321817398071,\n",
       "  0.8197951316833496,\n",
       "  0.8202715516090393,\n",
       "  0.8213434815406799,\n",
       "  0.8205097913742065,\n",
       "  0.8226536512374878,\n",
       "  0.8232491612434387,\n",
       "  0.8224154114723206,\n",
       "  0.8236064910888672,\n",
       "  0.8242020010948181,\n",
       "  0.8245593309402466,\n",
       "  0.82539302110672,\n",
       "  0.8258694410324097,\n",
       "  0.8261076807975769,\n",
       "  0.8263458609580994,\n",
       "  0.827536940574646,\n",
       "  0.8276560306549072,\n",
       "  0.8281324505805969,\n",
       "  0.8282515406608582,\n",
       "  0.8280133605003357,\n",
       "  0.8300381302833557,\n",
       "  0.8301572203636169,\n",
       "  0.8289662003517151,\n",
       "  0.8305145502090454,\n",
       "  0.8320629000663757,\n",
       "  0.832181990146637,\n",
       "  0.8323010802268982,\n",
       "  0.8319438099861145,\n",
       "  0.832181990146637,\n",
       "  0.832181990146637,\n",
       "  0.8325393199920654,\n",
       "  0.8343258500099182,\n",
       "  0.8345640897750854,\n",
       "  0.8352786898612976,\n",
       "  0.8361124396324158,\n",
       "  0.8352786898612976,\n",
       "  0.8355169296264648,\n",
       "  0.838256299495697,\n",
       "  0.8373034596443176,\n",
       "  0.8381372094154358,\n",
       "  0.8365888595581055,\n",
       "  0.8384945392608643,\n",
       "  0.8396855592727661,\n",
       "  0.8387327194213867,\n",
       "  0.8396855592727661,\n",
       "  0.8419485688209534,\n",
       "  0.8406383991241455,\n",
       "  0.8407574892044067,\n",
       "  0.8424249887466431,\n",
       "  0.8418294191360474,\n",
       "  0.8437350988388062,\n",
       "  0.8424249887466431,\n",
       "  0.8436160087585449,\n",
       "  0.8444497585296631,\n",
       "  0.8440924286842346,\n",
       "  0.8445688486099243,\n",
       "  0.8436160087585449,\n",
       "  0.8439733386039734,\n",
       "  0.8438541889190674,\n",
       "  0.8442115187644958,\n",
       "  0.8446879386901855,\n",
       "  0.8463553786277771,\n",
       "  0.8475464582443237,\n",
       "  0.8446879386901855,\n",
       "  0.8462362885475159,\n",
       "  0.8467127084732056,\n",
       "  0.8488566279411316]}"
      ]
     },
     "execution_count": 319,
     "metadata": {},
     "output_type": "execute_result"
    }
   ],
   "source": [
    "sport_train.history"
   ]
  },
  {
   "cell_type": "code",
   "execution_count": 320,
   "metadata": {
    "ExecuteTime": {
     "end_time": "2018-11-08T00:20:55.014647Z",
     "start_time": "2018-11-08T00:20:54.479693Z"
    },
    "scrolled": false
   },
   "outputs": [
    {
     "data": {
      "image/png": "[encoded data removed]",
      "text/plain": [
       "<Figure size 640x480 with 1 Axes>"
      ]
     },
     "metadata": {},
     "output_type": "display_data"
    },
    {
     "data": {
      "image/png": "[encoded data removed]",
      "text/plain": [
       "<Figure size 640x480 with 1 Axes>"
      ]
     },
     "metadata": {},
     "output_type": "display_data"
    }
   ],
   "source": [
    "accuracy = sport_train.history['accuracy']\n",
    "val_accuracy = sport_train.history['val_accuracy']\n",
    "loss = sport_train.history['loss']\n",
    "val_loss = sport_train.history['val_loss']\n",
    "epochs = range(len(accuracy))\n",
    "plt.plot(epochs, accuracy, 'bo', label='Training accuracy')\n",
    "plt.plot(epochs, val_accuracy, 'b', label='Validation accuracy')\n",
    "plt.title('Training and validation accuracy')\n",
    "plt.legend()\n",
    "plt.figure()\n",
    "plt.plot(epochs, loss, 'bo', label='Training loss')\n",
    "plt.plot(epochs, val_loss, 'b', label='Validation loss')\n",
    "plt.title('Training and validation loss')\n",
    "plt.legend()\n",
    "plt.show()"
   ]
  },
  {
   "cell_type": "code",
   "execution_count": 321,
   "metadata": {
    "ExecuteTime": {
     "end_time": "2018-11-08T00:20:58.050602Z",
     "start_time": "2018-11-08T00:20:55.021862Z"
    }
   },
   "outputs": [
    {
     "name": "stdout",
     "output_type": "stream",
     "text": [
      "328/328 [==============================] - 0s 1ms/step\n"
     ]
    }
   ],
   "source": [
    "predicted_classes2 = sport_model.predict(test_X)"
   ]
  },
  {
   "cell_type": "code",
   "execution_count": 322,
   "metadata": {
    "ExecuteTime": {
     "end_time": "2018-11-08T00:20:58.262575Z",
     "start_time": "2018-11-08T00:20:58.052878Z"
    }
   },
   "outputs": [],
   "source": [
    "predicted_classes=[]\n",
    "for predicted_sport in predicted_classes2:\n",
    "    predicted_classes.append(predicted_sport.tolist().index(max(predicted_sport)))\n",
    "predicted_classes=np.array(predicted_classes)"
   ]
  },
  {
   "cell_type": "code",
   "execution_count": 323,
   "metadata": {
    "ExecuteTime": {
     "end_time": "2018-11-08T00:20:58.272559Z",
     "start_time": "2018-11-08T00:20:58.264703Z"
    }
   },
   "outputs": [
    {
     "data": {
      "text/plain": [
       "((10494,), (10494,))"
      ]
     },
     "execution_count": 323,
     "metadata": {},
     "output_type": "execute_result"
    }
   ],
   "source": [
    "predicted_classes.shape, test_Y.shape"
   ]
  },
  {
   "cell_type": "markdown",
   "metadata": {},
   "source": [
    "# Aprendamos de los errores: Qué mejorar"
   ]
  },
  {
   "cell_type": "code",
   "execution_count": 324,
   "metadata": {
    "ExecuteTime": {
     "end_time": "2018-11-08T00:20:59.822110Z",
     "start_time": "2018-11-08T00:20:58.275464Z"
    }
   },
   "outputs": [
    {
     "name": "stdout",
     "output_type": "stream",
     "text": [
      "Found 8913 correct labels\n"
     ]
    },
    {
     "data": {
      "image/png": "[encoded data removed]",
      "text/plain": [
       "<Figure size 640x480 with 9 Axes>"
      ]
     },
     "metadata": {},
     "output_type": "display_data"
    }
   ],
   "source": [
    "correct = np.where(predicted_classes==test_Y)[0]\n",
    "print(\"Found %d correct labels\" % len(correct))\n",
    "for i, correct in enumerate(correct[0:9]):\n",
    "    plt.subplot(3,3,i+1)\n",
    "    plt.imshow(test_X[correct].reshape(28,28,3), cmap='gray', interpolation='none')\n",
    "    plt.title(\"{}, {}\".format(deportes[predicted_classes[correct]],\n",
    "                                                    deportes[test_Y[correct]]))\n",
    "\n",
    "    plt.tight_layout()"
   ]
  },
  {
   "cell_type": "code",
   "execution_count": 325,
   "metadata": {
    "ExecuteTime": {
     "end_time": "2018-11-08T00:21:00.942267Z",
     "start_time": "2018-11-08T00:20:59.829572Z"
    }
   },
   "outputs": [
    {
     "name": "stdout",
     "output_type": "stream",
     "text": [
      "Found 1581 incorrect labels\n"
     ]
    },
    {
     "data": {
      "image/png": "[encoded data removed]",
      "text/plain": [
       "<Figure size 640x480 with 9 Axes>"
      ]
     },
     "metadata": {},
     "output_type": "display_data"
    }
   ],
   "source": [
    "incorrect = np.where(predicted_classes!=test_Y)[0]\n",
    "print(\"Found %d incorrect labels\" % len(incorrect))\n",
    "for i, incorrect in enumerate(incorrect[0:9]):\n",
    "    plt.subplot(3,3,i+1)\n",
    "    plt.imshow(test_X[incorrect].reshape(28,28,3), cmap='gray', interpolation='none')\n",
    "    plt.title(\"{}, {}\".format(deportes[predicted_classes[incorrect]],\n",
    "                                                    deportes[test_Y[incorrect]]))\n",
    "    plt.tight_layout()"
   ]
  },
  {
   "cell_type": "code",
   "execution_count": 326,
   "metadata": {
    "ExecuteTime": {
     "end_time": "2018-11-08T00:21:00.968727Z",
     "start_time": "2018-11-08T00:21:00.947262Z"
    },
    "scrolled": true
   },
   "outputs": [
    {
     "name": "stdout",
     "output_type": "stream",
     "text": [
      "              precision    recall  f1-score   support\n",
      "\n",
      "     Class 0       0.80      0.79      0.79      1590\n",
      "     Class 1       0.93      0.92      0.93      2041\n",
      "     Class 2       0.77      0.78      0.77      2244\n",
      "     Class 3       0.92      0.96      0.94      2343\n",
      "     Class 4       0.82      0.78      0.80      2276\n",
      "\n",
      "    accuracy                           0.85     10494\n",
      "   macro avg       0.85      0.85      0.85     10494\n",
      "weighted avg       0.85      0.85      0.85     10494\n",
      "\n"
     ]
    }
   ],
   "source": [
    "target_names = [\"Class {}\".format(i) for i in range(nClasses)]\n",
    "print(classification_report(test_Y, predicted_classes, target_names=target_names))"
   ]
  },
  {
   "cell_type": "code",
   "execution_count": null,
   "metadata": {},
   "outputs": [],
   "source": []
  }
 ],
 "metadata": {
  "kernelspec": {
   "display_name": "Python 3 (ipykernel)",
   "language": "python",
   "name": "python3"
  },
  "language_info": {
   "codemirror_mode": {
    "name": "ipython",
    "version": 3
   },
   "file_extension": ".py",
   "mimetype": "text/x-python",
   "name": "python",
   "nbconvert_exporter": "python",
   "pygments_lexer": "ipython3",
   "version": "3.11.2"
  }
 },
 "nbformat": 4,
 "nbformat_minor": 2
}
