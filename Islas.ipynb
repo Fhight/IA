{
 "cells": [
  {
   "cell_type": "code",
   "execution_count": 1,
   "metadata": {},
   "outputs": [
    {
     "name": "stdout",
     "output_type": "stream",
     "text": [
      "Hay 7 islas\n",
      "Hay: 3 colores\n"
     ]
    }
   ],
   "source": [
    "# CONTADOR DE ISLAS ITERATIVO\n",
    "TABLERO = [\n",
    "  [0, 0, 0, 0, 0, 0, 0, 0, 0, 0],\n",
    "  [0, 1, 1, 0, 0, 0, 1, 1, 0, 0],\n",
    "  [0, 1, 1, 0, 0, 0, 1, 1, 0, 0],\n",
    "  [0, 0, 0, 0, 0, 0, 0, 0, 2, 0],\n",
    "  [0, 1, 0, 2, 2, 2, 0, 0, 2, 0],\n",
    "  [0, 1, 0, 2, 2, 2, 0, 0, 0, 0],\n",
    "  [0, 0, 0, 0, 2, 2, 0, 0, 0, 0],\n",
    "  [0, 3, 3, 0, 0, 0, 2, 2, 2, 0],\n",
    "  [0, 3, 3, 0, 0, 0, 2, 2, 0, 0],\n",
    "  [0, 0, 0, 0, 0, 0, 2, 2, 0, 0],\n",
    "]\n",
    "\n",
    "COLORES_ISLAS = []\n",
    "\n",
    "def islasIterativo(tablero, colores):\n",
    "    islas = 0\n",
    "    for i in range(len(tablero)):\n",
    "        for j in range(len(tablero[i])):\n",
    "            if tablero[i][j] != 0:\n",
    "                if tablero[i][j] not in colores:\n",
    "                    colores.append(tablero[i][j])\n",
    "                islas += 1\n",
    "                eliminar_isla(tablero, i, j)\n",
    "    return [islas, colores]\n",
    "\n",
    "def eliminar_isla(tablero, i, j):\n",
    "    if i < 0 or j < 0 or i >= len(tablero) or j >= len(tablero[i]):\n",
    "        return\n",
    "    if tablero[i][j] == 0:\n",
    "        return\n",
    "    tablero[i][j] = 0\n",
    "    eliminar_isla(tablero, i, j + 1)\n",
    "    eliminar_isla(tablero, i, j - 1)\n",
    "    eliminar_isla(tablero, i + 1, j)\n",
    "    eliminar_isla(tablero, i - 1, j)\n",
    "\n",
    "resultado = islasIterativo(TABLERO, COLORES_ISLAS)\n",
    "print(\"Hay\", resultado[0], \"islas\")\n",
    "print(\"Hay:\", resultado[1].__len__(), \"colores\")"
   ]
  },
  {
   "cell_type": "code",
   "execution_count": 2,
   "metadata": {},
   "outputs": [
    {
     "name": "stdout",
     "output_type": "stream",
     "text": [
      "Método recursivo\n",
      "Hay 7 islas\n",
      "Hay: 3 colores\n"
     ]
    }
   ],
   "source": [
    "# CONTADOR DE ISLAS RECURSIVO\n",
    "TABLERO = [\n",
    "  [0, 0, 0, 0, 0, 0, 0, 0, 0, 0],\n",
    "  [0, 1, 1, 0, 0, 0, 1, 1, 0, 0],\n",
    "  [0, 1, 1, 0, 0, 0, 1, 1, 0, 0],\n",
    "  [0, 0, 0, 0, 0, 0, 0, 0, 2, 0],\n",
    "  [0, 1, 0, 2, 2, 2, 0, 0, 2, 0],\n",
    "  [0, 1, 0, 2, 2, 2, 0, 0, 0, 0],\n",
    "  [0, 0, 0, 0, 2, 2, 0, 0, 0, 0],\n",
    "  [0, 3, 3, 0, 0, 0, 2, 2, 2, 0],\n",
    "  [0, 3, 3, 0, 0, 0, 2, 2, 0, 0],\n",
    "  [0, 0, 0, 0, 0, 0, 2, 2, 0, 0],\n",
    "]\n",
    "\n",
    "COLORES_ISLAS = []\n",
    "\n",
    "def islasRecursivo(tablero, colores):\n",
    "    def eliminar_isla(i, j):\n",
    "        if i < 0 or j < 0 or i >= len(tablero) or j >= len(tablero[i]):\n",
    "            return\n",
    "        if tablero[i][j] == 0:\n",
    "            return\n",
    "        tablero[i][j] = 0\n",
    "        eliminar_isla(i, j + 1)\n",
    "        eliminar_isla(i, j - 1)\n",
    "        eliminar_isla(i + 1, j)\n",
    "        eliminar_isla(i - 1, j)\n",
    "\n",
    "    def contar_islas(i, j):\n",
    "        if i < len(tablero):\n",
    "            if j < len(tablero[i]):\n",
    "                if tablero[i][j] != 0:\n",
    "                    if tablero[i][j] not in colores:\n",
    "                        colores.append(tablero[i][j])\n",
    "                    eliminar_isla(i, j)\n",
    "                    return 1 + contar_islas(i, j + 1)\n",
    "                else:\n",
    "                    return contar_islas(i, j + 1)\n",
    "            else:\n",
    "                return contar_islas(i + 1, 0)\n",
    "        else:\n",
    "            return 0\n",
    "\n",
    "    islas = contar_islas(0, 0)\n",
    "    return [islas, colores]\n",
    "\n",
    "resultado = islasRecursivo(TABLERO, COLORES_ISLAS)\n",
    "print(\"Método recursivo\")\n",
    "print(\"Hay\", resultado[0], \"islas\")\n",
    "print(\"Hay:\", resultado[1].__len__(), \"colores\")"
   ]
  }
 ],
 "metadata": {
  "kernelspec": {
   "display_name": "venv",
   "language": "python",
   "name": "python3"
  },
  "language_info": {
   "codemirror_mode": {
    "name": "ipython",
    "version": 3
   },
   "file_extension": ".py",
   "mimetype": "text/x-python",
   "name": "python",
   "nbconvert_exporter": "python",
   "pygments_lexer": "ipython3",
   "version": "3.11.2"
  }
 },
 "nbformat": 4,
 "nbformat_minor": 2
}
