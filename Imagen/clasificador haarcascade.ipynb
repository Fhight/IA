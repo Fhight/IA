{
 "cells": [
  {
   "cell_type": "markdown",
   "metadata": {},
   "source": [
    "https://github.com/opencv/opencv/tree/master/data/haarcascades\n",
    "\n",
    "https://opencv-python-tutroals.readthedocs.io/en/latest/py_tutorials/py_objdetect/py_face_detection/py_face_detection.html\n",
    "\n",
    "\n",
    "https://docs.opencv.org/2.4/doc/user_guide/ug_traincascade.html"
   ]
  },
  {
   "cell_type": "code",
   "execution_count": 1,
   "metadata": {},
   "outputs": [],
   "source": [
    "import numpy as np\n",
    "import cv2 as cv\n",
    "\n",
    "rostro = cv.CascadeClassifier('./datasetCubre/classifier/cascade.xml')"
   ]
  },
  {
   "cell_type": "code",
   "execution_count": 2,
   "metadata": {},
   "outputs": [
    {
     "ename": "KeyboardInterrupt",
     "evalue": "",
     "output_type": "error",
     "traceback": [
      "\u001b[1;31m---------------------------------------------------------------------------\u001b[0m",
      "\u001b[1;31mKeyboardInterrupt\u001b[0m                         Traceback (most recent call last)",
      "\u001b[1;32mc:\\Users\\jpabl\\IA\\Imagen\\clasificador haarcascade.ipynb Cell 3\u001b[0m line \u001b[0;36m8\n\u001b[0;32m      <a href='vscode-notebook-cell:/c%3A/Users/jpabl/IA/Imagen/clasificador%20haarcascade.ipynb#W2sZmlsZQ%3D%3D?line=5'>6</a>\u001b[0m ret, frame \u001b[39m=\u001b[39m cap\u001b[39m.\u001b[39mread()\n\u001b[0;32m      <a href='vscode-notebook-cell:/c%3A/Users/jpabl/IA/Imagen/clasificador%20haarcascade.ipynb#W2sZmlsZQ%3D%3D?line=6'>7</a>\u001b[0m gray \u001b[39m=\u001b[39m cv\u001b[39m.\u001b[39mcvtColor(frame, cv\u001b[39m.\u001b[39mCOLOR_BGR2GRAY)\n\u001b[1;32m----> <a href='vscode-notebook-cell:/c%3A/Users/jpabl/IA/Imagen/clasificador%20haarcascade.ipynb#W2sZmlsZQ%3D%3D?line=7'>8</a>\u001b[0m rostros \u001b[39m=\u001b[39m rostro\u001b[39m.\u001b[39;49mdetectMultiScale(gray, \u001b[39m1.3\u001b[39;49m, \u001b[39m5\u001b[39;49m)\n\u001b[0;32m      <a href='vscode-notebook-cell:/c%3A/Users/jpabl/IA/Imagen/clasificador%20haarcascade.ipynb#W2sZmlsZQ%3D%3D?line=8'>9</a>\u001b[0m \u001b[39mfor\u001b[39;00m(x, y, w, h) \u001b[39min\u001b[39;00m rostros:\n\u001b[0;32m     <a href='vscode-notebook-cell:/c%3A/Users/jpabl/IA/Imagen/clasificador%20haarcascade.ipynb#W2sZmlsZQ%3D%3D?line=9'>10</a>\u001b[0m     m\u001b[39m=\u001b[39m \u001b[39mint\u001b[39m(h\u001b[39m/\u001b[39m\u001b[39m2\u001b[39m)\n",
      "\u001b[1;31mKeyboardInterrupt\u001b[0m: "
     ]
    }
   ],
   "source": [
    "\n",
    "\n",
    "cap = cv.VideoCapture(0)\n",
    "x=y=w=h= 0 \n",
    "img = 0\n",
    "count = 0\n",
    "while True:\n",
    "    ret, frame = cap.read()\n",
    "    gray = cv.cvtColor(frame, cv.COLOR_BGR2GRAY)\n",
    "    rostros = rostro.detectMultiScale(gray, 1.3, 5)\n",
    "    for(x, y, w, h) in rostros:\n",
    "        m= int(h/2)\n",
    "        frame = cv.rectangle(frame, (x,y), (x+w, y+h), (0, 255, 0), 2)\n",
    "       # frame = cv.rectangle(frame, (x,y+m), (x+w, y+h), (255, 0 ,0), 2 )\n",
    "       # img = 180- frame[y:y+h,x:x+w]\n",
    "       # count = count + 1   \n",
    "    \n",
    "    #name = '/home/likcos/imgs/cara'+str(count)+'.jpg'\n",
    "    #cv.imwrite(name, frame)\n",
    "    cv.imshow('rostros', frame)\n",
    "    #cv.imshow('cara', img)\n",
    "    \n",
    "    k = cv.waitKey(1)\n",
    "    if k == 27:\n",
    "        break\n",
    "cap.release()\n",
    "cv.destroyAllWindows()\n",
    "    "
   ]
  },
  {
   "cell_type": "code",
   "execution_count": null,
   "metadata": {},
   "outputs": [
    {
     "data": {
      "text/plain": [
       "'/home/likcos/Programacion/Python/Notebooks'"
      ]
     },
     "execution_count": 14,
     "metadata": {},
     "output_type": "execute_result"
    }
   ],
   "source": [
    "pwd\n"
   ]
  },
  {
   "cell_type": "code",
   "execution_count": null,
   "metadata": {},
   "outputs": [],
   "source": []
  }
 ],
 "metadata": {
  "kernelspec": {
   "display_name": "Python 3",
   "language": "python",
   "name": "python3"
  },
  "language_info": {
   "codemirror_mode": {
    "name": "ipython",
    "version": 3
   },
   "file_extension": ".py",
   "mimetype": "text/x-python",
   "name": "python",
   "nbconvert_exporter": "python",
   "pygments_lexer": "ipython3",
   "version": "3.11.2"
  }
 },
 "nbformat": 4,
 "nbformat_minor": 4
}
