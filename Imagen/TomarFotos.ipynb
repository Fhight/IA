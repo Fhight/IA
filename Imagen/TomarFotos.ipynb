{
 "cells": [
  {
   "cell_type": "code",
   "execution_count": 1,
   "metadata": {},
   "outputs": [],
   "source": [
    "#Tomar fotos para el dataset, presionar s para guardar la imagen\n",
    "import numpy as np\n",
    "import cv2 as cv\n",
    "import math\n",
    "\n",
    "cap = cv.VideoCapture(0)\n",
    "i=0\n",
    "while True:\n",
    "    ret, frame = cap.read()\n",
    "\n",
    "    frame = cv.rectangle(frame, (100,100), (400, 400), (255,0,0), 1)\n",
    "    frame2 = frame[100:400, 100:400]\n",
    "\n",
    "    frame4 = cv.resize(frame, (1050,1630))    \n",
    "\n",
    "    frame5 = cv.resize(frame2, (780,540), interpolation= cv.INTER_LINEAR)\n",
    "\n",
    "    cv.imshow('frame', frame)\n",
    "    cv.imshow('dataset', frame2)\n",
    "    k = cv.waitKey(1)\n",
    "    if k == ord('p'):\n",
    "        i=i+1\n",
    "        cv.imwrite('D:/Descargas/Fotos/p/'+str(i)+'.jpg', frame2)\n",
    "    if k == ord('n'):\n",
    "        i=i+1\n",
    "        cv.imwrite('D:/Descargas/Fotos/n/'+str(i)+'.jpg', frame2)\n",
    "    if k == 27:\n",
    "        break\n",
    "\n",
    "cap.release()\n",
    "cv.destroyAllWindows()"
   ]
  },
  {
   "cell_type": "code",
   "execution_count": 38,
   "metadata": {},
   "outputs": [
    {
     "name": "stdout",
     "output_type": "stream",
     "text": [
      "Rotación completa.\n"
     ]
    }
   ],
   "source": [
    "from PIL import Image\n",
    "import os\n",
    "\n",
    "def rotar_y_guardar(input_folder, output_folder, angle, num_rotations):\n",
    "    # Asegurarse de que la carpeta de salida exista\n",
    "    if not os.path.exists(output_folder):\n",
    "        os.makedirs(output_folder)\n",
    "\n",
    "    # Obtener la lista de archivos en la carpeta de entrada\n",
    "    files = os.listdir(input_folder)\n",
    "\n",
    "    for file in files:\n",
    "        # Verificar si el archivo es una imagen JPG\n",
    "        if file.lower().endswith(('.jpg', '.jpeg')):\n",
    "            # Crear el camino completo para la imagen de entrada\n",
    "            input_path = os.path.join(input_folder, file)\n",
    "\n",
    "            # Abrir la imagen original\n",
    "            original_image = Image.open(input_path)\n",
    "\n",
    "            # Realizar las rotaciones especificadas\n",
    "            for i in range(num_rotations):\n",
    "                # Calcular el ángulo de rotación\n",
    "                rotation_angle = angle * (i + 1)\n",
    "\n",
    "                # Rotar la imagen\n",
    "                rotated_image = original_image.rotate(rotation_angle, resample=Image.BICUBIC)\n",
    "\n",
    "                # Crear el nombre de archivo para la imagen rotada\n",
    "                rotated_file = f\"{os.path.splitext(file)[0]}_rotated_5.jpg\"\n",
    "\n",
    "                # Crear el camino completo para la imagen de salida\n",
    "                output_path = os.path.join(output_folder, rotated_file)\n",
    "\n",
    "                # Guardar la imagen rotada\n",
    "                rotated_image.save(output_path)\n",
    "\n",
    "# Rutas de las carpetas de entrada y salida\n",
    "input_folder = \"E:/Datsets/Flores/astilbe/\"\n",
    "output_folder = \"E:/Datsets/Flores/rotar/\"\n",
    "\n",
    "# Ángulo de rotación en grados\n",
    "angle = -5\n",
    "\n",
    "# Número de rotaciones\n",
    "num_rotations = 5\n",
    "\n",
    "# Rotar imágenes y guardarlas en la carpeta de salida\n",
    "rotar_y_guardar(input_folder, output_folder, angle, num_rotations)\n",
    "\n",
    "print(\"Rotación completa.\")\n"
   ]
  }
 ],
 "metadata": {
  "kernelspec": {
   "display_name": "venv",
   "language": "python",
   "name": "python3"
  },
  "language_info": {
   "codemirror_mode": {
    "name": "ipython",
    "version": 3
   },
   "file_extension": ".py",
   "mimetype": "text/x-python",
   "name": "python",
   "nbconvert_exporter": "python",
   "pygments_lexer": "ipython3",
   "version": "3.11.2"
  }
 },
 "nbformat": 4,
 "nbformat_minor": 2
}
