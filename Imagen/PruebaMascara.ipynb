{
 "cells": [
  {
   "cell_type": "code",
   "execution_count": 6,
   "id": "f9e7215a-1710-4c87-9a8d-7971f1334307",
   "metadata": {},
   "outputs": [],
   "source": [
    "from keras.preprocessing.image import ImageDataGenerator\n",
    "import cv2\n",
    "from keras.optimizers import RMSprop\n",
    "from keras.models import Sequential\n",
    "from keras.layers import Conv2D, Input, ZeroPadding2D, BatchNormalization, Activation, MaxPooling2D, Flatten, Dense,Dropout\n",
    "from keras.models import Model, load_model\n",
    "from keras.callbacks import TensorBoard, ModelCheckpoint\n",
    "from sklearn.model_selection import train_test_split\n",
    "from sklearn.metrics import f1_score\n",
    "from sklearn.utils import shuffle\n",
    "import imutils\n",
    "import numpy as np"
   ]
  },
  {
   "cell_type": "code",
   "execution_count": 7,
   "id": "af2fc4e3-c379-4bac-9781-d09c1ce8c54c",
   "metadata": {},
   "outputs": [],
   "source": [
    "model = Sequential([\n",
    "    Conv2D(100, (3,3), activation='relu', input_shape=(150, 150, 3)),\n",
    "    MaxPooling2D(2,2),\n",
    "    \n",
    "    Conv2D(100, (3,3), activation='relu'),\n",
    "    MaxPooling2D(2,2),\n",
    "    \n",
    "    Flatten(),\n",
    "    Dropout(0.5),\n",
    "    Dense(50, activation='relu'),\n",
    "    Dense(2, activation='softmax')\n",
    "])\n",
    "model.compile(optimizer='adam', loss='binary_crossentropy', metrics=['acc'])"
   ]
  },
  {
   "cell_type": "code",
   "execution_count": 8,
   "id": "80826553-5658-4e7c-b2d0-809cbb84f31a",
   "metadata": {},
   "outputs": [
    {
     "name": "stdout",
     "output_type": "stream",
     "text": [
      "Found 1753 images belonging to 2 classes.\n",
      "Found 662 images belonging to 2 classes.\n"
     ]
    }
   ],
   "source": [
    "TRAINING_DIR = \"./Dataset/train/\"\n",
    "train_datagen = ImageDataGenerator(rescale=1.0/255,\n",
    "                                   rotation_range=40,\n",
    "                                   width_shift_range=0.2,\n",
    "                                   height_shift_range=0.2,\n",
    "                                   shear_range=0.2,\n",
    "                                   zoom_range=0.2,\n",
    "                                   horizontal_flip=True,\n",
    "                                   fill_mode='nearest')\n",
    "\n",
    "train_generator = train_datagen.flow_from_directory(TRAINING_DIR, \n",
    "                                                    batch_size=10, \n",
    "                                                    target_size=(150, 150))\n",
    "VALIDATION_DIR = \"./Dataset/test/\"\n",
    "validation_datagen = ImageDataGenerator(rescale=1.0/255)\n",
    "\n",
    "validation_generator = validation_datagen.flow_from_directory(VALIDATION_DIR, \n",
    "                                                         batch_size=10, \n",
    "                                                         target_size=(150, 150))"
   ]
  },
  {
   "cell_type": "code",
   "execution_count": 9,
   "id": "3223b920-117b-4ce2-bf4c-5888134218f0",
   "metadata": {},
   "outputs": [],
   "source": [
    "checkpoint = ModelCheckpoint('model2-{epoch:03d}.model',monitor='val_loss',verbose=0,save_best_only=True,mode='auto')"
   ]
  },
  {
   "cell_type": "code",
   "execution_count": 10,
   "id": "af39d0bc-61cf-40de-b832-ea8fbf9c651b",
   "metadata": {},
   "outputs": [
    {
     "name": "stdout",
     "output_type": "stream",
     "text": [
      "Epoch 1/11\n"
     ]
    },
    {
     "name": "stderr",
     "output_type": "stream",
     "text": [
      "C:\\Users\\jpabl\\AppData\\Local\\Temp\\ipykernel_55476\\1432735713.py:1: UserWarning: `Model.fit_generator` is deprecated and will be removed in a future version. Please use `Model.fit`, which supports generators.\n",
      "  hystory = model.fit_generator(train_generator, epochs=11, validation_data=validation_generator, callbacks=[checkpoint])\n"
     ]
    },
    {
     "name": "stdout",
     "output_type": "stream",
     "text": [
      "176/176 [==============================] - ETA: 0s - loss: 0.4696 - acc: 0.7695INFO:tensorflow:Assets written to: model2-001.model\\assets\n"
     ]
    },
    {
     "name": "stderr",
     "output_type": "stream",
     "text": [
      "INFO:tensorflow:Assets written to: model2-001.model\\assets\n"
     ]
    },
    {
     "name": "stdout",
     "output_type": "stream",
     "text": [
      "176/176 [==============================] - 19s 108ms/step - loss: 0.4696 - acc: 0.7695 - val_loss: 0.2526 - val_acc: 0.8912\n",
      "Epoch 2/11\n",
      "176/176 [==============================] - 17s 99ms/step - loss: 0.3407 - acc: 0.8625 - val_loss: 0.6004 - val_acc: 0.6858\n",
      "Epoch 3/11\n",
      "176/176 [==============================] - 17s 99ms/step - loss: 0.2675 - acc: 0.8973 - val_loss: 0.3567 - val_acc: 0.8218\n",
      "Epoch 4/11\n",
      "176/176 [==============================] - 17s 95ms/step - loss: 0.3112 - acc: 0.8802 - val_loss: 0.3476 - val_acc: 0.8323\n",
      "Epoch 5/11\n",
      "176/176 [==============================] - 17s 95ms/step - loss: 0.2433 - acc: 0.9002 - val_loss: 0.7800 - val_acc: 0.6782\n",
      "Epoch 6/11\n",
      "176/176 [==============================] - 17s 96ms/step - loss: 0.2536 - acc: 0.9036 - val_loss: 0.7869 - val_acc: 0.6979\n",
      "Epoch 7/11\n",
      "176/176 [==============================] - 17s 94ms/step - loss: 0.2113 - acc: 0.9161 - val_loss: 1.0462 - val_acc: 0.7205\n",
      "Epoch 8/11\n",
      "176/176 [==============================] - 17s 94ms/step - loss: 0.2069 - acc: 0.9247 - val_loss: 0.5745 - val_acc: 0.7598\n",
      "Epoch 9/11\n",
      "176/176 [==============================] - 17s 94ms/step - loss: 0.2066 - acc: 0.9264 - val_loss: 1.5171 - val_acc: 0.6420\n",
      "Epoch 10/11\n",
      "176/176 [==============================] - 17s 94ms/step - loss: 0.1797 - acc: 0.9315 - val_loss: 1.0186 - val_acc: 0.6858\n",
      "Epoch 11/11\n",
      "176/176 [==============================] - 17s 94ms/step - loss: 0.1798 - acc: 0.9333 - val_loss: 1.1851 - val_acc: 0.6677\n"
     ]
    }
   ],
   "source": [
    "hystory = model.fit_generator(train_generator, epochs=11, validation_data=validation_generator, callbacks=[checkpoint])"
   ]
  },
  {
   "cell_type": "code",
   "execution_count": null,
   "id": "7823e7e7-34fe-4047-8114-fea5f95d3fc4",
   "metadata": {},
   "outputs": [],
   "source": []
  }
 ],
 "metadata": {
  "kernelspec": {
   "display_name": "Python 3 (ipykernel)",
   "language": "python",
   "name": "python3"
  },
  "language_info": {
   "codemirror_mode": {
    "name": "ipython",
    "version": 3
   },
   "file_extension": ".py",
   "mimetype": "text/x-python",
   "name": "python",
   "nbconvert_exporter": "python",
   "pygments_lexer": "ipython3",
   "version": "3.11.2"
  }
 },
 "nbformat": 4,
 "nbformat_minor": 5
}
